{
 "cells": [
  {
   "attachments": {},
   "cell_type": "markdown",
   "metadata": {},
   "source": [
    "# Overview of Notebooks\n",
    "\n",
    "These notebooks are included to illustrate a hypothetical Machine Learning project created following best practices.\n",
    "\n",
    "The goal of this ML project is to predict the heat capacity of inorganic materials given the chemical composition and condition (the measurement temperature).\n",
    "We will use both classical ML models as well as neural networks.\n",
    "\n",
    "To do this, we must: \n",
    "1. Clean and process our dataset, removing obviously erroneous or empty values. \n",
    "1. Partition our data into train, validation, and test splits. \n",
    "1. Featurize our data, turning the chemical formulae into CBFVs.\n",
    "1. Train models on our data and assess the predictive power of the models.\n",
    "1. Compare the performance of the models fairly and reproducibly.\n",
    "1. Visualize the prediction results of the models.\n",
    "1. Share our models and enable others to reproduce your work and aid collaboration.\n",
    "\n",
    "\n",
    "If you require more information about how to use Jupyter notebooks, you can consult:\n",
    "* The main README file inside this repository: https://github.com/anthony-wang/BestPractices/blob/master/README.md\n",
    "* The official Jupyter Notebook documentation: https://jupyter-notebook.readthedocs.io/en/stable/notebook.html\n",
    "\n",
    "\n",
    "To read the main publication for which these notebooks are made, please see:\n",
    "\n",
    "Wang, Anthony Yu-Tung; Murdock, Ryan J.; Kauwe, Steven K.; Oliynyk, Anton O.; Gurlo, Aleksander; Brgoch, Jakoah; Persson, Kristin A.; Sparks, Taylor D., [Machine Learning for Materials Scientists: An Introductory Guide toward Best Practices](https://doi.org/10.1021/acs.chemmater.0c01907), *Chemistry of Materials* **Just Accepted Manuscript**, 2020. DOI: [10.1021/acs.chemmater.0c01907](https://doi.org/10.1021/acs.chemmater.0c01907)\n",
    "\n",
    "Please also consider citing the work if you choose to adopt or adapt the methods and concepts shown in these notebooks or in the publication:\n",
    "\n",
    "```bibtex\n",
    "@article{Wang2020bestpractices,\n",
    "    author = {Wang, Anthony Yu-Tung and Murdock, Ryan J. and Kauwe, Steven K. and Oliynyk, Anton O. and Gurlo, Aleksander and Brgoch, Jakoah and Persson, Kristin A. and Sparks, Taylor D.},\n",
    "    date = {2020},\n",
    "    title = {Machine Learning for Materials Scientists: An Introductory Guide toward Best Practices},\n",
    "    issn = {0897-4756},\n",
    "    journal = {Chemistry of Materials},\n",
    "    url = {https://doi.org/10.1021/acs.chemmater.0c01907},\n",
    "    doi = {10.1021/acs.chemmater.0c01907}\n",
    "}\n",
    "```\n"
   ]
  }
 ],
 "metadata": {
  "kernelspec": {
   "display_name": "course-book",
   "language": "python",
   "name": "python3"
  },
  "language_info": {
   "codemirror_mode": {
    "name": "ipython",
    "version": 3
   },
   "file_extension": ".py",
   "mimetype": "text/x-python",
   "name": "python",
   "nbconvert_exporter": "python",
   "pygments_lexer": "ipython3",
   "version": "3.9.15 | packaged by conda-forge | (main, Nov 22 2022, 08:41:22) [MSC v.1929 64 bit (AMD64)]"
  },
  "vscode": {
   "interpreter": {
    "hash": "89d7d07a18bc6bcfb9fd99f9d58ef662eeaa9759129ecdb773c42f07a9c126b5"
   }
  }
 },
 "nbformat": 4,
 "nbformat_minor": 4
}
