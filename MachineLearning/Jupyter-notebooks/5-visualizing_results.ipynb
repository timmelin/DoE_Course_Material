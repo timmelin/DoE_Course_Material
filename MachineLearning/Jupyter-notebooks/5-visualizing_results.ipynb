{
 "cells": [
  {
   "attachments": {},
   "cell_type": "markdown",
   "metadata": {},
   "source": [
    "# Visualizing results\n",
    "\n",
    "Here, we will show some typical examples of visualizations that are used often to show results in ML studies in materials science.\n",
    "\n",
    "We will use the open-source [`ML_figures` package](https://github.com/kaaiian/ML_figures) and the example data provided by the package to generate these figures."
   ]
  },
  {
   "cell_type": "code",
   "execution_count": null,
   "metadata": {},
   "outputs": [],
   "source": [
    "import os\n",
    "import numpy as np\n",
    "import pandas as pd\n",
    "import matplotlib.pyplot as plt\n",
    "%matplotlib inline\n",
    "%config InlineBackend.figure_format='retina'\n",
    "\n",
    "# Import the ML_figures package and the figure-plotting functions\n",
    "from ML_figures.figures import act_pred\n",
    "from ML_figures.figures import residual, residual_hist\n",
    "from ML_figures.figures import loss_curve\n",
    "from ML_figures.figures import element_prevalence"
   ]
  },
  {
   "attachments": {},
   "cell_type": "markdown",
   "metadata": {},
   "source": [
    "## Predicted vs. actual value plots\n",
    "\n",
    "These plots, you have already seen before in the previous notebooks."
   ]
  },
  {
   "cell_type": "code",
   "execution_count": null,
   "metadata": {},
   "outputs": [],
   "source": [
    "# Read in example act vs. pred data\n",
    "df_act_pred = pd.read_csv('ML_figures/example_data/act_pred.csv')\n",
    "y_act, y_pred = df_act_pred.iloc[:, 1], df_act_pred.iloc[:, 2]\n",
    "\n",
    "act_pred(y_act, y_pred,\n",
    "         reg_line=True,\n",
    "         save_dir='ML_figures/example_figures')\n",
    "\n",
    "act_pred(y_act, y_pred,\n",
    "         name='example_no_hist',\n",
    "         x_hist=False, y_hist=False,\n",
    "         reg_line=True,\n",
    "         save_dir='ML_figures/example_figures')"
   ]
  },
  {
   "attachments": {},
   "cell_type": "markdown",
   "metadata": {},
   "source": [
    "## Residual error plots\n",
    "\n",
    "Residual error plots show how far your model's predictions deviate from the actual values.\n",
    "They are using the same data used in the predicted vs. actual plots; however, instead of plotting predicted vs. actual values, residual error plots plot (predicted - actual) vs. actual values.\n",
    "\n",
    "This lets you visually analyze your model's prediction error on a straight horizontal line.\n",
    "\n",
    "Alternatively, you can plot the residual errors on a histogram, and optionally with a kernel density estimation (kde)."
   ]
  },
  {
   "cell_type": "code",
   "execution_count": null,
   "metadata": {},
   "outputs": [],
   "source": [
    "residual(y_act, y_pred,\n",
    "         save_dir='ML_figures/example_figures')\n",
    "\n",
    "residual_hist(y_act, y_pred,\n",
    "              save_dir='ML_figures/example_figures')"
   ]
  },
  {
   "attachments": {},
   "cell_type": "markdown",
   "metadata": {},
   "source": [
    "## Loss curves\n",
    "\n",
    "Loss curves show the loss of a neural network model vs. epoch throughout the training process.\n",
    "It is typically evaluated using the training and validation dataset at the end of each epoch (or every $n$ epochs, where $n$ is a small number, if evaluating every epoch takes too many resources).\n",
    "\n",
    "Typically, loss curves plot the model performance (such as $r^2$ score) or loss (such as $\\textrm{MAE}$) against epoch."
   ]
  },
  {
   "cell_type": "code",
   "execution_count": null,
   "metadata": {},
   "outputs": [],
   "source": [
    "# Read in loss curve data\n",
    "df_lc = pd.read_csv('ML_figures/example_data/training_progress.csv')\n",
    "epoch = df_lc['epoch']\n",
    "train_err, val_err = df_lc['mae_train'], df_lc['mae_val']\n",
    "\n",
    "loss_curve(epoch, train_err, val_err,\n",
    "           save_dir='ML_figures/example_figures')"
   ]
  },
  {
   "attachments": {},
   "cell_type": "markdown",
   "metadata": {},
   "source": [
    "## Visualizing elemental prevalence\n",
    "\n",
    "Depending on your dataset, what you are studying, and how the compounds/constituent elements of the compounds in the dataset are distributed, it may be useful to visualize the elemental prevalence in your dataset.\n",
    "\n",
    "These figures let you visualize the relative amount of certain elements vs. other elements present in your dataset, and can help you in identifying dataset biases, imbalanced datasets, or other issues."
   ]
  },
  {
   "cell_type": "code",
   "execution_count": null,
   "metadata": {},
   "outputs": [],
   "source": [
    "# Visualize element prevalence\n",
    "formula = df_act_pred.iloc[:, 0]\n",
    "\n",
    "element_prevalence(formula,\n",
    "                   save_dir='ML_figures/example_figures',\n",
    "                   log_scale=False)\n",
    "element_prevalence(formula,\n",
    "                   save_dir='ML_figures/example_figures',\n",
    "                   name='example_log',\n",
    "                   log_scale=True)\n",
    "\n",
    "plt.rcParams.update({'font.size': 12})\n",
    "element_prevalence(formula,\n",
    "                   save_dir='ML_figures/example_figures',\n",
    "                   ptable_fig=False,\n",
    "                   log_scale=False)\n",
    "element_prevalence(formula,\n",
    "                   save_dir='ML_figures/example_figures',\n",
    "                   name='example_log',\n",
    "                   ptable_fig=False,\n",
    "                   log_scale=True)"
   ]
  }
 ],
 "metadata": {
  "kernelspec": {
   "display_name": "course-book",
   "language": "python",
   "name": "python3"
  },
  "language_info": {
   "codemirror_mode": {
    "name": "ipython",
    "version": 3
   },
   "file_extension": ".py",
   "mimetype": "text/x-python",
   "name": "python",
   "nbconvert_exporter": "python",
   "pygments_lexer": "ipython3",
   "version": "3.9.15"
  },
  "vscode": {
   "interpreter": {
    "hash": "89d7d07a18bc6bcfb9fd99f9d58ef662eeaa9759129ecdb773c42f07a9c126b5"
   }
  }
 },
 "nbformat": 4,
 "nbformat_minor": 4
}
