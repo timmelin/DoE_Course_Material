{
 "cells": [
  {
   "cell_type": "markdown",
   "metadata": {},
   "source": [
    "<a href=\"https://colab.research.google.com/github/Teoroo-CMC/DoE_Course_Material/blob/main/Week_1/Workshop_2/Plotting_in_Python.ipynb\" target=\"_parent\"><img src=\"https://colab.research.google.com/assets/colab-badge.svg\" alt=\"Open In Colab\"/></a>"
   ]
  },
  {
   "cell_type": "markdown",
   "metadata": {},
   "source": [
    "# Plotting in Python using Matplotlib and Seaborn"
   ]
  },
  {
   "cell_type": "markdown",
   "metadata": {},
   "source": [
    "### Disclaimer: \n",
    "\n",
    "The whole Seaborn-part of this Jupyter notebook tutorial has been downloaded from the github page: \n",
    "\n",
    "https://github.com/Pitsillides91/Python-Tutorials/tree/master/Seaborn%20Tutorial\n",
    "\n",
    "Very minor changes have been made in the data-loading part (because that is folder-specific), but the rest has been kept intact.\n",
    "\n",
    "**The notebook author has 3 20-minute videos on Youtube where he goes through all of these cells and explains everything, so those of you who are interested can watch the videos since they are very informative! (Not sponsored :) )**\n",
    "\n",
    "The link to part 1 is: https://www.youtube.com/watch?v=Pkvdc2Z6eBg&list=PLagzZ8RIKbFCdjs4pZZoMikTcmFjTIiVS&index=10"
   ]
  },
  {
   "cell_type": "markdown",
   "metadata": {},
   "source": [
    "# Plotting using Matplotlib, Seaborn and Plotly"
   ]
  },
  {
   "cell_type": "markdown",
   "metadata": {},
   "source": [
    "Matplotlib lets users create highly custimizable plots and plot templates that are easily reproducible. The images it renders are also of high quality, since it represents objects on a plot as mathematical objects, not as pixels (it works kind of like vector images). Actually, the figures generated in a lot of publications are used using Matplotlib.\n",
    "\n",
    "A number of plotting tools build on Matplotlib and trade costumizability against less verbose code. \n",
    "One of those is the Seaborn library, which will be covered later in this notebook. Seaborn is an \"extension\" to Matplotlib which is easy to integrate with Pandas DataFrames. It is up to you however wether you want to use seaborn or matplotlib directly. "
   ]
  },
  {
   "cell_type": "markdown",
   "metadata": {},
   "source": [
    "# Python Matplotlib Tutorial"
   ]
  },
  {
   "cell_type": "code",
   "execution_count": null,
   "metadata": {},
   "outputs": [],
   "source": [
    "import numpy as np # Now Numpy can be accessed via np.<name of variable or function to use>\n",
    "import matplotlib.pyplot as plt # Now the Pyplot module of Matplotlib can be accessed via plt.<name of variable or function to use>"
   ]
  },
  {
   "cell_type": "code",
   "execution_count": null,
   "metadata": {},
   "outputs": [],
   "source": [
    "# Easy way to plot data\n",
    "\n",
    "# First a short Python functions recap\n",
    "def func(x):\n",
    "    \n",
    "    \"\"\"y = (x^3+2)/(x^3+6x^2-4x-4)\"\"\"\n",
    "    \n",
    "        \n",
    "    return (x**3+2)/(x**3+6*x**2-4*x-4)\n",
    "    \n",
    "x = np.linspace(-2,4,100) # Take 50 numbers between 1 and 10 as x\n",
    "y = func(x) # Calculate y\n",
    "\n",
    "# The plotting part\n",
    "plt.figure()\n",
    "\n",
    "plt.plot(x,y)\n",
    "plt.show()"
   ]
  },
  {
   "cell_type": "markdown",
   "metadata": {},
   "source": [
    "#### Side note: \n",
    "**This is a very convenient way to plot things quickly. Please do not use information-scarce plots like this one in your work :)**"
   ]
  },
  {
   "cell_type": "code",
   "execution_count": null,
   "metadata": {},
   "outputs": [],
   "source": [
    "# Slightly prettier plot\n",
    "\n",
    "plt.figure()\n",
    "\n",
    "# Defining the plot title, x and y labels\n",
    "plt.title('A mathematical function')\n",
    "plt.xlabel('Values of x')\n",
    "plt.ylabel('Values of y')\n",
    "\n",
    "# Plots the curve, and displays the legend\n",
    "plt.plot(x, y, label = 'a curve', color = 'green') # here 'go-' stands for \"green line, round points and full line\"\n",
    "plt.legend()\n",
    "\n",
    "# Saving the figure as pdf and disolaying it in the notebook\n",
    "plt.savefig('simple_plot.pdf', dpi=300)\n",
    "plt.show()"
   ]
  },
  {
   "cell_type": "code",
   "execution_count": null,
   "metadata": {},
   "outputs": [],
   "source": [
    "# A more advanced way of plotting things\n",
    "data = np.random.randn(2, 100) # we generate a 2x100 matrix of random numbers from normal distribution\n",
    "\n",
    "# Here we define a grid of figures and the types of plots that we create\n",
    "fig, axs = plt.subplots(2, 2, figsize=(15, 15))\n",
    "\n",
    "axs[0, 0].hist(data[0]) # histogram plot - displays frequency of the data's first column\n",
    "axs[0, 0].grid(True) # adding a grid to the first plot\n",
    "\n",
    "axs[1, 0].scatter(data[0], data[1], color = \"#0B6E40\", s=100) # scatter plot where x and y values are elements of the two columns from data\n",
    "# We also changed the color of the points from the default blue to a color of choice, referring to its HEX code\n",
    "axs[1, 0].set_xlabel('Horizontal axis')\n",
    "axs[1, 0].set_ylabel('Vertical axis')\n",
    "\n",
    "# We can add an additional line to the plot\n",
    "col_a = np.linspace(-2,2,100)\n",
    "col_b = 2*np.cos(col_a*10)\n",
    "axs[1,0].plot(col_a, col_b, label = 'a random cos function', c='orange')\n",
    "axs[1,0].legend()\n",
    "\n",
    "axs[0, 1].plot(data[0], data[1], linestyle='dashed', marker='*', markersize=12) \n",
    "# Line plot of the same thing - lines connect consecutive points in x and y columns\n",
    "# Here connect the points with dashed lines\n",
    "axs[0, 1].title.set_text('This one even has a title!')\n",
    "\n",
    "axs[1, 1].hist2d(data[0], data[1], cmap = \"PiYG\") # 2D histogram with a custom color map\n",
    "\n",
    "\n",
    "plt.show()"
   ]
  },
  {
   "cell_type": "code",
   "execution_count": null,
   "metadata": {},
   "outputs": [],
   "source": [
    "# Using text boxes in figures\n",
    "# Including Greek letters, and mathematical formulas\n",
    "t = np.arange(0.0, 2.0, 0.01)\n",
    "s = np.sin(2*np.pi*t) # np contains trigonometry functions, as well\n",
    "\n",
    "plt.plot(t,s)\n",
    "plt.title(r'$\\alpha_i > \\beta_i$', fontsize=20)\n",
    "plt.text(1, -0.6, r'$\\sum_{i=0}^\\infty x_i$', fontsize=20)\n",
    "plt.text(0.6, 0.6, r'$A\\mathrm{sin}(2 \\omega t)$',\n",
    "         fontsize=20)\n",
    "plt.xlabel('time (s)')\n",
    "plt.ylabel('volts (mV)')\n",
    "plt.show()"
   ]
  },
  {
   "cell_type": "markdown",
   "metadata": {},
   "source": [
    "# Python Seaborn Tutorial for Beginners"
   ]
  },
  {
   "cell_type": "markdown",
   "metadata": {},
   "source": [
    "## What is Seaborn?\n",
    "\n",
    "- Python Data Visualization Library - based on Matplotlib (see previous tutorial)\n",
    "- Used for plotting statistical graphs, identifying trends, relationships & outliers\n",
    "- Seaborn is easier & faster to use (less code) Vs Matplotlib"
   ]
  },
  {
   "cell_type": "markdown",
   "metadata": {},
   "source": [
    "## Tutorial Overview\n",
    "\n",
    "- What is matplotlib and how/why it's used\n",
    "\n",
    "- Trend Plots:\n",
    "    - Line Plots\n",
    "    \n",
    "- Summary Plots:\n",
    "    - Bar Plots\n",
    "    \n",
    "- Distribution of Data:\n",
    "    - Histogram\n",
    "    - Box Plots\n",
    "    \n",
    "- Relationship Plots\n",
    "    - Scatter Plots\n",
    "    - lmplot (combo of regplot() and FacetGrid)\n",
    "    \n",
    "- Holistic views / Combo:\n",
    "    - Sub Plots\n",
    "    - Pair Plots\n",
    "    - Join Plots\n",
    "    \n",
    "- Correlation / Relationships:\n",
    "    - Heat Maps"
   ]
  },
  {
   "cell_type": "markdown",
   "metadata": {},
   "source": [
    "## Tutorial Overview by video (from the author, see link above!)\n",
    "\n",
    "\n",
    "### Video 1:\n",
    "1. What is matplotlib and how/why it's used\n",
    "2. Line Plots\n",
    "3. Bar Plots\n",
    "4. Histogram\n",
    "\n",
    "### Video 2:\n",
    "5. Box Plots\n",
    "6. Scatter Plots\n",
    "7. lmplot (combo of regplot() and FacetGrid)\n",
    "\n",
    "### Video 3:\n",
    "8. Sub Plots\n",
    "9. Pair Plots\n",
    "10. Join Plots\n",
    "11. Heat Maps"
   ]
  },
  {
   "cell_type": "markdown",
   "metadata": {},
   "source": [
    "## Importing / Installing packages\n",
    "\n"
   ]
  },
  {
   "cell_type": "code",
   "execution_count": null,
   "metadata": {},
   "outputs": [],
   "source": [
    "import numpy as np \n",
    "import pandas as pd\n",
    "from matplotlib import pyplot as plt\n",
    "import matplotlib.pyplot as plt\n",
    "import seaborn as sns\n",
    "%matplotlib inline"
   ]
  },
  {
   "cell_type": "markdown",
   "metadata": {},
   "source": [
    "## 1. Loading the Raw Data\n"
   ]
  },
  {
   "cell_type": "code",
   "execution_count": null,
   "metadata": {},
   "outputs": [],
   "source": [
    "# Loading the data\n",
    "\n",
    "raw_data = pd.read_csv('https://raw.githubusercontent.com/Teoroo-CMC/DoE_Course_Material/main/Week_1/Workshop_2/marketing_raw_data.csv', index_col = 0, on_bad_lines='skip')\n",
    "\n",
    "# runs all the data\n",
    "raw_data\n",
    "\n",
    "print(raw_data.shape)\n",
    "\n",
    "#runs the first 5 rows\n",
    "raw_data.head()"
   ]
  },
  {
   "cell_type": "markdown",
   "metadata": {},
   "source": [
    "## 2. Line Graph"
   ]
  },
  {
   "cell_type": "code",
   "execution_count": null,
   "metadata": {},
   "outputs": [],
   "source": [
    "# Example 1 - Simple 1 line graph\n",
    "# Assuming we want to investigate the Revenue by Date\n",
    "\n",
    "ax = sns.lineplot(x='Week_ID', y='Revenue', data = raw_data)\n",
    "\n",
    "# Notes: error bands show the confidence interval"
   ]
  },
  {
   "cell_type": "code",
   "execution_count": null,
   "metadata": {},
   "outputs": [],
   "source": [
    "# Example 2 - Adding Categories\n",
    "\n",
    "# By Promo\n",
    "ax = sns.lineplot(x='Week_ID', y='Revenue', hue = 'Promo', data = raw_data)\n"
   ]
  },
  {
   "cell_type": "code",
   "execution_count": null,
   "metadata": {},
   "outputs": [],
   "source": [
    "# Example 3 - By Promo with style\n",
    "ax = sns.lineplot(x='Week_ID', y='Revenue', hue = 'Promo', style = 'Promo', data = raw_data)"
   ]
  },
  {
   "cell_type": "code",
   "execution_count": null,
   "metadata": {},
   "outputs": [],
   "source": [
    "# Example 4 - By Promo with style & Increase the size & Remove error bars\n",
    "\n",
    "# increase the size\n",
    "sns.set(rc={'figure.figsize':(12,10)})\n",
    "\n",
    "ax = sns.lineplot(x='Week_ID', y='Revenue', hue = 'Promo', style = 'Promo', data = raw_data, ci=None)"
   ]
  },
  {
   "cell_type": "code",
   "execution_count": null,
   "metadata": {},
   "outputs": [],
   "source": [
    "# Example 5 - By Promo with style & Increase the size & Remove error bars & adding markers & by month\n",
    "\n",
    "ax = sns.lineplot(x='Month_ID', y='Revenue', hue = 'Promo', style = 'Promo', data = raw_data, ci=None,  markers=True)"
   ]
  },
  {
   "cell_type": "code",
   "execution_count": null,
   "metadata": {},
   "outputs": [],
   "source": [
    "# Example 6 - By Day_Name with style & Increase the size & Remove error bars & adding markers & by month\n",
    "\n",
    "ax = sns.lineplot(x='Month_ID', y='Revenue', hue = 'Day_Name', style = 'Promo', data = raw_data, ci=None,  markers=True)"
   ]
  },
  {
   "cell_type": "code",
   "execution_count": null,
   "metadata": {},
   "outputs": [],
   "source": [
    "# Example 7 - By Year with style & Increase the size & Remove error bars & adding markers & by month\n",
    "\n",
    "ax = sns.lineplot(x='Year', y='Revenue', hue = 'Day_Name', style = 'Promo', data = raw_data, ci=None,  markers=True)"
   ]
  },
  {
   "cell_type": "markdown",
   "metadata": {},
   "source": [
    "### LinePlot Documentation\n",
    "\n",
    "Here you can find everything (or most of it at least) that you need to know about the 'lineplot' function in Seaborn.\n",
    "\n",
    "https://seaborn.pydata.org/generated/seaborn.lineplot.html "
   ]
  },
  {
   "cell_type": "markdown",
   "metadata": {},
   "source": [
    "## 3. Bar Plots"
   ]
  },
  {
   "cell_type": "code",
   "execution_count": null,
   "metadata": {},
   "outputs": [],
   "source": [
    "# Example 1 - Total Revenue by Month\n",
    "\n",
    "ax = sns.barplot(x=\"Month_ID\", y=\"Revenue\", data=raw_data)\n",
    "\n",
    "# Notes: \n",
    "# 1 - the lines signify the confidence interval\n",
    "# 2 - Takes mean by default\n",
    "\n",
    "raw_data[['Month_ID', 'Revenue', 'Visitors']].groupby('Month_ID', as_index = False)#.agg({'Revenue':'mean'})"
   ]
  },
  {
   "cell_type": "code",
   "execution_count": null,
   "metadata": {},
   "outputs": [],
   "source": [
    "# Example 2 - Total Revenue by Month - Remove the Confidence Interval\n",
    "ax = sns.barplot(x=\"Month_ID\", y=\"Revenue\", data=raw_data, ci=False)"
   ]
  },
  {
   "cell_type": "code",
   "execution_count": null,
   "metadata": {},
   "outputs": [],
   "source": [
    "# Example 3 - Total Revenue by Month - Remove the Confidence Interval - By Promo\n",
    "ax = sns.barplot(x=\"Month_ID\", y=\"Revenue\", data=raw_data, ci=False, hue = 'Promo')"
   ]
  },
  {
   "cell_type": "code",
   "execution_count": null,
   "metadata": {},
   "outputs": [],
   "source": [
    "# Example 4 - Total Revenue by Month - Remove the Confidence Interval - By Promo - Changing direction\n",
    "ax = sns.barplot(x=\"Revenue\", y=\"Year\", ci=False, hue = 'Promo', orient = 'h', data=raw_data)\n"
   ]
  },
  {
   "cell_type": "code",
   "execution_count": null,
   "metadata": {},
   "outputs": [],
   "source": [
    "# Example 5 - Total Revenue by Month - Remove the Confidence Interval - By Promo - Changing direction - Changing Colour\n",
    "ax = sns.barplot(x=\"Revenue\", y=\"Year\", ci=False, hue = 'Promo', orient = 'h', data=raw_data, color=\"#1CB3B1\")\n",
    "\n",
    "# Cool Way to pick colours\n",
    "# https://htmlcolorcodes.com/color-picker/\n"
   ]
  },
  {
   "cell_type": "markdown",
   "metadata": {},
   "source": [
    "## 4. Histograms"
   ]
  },
  {
   "cell_type": "code",
   "execution_count": null,
   "metadata": {},
   "outputs": [],
   "source": [
    "# Example 1 - Investigating the distribution of Revenue\n",
    "\n",
    "x = raw_data['Revenue'].values\n",
    "\n",
    "sns.distplot(x, color = 'blue');\n",
    "\n",
    "# As you can see, it's a bit imbalance. Right skewd distribution as the mean is to the right"
   ]
  },
  {
   "cell_type": "code",
   "execution_count": null,
   "metadata": {},
   "outputs": [],
   "source": [
    "# Example 2 - Investigating the distribution of Revenue, adding the mean\n",
    "\n",
    "x = raw_data['Revenue'].values\n",
    "\n",
    "sns.distplot(x, color = 'blue');\n",
    "\n",
    "# Calculating the mean\n",
    "mean = raw_data['Revenue'].mean()\n",
    "\n",
    "#ploting the mean\n",
    "plt.axvline(mean, 0,1, color = 'red')"
   ]
  },
  {
   "cell_type": "code",
   "execution_count": null,
   "metadata": {},
   "outputs": [],
   "source": [
    "# Example 3 - Investigating the distribution of Visitors, adding the mean\n",
    "\n",
    "x = raw_data['Visitors'].values\n",
    "\n",
    "sns.distplot(x, color = 'red');\n",
    "\n",
    "# Calculating the mean\n",
    "mean = raw_data['Visitors'].mean()\n",
    "\n",
    "#ploting the mean\n",
    "plt.axvline(mean, 0,1, color = 'blue')"
   ]
  },
  {
   "cell_type": "markdown",
   "metadata": {},
   "source": [
    "## 5. Box Plots"
   ]
  },
  {
   "cell_type": "code",
   "execution_count": null,
   "metadata": {},
   "outputs": [],
   "source": [
    "# Example 1 - Investigating the distribution of Revenue\n",
    "\n",
    "x = raw_data['Revenue'].values\n",
    "\n",
    "ax = sns.boxplot(x)\n",
    "\n",
    "print('The meadian is: ', raw_data['Revenue'].median())\n",
    "\n",
    "# Notes:\n",
    "# The line signifies the median\n",
    "# The box in the middle show the beginning of Q1 (25th percentile) and the end of the Q3 (75th percentile)\n",
    "# The whiskers (left - right) show the minimum quartile and maximum quartile\n",
    "# The dots on the right are \"outliers\""
   ]
  },
  {
   "cell_type": "markdown",
   "metadata": {},
   "source": [
    "#### More Details\n",
    "More details here: https://towardsdatascience.com/understanding-boxplots-5e2df7bcbd51\n",
    "Credits: Michael Galarnyk\n"
   ]
  },
  {
   "cell_type": "code",
   "execution_count": null,
   "metadata": {},
   "outputs": [],
   "source": [
    "# Example 2 - Investigating the distribution of Revenue by Day\n",
    "\n",
    "ax = sns.boxplot(x=\"Day_Name\", y=\"Revenue\", data=raw_data)"
   ]
  },
  {
   "cell_type": "code",
   "execution_count": null,
   "metadata": {},
   "outputs": [],
   "source": [
    "# Example 3 - Investigating the distribution of Revenue by Day - Horizontal - change color\n",
    "\n",
    "ax = sns.boxplot(x=\"Revenue\", y=\"Day_Name\", data=raw_data, color = '#EE67CF')\n",
    "\n",
    "# Cool Way to pick colours\n",
    "# https://htmlcolorcodes.com/color-picker/"
   ]
  },
  {
   "cell_type": "code",
   "execution_count": null,
   "metadata": {},
   "outputs": [],
   "source": [
    "# Example 4 - Investigating the distribution of Revenue by Day - changing color - adding hue\n",
    "\n",
    "ax = sns.boxplot(x=\"Day_Name\", y=\"Revenue\", data=raw_data, color=\"#B971E7\", hue = 'Promo')\n",
    "\n",
    "# Cool Way to pick colours\n",
    "# https://htmlcolorcodes.com/color-picker/"
   ]
  },
  {
   "cell_type": "code",
   "execution_count": null,
   "metadata": {},
   "outputs": [],
   "source": [
    "# Example 5 - Investigating the distribution of Revenue by Day - by color - by data points\n",
    "\n",
    "ax = sns.boxplot(x=\"Day_Name\", y=\"Revenue\", data=raw_data, color = '#D1EC46')\n",
    "ax = sns.swarmplot(x=\"Day_Name\", y=\"Revenue\", data=raw_data, color=\"red\")"
   ]
  },
  {
   "cell_type": "markdown",
   "metadata": {},
   "source": [
    "### More on Boxplots here:\n",
    "https://seaborn.pydata.org/generated/seaborn.boxplot.html#seaborn.boxplot"
   ]
  },
  {
   "cell_type": "markdown",
   "metadata": {},
   "source": [
    "## 6. ScatterPlots"
   ]
  },
  {
   "cell_type": "code",
   "execution_count": null,
   "metadata": {},
   "outputs": [],
   "source": [
    "raw_data.columns"
   ]
  },
  {
   "cell_type": "code",
   "execution_count": null,
   "metadata": {},
   "outputs": [],
   "source": [
    "# Example 1 - Relationship between Marketing Spend and Revenue\n",
    "\n",
    "ax = sns.scatterplot(x=\"Marketing Spend\", y=\"Revenue\", data=raw_data, color = 'green')"
   ]
  },
  {
   "cell_type": "code",
   "execution_count": null,
   "metadata": {},
   "outputs": [],
   "source": [
    "# Example 2 - Relationship between Marketing Spend and Revenue - changing color, hue & Style\n",
    "\n",
    "ax = sns.scatterplot(x=\"Marketing Spend\", y=\"Revenue\", data=raw_data, color = 'green', hue = 'Promo', style = 'Promo')"
   ]
  },
  {
   "cell_type": "code",
   "execution_count": null,
   "metadata": {},
   "outputs": [],
   "source": [
    "# Example 3 - Relationship between Marketing Spend and Revenue - changing color & hue - adding size\n",
    "\n",
    "ax = sns.scatterplot(x=\"Marketing Spend\", y=\"Revenue\", data=raw_data, color = 'green', hue = 'Promo', size = 'Revenue',\n",
    "                    sizes=(20, 200))"
   ]
  },
  {
   "cell_type": "code",
   "execution_count": null,
   "metadata": {},
   "outputs": [],
   "source": [
    "# Example 4 - Relationship between Marketing Spend and Revenue - changing color & hue - adding size - by day\n",
    "\n",
    "ax = sns.scatterplot(x=\"Visitors\", y=\"Revenue\", data=raw_data, color = 'green', hue = 'Day_Name', size = 'Revenue',\n",
    "                    sizes=(20, 200))"
   ]
  },
  {
   "cell_type": "markdown",
   "metadata": {},
   "source": [
    "## 7. lmPlots"
   ]
  },
  {
   "cell_type": "code",
   "execution_count": null,
   "metadata": {},
   "outputs": [],
   "source": [
    "# Example 1 - Relationship between Marketing Spend and Revenue\n",
    "\n",
    "ax = sns.lmplot(x=\"Marketing Spend\", y=\"Revenue\", data=raw_data, height=9)\n",
    "\n",
    "# Notes:\n",
    "# What is Linear Regression: It is a predictive statistical method for modelling the relationship between x (independent variable) & y (dependent V).\n",
    "# How it works (cost function MSE): https://towardsdatascience.com/machine-learning-fundamentals-via-linear-regression-41a5d11f5220"
   ]
  },
  {
   "cell_type": "code",
   "execution_count": null,
   "metadata": {},
   "outputs": [],
   "source": [
    "# Example 2 - Relationship between Marketing Spend and Revenue - changing color, hue & Style\n",
    "\n",
    "ax = sns.lmplot(x=\"Marketing Spend\", y=\"Revenue\", data=raw_data, hue = 'Promo', ci= False, height=9, markers=[\"o\", \"x\", \"+\"])"
   ]
  },
  {
   "cell_type": "code",
   "execution_count": null,
   "metadata": {},
   "outputs": [],
   "source": [
    "# Example 3 - Relationship between Marketing Spend and Revenue - by column\n",
    "\n",
    "ax = sns.lmplot(x=\"Marketing Spend\", y=\"Revenue\", data=raw_data, col = 'Promo', ci= False, height=5, \n",
    "                line_kws={'color': 'red'}, \n",
    "                scatter_kws={'color':'#ADC11E'})"
   ]
  },
  {
   "cell_type": "code",
   "execution_count": null,
   "metadata": {},
   "outputs": [],
   "source": [
    "# Example 4 - Relationship between Marketing Spend and Revenue - by column - by day - add Jitter too\n",
    "\n",
    "ax = sns.lmplot(x=\"Visitors\", y=\"Revenue\", data=raw_data, col = 'Day_Name', ci= False, height=4, \n",
    "                line_kws={'color': '#031722'}, \n",
    "                scatter_kws={'color':'#1E84C1'},\n",
    "               col_wrap=3,\n",
    "               x_jitter=.3)"
   ]
  },
  {
   "cell_type": "markdown",
   "metadata": {},
   "source": [
    "## 8. SubPlots"
   ]
  },
  {
   "cell_type": "code",
   "execution_count": null,
   "metadata": {},
   "outputs": [],
   "source": [
    "# Set up the matplotlib figure\n",
    "fig, axes = plt.subplots(2, 2, figsize=(12, 7))\n",
    "\n",
    "a = raw_data['Revenue'].values\n",
    "b = raw_data['Visitors'].values\n",
    "c = raw_data['Marketing Spend'].values\n",
    "\n",
    "\n",
    "# plot 1\n",
    "sns.distplot(a, color = 'blue', ax=axes[0,0])\n",
    "\n",
    "# plot 2\n",
    "sns.distplot(b, color = 'blue', ax=axes[0,1])\n",
    "\n",
    "# plot 3\n",
    "sns.distplot(c, color = 'blue', ax=axes[1,0])\n",
    "\n",
    "# plot 4\n",
    "sns.boxplot(x=\"Revenue\", y=\"Day_Name\", data=raw_data, color = '#52F954', ax=axes[1,1])\n",
    "sns.swarmplot(x=\"Revenue\", y=\"Day_Name\", data=raw_data, color=\"blue\", ax=axes[1,1])"
   ]
  },
  {
   "cell_type": "markdown",
   "metadata": {},
   "source": [
    "## 9. Pairplots"
   ]
  },
  {
   "cell_type": "code",
   "execution_count": null,
   "metadata": {},
   "outputs": [],
   "source": [
    "# Example 1 - running on all dataframe - green color\n",
    "g = sns.pairplot(raw_data, plot_kws={'color':'green'})\n"
   ]
  },
  {
   "cell_type": "code",
   "execution_count": null,
   "metadata": {},
   "outputs": [],
   "source": [
    "# Example 2 - running on specific columns - green color\n",
    "g = sns.pairplot(raw_data[['Revenue','Visitors','Marketing Spend']], plot_kws={'color':'#0EDCA9'})\n",
    "\n",
    "# Cool Way to pick colours\n",
    "# https://htmlcolorcodes.com/color-picker/"
   ]
  },
  {
   "cell_type": "code",
   "execution_count": null,
   "metadata": {},
   "outputs": [],
   "source": [
    "# Example 3 - running on specific columns - adding hue\n",
    "g = sns.pairplot(raw_data[['Revenue','Visitors','Marketing Spend', 'Promo']], hue = 'Promo')\n"
   ]
  },
  {
   "cell_type": "code",
   "execution_count": null,
   "metadata": {},
   "outputs": [],
   "source": [
    "# Example 4 - running on specific columns - adding hue - adding kind = reg\n",
    "g = sns.pairplot(raw_data[['Revenue','Visitors','Marketing Spend', 'Promo']], hue = 'Promo', kind=\"reg\", height = 6)\n"
   ]
  },
  {
   "cell_type": "code",
   "execution_count": null,
   "metadata": {},
   "outputs": [],
   "source": [
    "# Sample dataset of chemical properties\n",
    "data = sns.load_dataset('iris')\n",
    "\n",
    "# Create a pair plot\n",
    "sns.pairplot(data, hue='species')\n",
    "\n",
    "# Add labels and title\n",
    "plt.title('Pairwise Relationships between Chemical Properties')\n",
    "\n",
    "# Display the plot\n",
    "fig = plt.gcf()\n",
    "fig.savefig(plot_folder + \"sns_pair_plot.png\")\n",
    "plt.show()"
   ]
  },
  {
   "cell_type": "markdown",
   "metadata": {},
   "source": [
    "### More on Pairplots:\n",
    "https://seaborn.pydata.org/generated/seaborn.pairplot.html"
   ]
  },
  {
   "cell_type": "markdown",
   "metadata": {},
   "source": [
    "## 10. JoinPlots\n",
    "#### Draw a plot of two variables with bivariate and univariate graphs."
   ]
  },
  {
   "cell_type": "code",
   "execution_count": null,
   "metadata": {},
   "outputs": [],
   "source": [
    "# Example 1 - Revenue vs marketing Spend Relationship with \n",
    "g = sns.jointplot(\"Revenue\", \"Marketing Spend\", data=raw_data, kind=\"reg\", color = 'green', height = 10)"
   ]
  },
  {
   "cell_type": "markdown",
   "metadata": {},
   "source": [
    "## 11. Heat Map"
   ]
  },
  {
   "cell_type": "code",
   "execution_count": null,
   "metadata": {},
   "outputs": [],
   "source": [
    "# First we need to create a \"Dataset\" to display on a Heatmap - we will use a correlation dataset\n",
    "# .corr() is used to find the pairwise correlation of all columns in the dataframe. Any null values are automatically excluded\n",
    "# The closer to 1 or -1 the better. As one variable increases, the other variable tends to also increase / decrease\n",
    "# More Info here: https://statisticsbyjim.com/basics/correlations/"
   ]
  },
  {
   "cell_type": "code",
   "execution_count": null,
   "metadata": {},
   "outputs": [],
   "source": [
    "# Example 1 - Heatmap for PC\n",
    "\n",
    "pc = raw_data[['Revenue','Visitors','Marketing Spend', 'Promo']].corr(method ='pearson')\n",
    "\n",
    "cols = ['Revenue CC','Visitors CC','Marketing Spend CC']\n",
    "\n",
    "ax = sns.heatmap(pc, annot=True,\n",
    "                 yticklabels=cols,\n",
    "                 xticklabels=cols,\n",
    "                 annot_kws={'size': 50})\n"
   ]
  },
  {
   "cell_type": "code",
   "execution_count": null,
   "metadata": {},
   "outputs": [],
   "source": [
    "# Example 2 - Heatmap for PC - changing cmap\n",
    "\n",
    "ax = sns.heatmap(pc, annot=True,\n",
    "                 yticklabels=cols,\n",
    "                 xticklabels=cols,\n",
    "                 annot_kws={'size': 50},\n",
    "                 cmap=\"BuPu\")\n",
    "\n",
    "# Examples:\n",
    "# cmap=\"YlGnBu\"\n",
    "# cmap=\"Blues\"\n",
    "# cmap=\"BuPu\"\n",
    "# cmap=\"Greens\""
   ]
  },
  {
   "cell_type": "markdown",
   "metadata": {},
   "source": [
    "### More details for Heatmaps here:\n",
    "https://seaborn.pydata.org/generated/seaborn.heatmap.html"
   ]
  },
  {
   "cell_type": "markdown",
   "metadata": {},
   "source": [
    "### Violin plots"
   ]
  },
  {
   "cell_type": "code",
   "execution_count": null,
   "metadata": {},
   "outputs": [],
   "source": [
    "import seaborn as sns\n",
    "import numpy as np\n",
    "import matplotlib.pyplot as plt\n",
    "\n",
    "# Sample dataset of chemical compound concentrations across different categories\n",
    "categories = ['Condition A', 'Condition B', 'Condition C']\n",
    "data = {\n",
    "    'Category': categories * 100,\n",
    "    'Concentration': np.random.randn(300)\n",
    "}\n",
    "\n",
    "# Create a violin plot\n",
    "sns.violinplot(x='Category', y='Concentration', data=data)\n",
    "\n",
    "# Add labels and title\n",
    "plt.xlabel('Category')\n",
    "plt.ylabel('Concentration')\n",
    "plt.title('Distribution of Compound Concentrations')\n",
    "\n",
    "# Display the plot\n",
    "fig = plt.gcf()\n",
    "fig.savefig(plot_folder + \"sns_violin.png\")\n",
    "plt.show()"
   ]
  },
  {
   "cell_type": "markdown",
   "metadata": {},
   "source": [
    "# Plotting using Plotly"
   ]
  },
  {
   "cell_type": "code",
   "execution_count": null,
   "metadata": {},
   "outputs": [],
   "source": [
    "import plotly.graph_objects as go\n",
    "\n",
    "# Sample data\n",
    "time = [1, 2, 3, 4, 5]\n",
    "temperature = [25, 27, 29, 26, 28]\n",
    "\n",
    "# Create the trace\n",
    "trace = go.Scatter(\n",
    "    x=time,\n",
    "    y=temperature,\n",
    "    mode='lines+markers',\n",
    "    hovertemplate='Time: %{x}<br>Temperature: %{y}°C'\n",
    ")\n",
    "\n",
    "# Create the layout\n",
    "layout = go.Layout(\n",
    "    title='Temperature Measurements',\n",
    "    xaxis=dict(title='Time'),\n",
    "    yaxis=dict(title='Temperature (°C)')\n",
    ")\n",
    "\n",
    "# Create the figure\n",
    "fig = go.Figure(data=trace, layout=layout)\n",
    "\n",
    "# Show the figure\n",
    "fig.write_html(\"plotly_ex1.html\")\n",
    "plt.show()"
   ]
  },
  {
   "cell_type": "code",
   "execution_count": null,
   "metadata": {},
   "outputs": [],
   "source": [
    "import plotly.express as px\n",
    "import pandas as pd\n",
    "\n",
    "# Sample data\n",
    "data = pd.DataFrame({\n",
    "    'x': [1, 2, 3, 4, 5],\n",
    "    'y': [10, 15, 13, 17, 12],\n",
    "    'color': [0.5, 0.8, 0.2, 0.9, 0.6]  # Third variable for color mapping\n",
    "})\n",
    "\n",
    "# Create the scatter plot\n",
    "fig = px.scatter(data, x='x', y='y', color='color', color_continuous_scale='Viridis')\n",
    "\n",
    "# Customize the layout\n",
    "fig.update_layout(\n",
    "    title='Scatter Plot with Color Mapping',\n",
    "    xaxis=dict(title='X'),\n",
    "    yaxis=dict(title='Y')\n",
    ")\n",
    "\n",
    "# Show the scatter plot\n",
    "fig.show()"
   ]
  },
  {
   "cell_type": "code",
   "execution_count": null,
   "metadata": {},
   "outputs": [],
   "source": [
    "import plotly.graph_objects as go\n",
    "\n",
    "categories = ['processing cost','mechanical properties','chemical stability',\n",
    "              'thermal stability', 'device integration']\n",
    "\n",
    "fig = go.Figure()\n",
    "\n",
    "fig.add_trace(go.Scatterpolar(\n",
    "      r=[1, 5, 2, 2, 3],\n",
    "      theta=categories,\n",
    "      fill='toself',\n",
    "      name='Product A'\n",
    "))\n",
    "fig.add_trace(go.Scatterpolar(\n",
    "      r=[4, 3, 2.5, 1, 2],\n",
    "      theta=categories,\n",
    "      fill='toself',\n",
    "      name='Product B'\n",
    "))\n",
    "\n",
    "fig.update_layout(\n",
    "  polar=dict(\n",
    "    radialaxis=dict(\n",
    "      visible=True,\n",
    "      range=[0, 5]\n",
    "    )),\n",
    "  showlegend=False\n",
    ")\n",
    "\n",
    "fig.show()"
   ]
  },
  {
   "cell_type": "code",
   "execution_count": null,
   "metadata": {},
   "outputs": [],
   "source": [
    "import plotly.figure_factory as ff\n",
    "import plotly.graph_objects as go\n",
    "\n",
    "import numpy as np\n",
    "\n",
    "x,y = np.meshgrid(np.arange(-2, 2, .2),\n",
    "                  np.arange(-2, 2, .25))\n",
    "z = x*np.exp(-x**2 - y**2)\n",
    "v, u = np.gradient(z, .2, .2)\n",
    "\n",
    "# Create quiver figure\n",
    "fig = ff.create_quiver(x, y, u, v,\n",
    "                       scale=.25,\n",
    "                       arrow_scale=.4,\n",
    "                       name='quiver',\n",
    "                       line_width=1)\n",
    "\n",
    "# Add points to figure\n",
    "fig.add_trace(go.Scatter(x=[-.7, .75], y=[0,0],\n",
    "                    mode='markers',\n",
    "                    marker_size=12,\n",
    "                    name='points'))\n",
    "\n",
    "fig.show()"
   ]
  },
  {
   "cell_type": "code",
   "execution_count": null,
   "metadata": {},
   "outputs": [],
   "source": [
    "import plotly.graph_objects as go\n",
    "\n",
    "import pandas as pd\n",
    "\n",
    "# Load data\n",
    "df = pd.read_csv(\n",
    "    \"https://raw.githubusercontent.com/plotly/datasets/master/finance-charts-apple.csv\")\n",
    "df.columns = [col.replace(\"AAPL.\", \"\") for col in df.columns]\n",
    "\n",
    "# Create figure\n",
    "fig = go.Figure()\n",
    "\n",
    "fig.add_trace(\n",
    "    go.Scatter(x=list(df.Date), y=list(df.High)))\n",
    "\n",
    "# Set title\n",
    "fig.update_layout(\n",
    "    title_text=\"Time series with range slider and selectors\"\n",
    ")\n",
    "\n",
    "# Add range slider\n",
    "fig.update_layout(\n",
    "    xaxis=dict(\n",
    "        rangeselector=dict(\n",
    "            buttons=list([\n",
    "                dict(count=1,\n",
    "                     label=\"1m\",\n",
    "                     step=\"month\",\n",
    "                     stepmode=\"backward\"),\n",
    "                dict(count=6,\n",
    "                     label=\"6m\",\n",
    "                     step=\"month\",\n",
    "                     stepmode=\"backward\"),\n",
    "                dict(count=1,\n",
    "                     label=\"YTD\",\n",
    "                     step=\"year\",\n",
    "                     stepmode=\"todate\"),\n",
    "                dict(count=1,\n",
    "                     label=\"1y\",\n",
    "                     step=\"year\",\n",
    "                     stepmode=\"backward\"),\n",
    "                dict(step=\"all\")\n",
    "            ])\n",
    "        ),\n",
    "        rangeslider=dict(\n",
    "            visible=True\n",
    "        ),\n",
    "        type=\"date\"\n",
    "    )\n",
    ")\n",
    "\n",
    "# fig.write_html(plot_folder + \"plotly_range_slider.html\")\n",
    "fig.show()"
   ]
  },
  {
   "cell_type": "markdown",
   "metadata": {},
   "source": [
    "## Final thoughts"
   ]
  },
  {
   "cell_type": "markdown",
   "metadata": {},
   "source": [
    "Hopefully you've gotten a taste for the plethora of possibilities in plotting with various libraries. To learn more, you are strongly encouraged to check out the documentation pages for these libraries, which have excellent additional examples;\n",
    "\n",
    "* Matplotlib; https://matplotlib.org/stable/tutorials/index\n",
    "* Seaborn; https://seaborn.pydata.org/tutorial.html\n",
    "* Plotly; https://plotly.com/python/"
   ]
  },
  {
   "cell_type": "code",
   "execution_count": null,
   "metadata": {},
   "outputs": [],
   "source": []
  }
 ],
 "metadata": {
  "kernelspec": {
   "display_name": "Python 3 (ipykernel)",
   "language": "python",
   "name": "python3"
  },
  "language_info": {
   "codemirror_mode": {
    "name": "ipython",
    "version": 3
   },
   "file_extension": ".py",
   "mimetype": "text/x-python",
   "name": "python",
   "nbconvert_exporter": "python",
   "pygments_lexer": "ipython3",
   "version": "3.9.16"
  }
 },
 "nbformat": 4,
 "nbformat_minor": 4
}
