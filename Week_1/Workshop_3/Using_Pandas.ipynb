{
 "cells": [
  {
   "cell_type": "markdown",
   "id": "1b344f9f-6bc6-4ad7-9bf3-0fdd8d2e98af",
   "metadata": {},
   "source": [
    "<a href=\"https://colab.research.google.com/github/Teoroo-CMC/DoE_Course_Material/blob/main/Week_1/Workshop_3/Using_Pandas.ipynb\" target=\"_parent\"><img src=\"https://colab.research.google.com/assets/colab-badge.svg\" alt=\"Open In Colab\"/></a>"
   ]
  },
  {
   "cell_type": "markdown",
   "id": "9e42ac95-8469-4bfd-a6b3-0c045925bafc",
   "metadata": {},
   "source": [
    "# A few short introductory exercises in NumPy"
   ]
  },
  {
   "cell_type": "code",
   "execution_count": null,
   "id": "06811dea-d4d5-4742-9c84-b42e033fca5c",
   "metadata": {},
   "outputs": [],
   "source": [
    "import numpy as np\n",
    "\n",
    "# Create a NumPy array\n",
    "data = np.array([1, 2, 3, 4, 5, 6, 7, 8, 9, 10])\n",
    "\n",
    "# Slice the array to get elements from index 2 to 6\n",
    "sliced_data = data[2:7]\n",
    "\n",
    "print(sliced_data)"
   ]
  },
  {
   "cell_type": "code",
   "execution_count": null,
   "id": "8a63bdfe-b293-43a5-842f-f8b390f15578",
   "metadata": {},
   "outputs": [],
   "source": [
    "# Create a NumPy array\n",
    "data = np.array([1, 2, 3, 4, 5])\n",
    "\n",
    "# Append new data to the array\n",
    "new_data = np.append(data, [6, 7, 8])\n",
    "\n",
    "print(new_data)"
   ]
  },
  {
   "cell_type": "code",
   "execution_count": null,
   "id": "91bc77f9-c124-49aa-b720-03f258b49cf5",
   "metadata": {},
   "outputs": [],
   "source": [
    "# Initialize an empty array with shape (3, 3)\n",
    "empty_array = np.empty((3, 3))\n",
    "\n",
    "print(empty_array)\n",
    "\n",
    "# Create a NumPy array\n",
    "data = np.array([[1, 2, 3], [4, 5, 6]])\n",
    "\n",
    "# Initialize an array with zeros of the same shape as 'data'\n",
    "zeros_array = np.zeros_like(data)\n",
    "\n",
    "print(zeros_array)"
   ]
  },
  {
   "cell_type": "code",
   "execution_count": null,
   "id": "20de08af-22ee-4a9a-b35a-e5905557d736",
   "metadata": {},
   "outputs": [],
   "source": [
    "# Initialize an array using np.arange()\n",
    "arr = np.arange(1, 10, 2)  # Start from 1, end at 10 (exclusive), step size of 2\n",
    "\n",
    "print(arr)\n",
    "\n",
    "# Initialize an array using np.linspace()\n",
    "arr = np.linspace(0, 1, 5)  # Start from 0, end at 1 (inclusive), with 5 equally spaced values\n",
    "\n",
    "print(arr)"
   ]
  },
  {
   "cell_type": "code",
   "execution_count": null,
   "id": "d7b6959d-c74c-420d-bdcb-14d7a1deeb36",
   "metadata": {},
   "outputs": [],
   "source": [
    "# Create a NumPy array\n",
    "arr = np.array([True, False, True, False])\n",
    "\n",
    "# Check if any element in the array is True\n",
    "result = np.any(arr)\n",
    "\n",
    "print(result)\n",
    "\n",
    "# Check if all elements in the array are True\n",
    "result = np.all(arr)\n",
    "\n",
    "print(result)"
   ]
  },
  {
   "cell_type": "code",
   "execution_count": null,
   "id": "12379da5-51f7-4d9e-af00-a98c4dc5998f",
   "metadata": {},
   "outputs": [],
   "source": [
    "# Create a NumPy array\n",
    "arr = np.array([1, 2, 3, 4, 5])\n",
    "\n",
    "# Find the indices where the elements are greater than 3\n",
    "indices = np.where(arr > 3)\n",
    "\n",
    "print(indices)"
   ]
  },
  {
   "cell_type": "code",
   "execution_count": null,
   "id": "c4a9554a-ae8d-4d84-ba81-33e0dccb92ca",
   "metadata": {},
   "outputs": [],
   "source": [
    "arr_2d = np.arange(12).reshape(3,4)\n",
    "\n",
    "arr_2d"
   ]
  },
  {
   "cell_type": "code",
   "execution_count": null,
   "id": "71dad143-4b0f-463c-875c-a15be64f3450",
   "metadata": {},
   "outputs": [],
   "source": [
    "# some indexing options\n",
    "\n",
    "print(arr_2d[1,2])\n",
    "print(arr_2d[1,:])\n",
    "print(arr_2d[2])\n",
    "print(arr_2d[2:,-2:])\n",
    "print(arr_2d[::2,1::2])"
   ]
  },
  {
   "cell_type": "code",
   "execution_count": null,
   "id": "7a6a67c0-d586-481f-a021-d85e11f04d31",
   "metadata": {},
   "outputs": [],
   "source": [
    "# Summing over the different axes\n",
    "\n",
    "print(np.sum(arr_2d))\n",
    "print(np.sum(arr_2d, axis=0))\n",
    "print(np.sum(arr_2d, axis=1))"
   ]
  },
  {
   "cell_type": "code",
   "execution_count": null,
   "id": "152624ed-3cdc-492c-93d9-13f190b5c7d7",
   "metadata": {},
   "outputs": [],
   "source": [
    "# concatenating data using hstack and vstack\n",
    "\n",
    "print(np.hstack((arr_2d, np.array([[10],[26],[42]]))))\n",
    "print(np.vstack((arr_2d, np.array([12,14,16,18]))))"
   ]
  },
  {
   "cell_type": "markdown",
   "id": "581902e3-d82e-4ef4-8b27-9dce37f5b038",
   "metadata": {},
   "source": [
    "# Getting to know the Pandas library; Series and DataFrame"
   ]
  },
  {
   "cell_type": "markdown",
   "id": "48faec4a-6b0b-4a9e-9a9a-3d03f050eff0",
   "metadata": {},
   "source": [
    "## Getting to know pandas Series!"
   ]
  },
  {
   "cell_type": "code",
   "execution_count": null,
   "id": "5dbab874-33ff-4028-a68c-2b172c5e6a11",
   "metadata": {},
   "outputs": [],
   "source": [
    "# Initialize the Series and DataFrame separately because they are used so much\n",
    "\n",
    "from pandas import Series, DataFrame\n",
    "import pandas as pd\n",
    "import numpy as np"
   ]
  },
  {
   "cell_type": "code",
   "execution_count": null,
   "id": "d66d4d5c-2eee-4633-b640-4109ab70c1c2",
   "metadata": {},
   "outputs": [],
   "source": [
    "# Generate a Series instance with predefined values\n",
    "\n",
    "obj = Series([4, 7, -5, 3])"
   ]
  },
  {
   "cell_type": "code",
   "execution_count": null,
   "id": "83051a4f-07e3-4d38-835f-f3c847c307b3",
   "metadata": {},
   "outputs": [],
   "source": [
    "print(obj.values)\n",
    "print(obj.index)"
   ]
  },
  {
   "cell_type": "code",
   "execution_count": null,
   "id": "d1c960a1-2eda-41e9-9097-79d1d67f1b1d",
   "metadata": {},
   "outputs": [],
   "source": [
    "# A Series’s index can be altered in place by assignment:\n",
    "\n",
    "obj.index = ['Bob', 'Steve', 'Jeff', 'Ryan']\n",
    "print(obj)"
   ]
  },
  {
   "cell_type": "code",
   "execution_count": null,
   "id": "94113306-fbac-4c37-91a3-53c13844d6aa",
   "metadata": {},
   "outputs": [],
   "source": [
    "# Now generate a series with predefined indices\n",
    "\n",
    "obj2 = Series([4, 7, -5, 3], index=['d', 'b', 'a', 'c'])\n",
    "print(obj2)"
   ]
  },
  {
   "cell_type": "code",
   "execution_count": null,
   "id": "c7365bdc-477d-4cea-af24-c5e880b6a9d8",
   "metadata": {},
   "outputs": [],
   "source": [
    "obj2 = Series([4, 7, -5, 3], index=['d', 'b', 'a', 'c'])\n",
    "\n",
    "print(obj2.values)\n",
    "print(obj2.index)"
   ]
  },
  {
   "cell_type": "code",
   "execution_count": null,
   "id": "6316d040-ca01-4695-94cc-67964c5d7b69",
   "metadata": {},
   "outputs": [],
   "source": [
    "print(obj2.values)\n",
    "print(obj2.index)"
   ]
  },
  {
   "cell_type": "code",
   "execution_count": null,
   "id": "1f298889-fb7c-4431-9f30-94bef4d92268",
   "metadata": {},
   "outputs": [],
   "source": [
    "# Obtain the values by index\n",
    "\n",
    "print(obj2['a'])\n",
    "print(obj2['d'])"
   ]
  },
  {
   "cell_type": "code",
   "execution_count": null,
   "id": "cd5667af-13fa-4878-b3d7-298282f41053",
   "metadata": {},
   "outputs": [],
   "source": [
    "# You can also specify multiple values\n",
    "\n",
    "print(obj2[['c', 'a', 'd']])"
   ]
  },
  {
   "cell_type": "code",
   "execution_count": null,
   "id": "39a4fd40-c5b9-4362-9fec-1beed9f552d0",
   "metadata": {},
   "outputs": [],
   "source": [
    "print(obj2['b':'c'])"
   ]
  },
  {
   "cell_type": "code",
   "execution_count": null,
   "id": "90c8066d-a1c5-44c0-9587-fc1b94ef3b5f",
   "metadata": {},
   "outputs": [],
   "source": [
    "# And apply mathematical operations, note that the indices remain unchanged!\n",
    "\n",
    "print(obj2[obj2 > 0])\n",
    "print(obj2 * 2)\n",
    "print(np.exp(obj2))"
   ]
  },
  {
   "cell_type": "code",
   "execution_count": null,
   "id": "66606606-3b73-4246-98b6-ccab7dddc1c5",
   "metadata": {},
   "outputs": [],
   "source": [
    "# Another way to think about a Series is as a fixed-length, ordered dict, as it is a mapping \n",
    "# of index values to data values. It can be substituted into many functions that expect a dict\n",
    "\n",
    "print('b' in obj2)\n",
    "print('e' in obj2)"
   ]
  },
  {
   "cell_type": "code",
   "execution_count": null,
   "id": "a0cf1e5e-ecaf-4012-9f9f-b97941410ccb",
   "metadata": {},
   "outputs": [],
   "source": [
    "# Should you have data contained in a Python dict, you can create a Series from it by\n",
    "# passing the dict:\n",
    "\n",
    "sdata = {'Ohio': 35000, 'Texas': 71000, 'Oregon': 16000, 'Utah': 5000}\n",
    "obj3 = Series(sdata)\n",
    "\n",
    "print(obj3)"
   ]
  },
  {
   "cell_type": "code",
   "execution_count": null,
   "id": "7d342b9e-179c-406c-82d2-65701c3526ba",
   "metadata": {},
   "outputs": [],
   "source": [
    "# In the following case, 3 values found in sdata are placed in the appropriate locations, but since\n",
    "# no value for 'California' is found, it appears as NaN (not a number) which is considered in pandas to mark missing values\n",
    "\n",
    "states = ['California', 'Ohio', 'Oregon', 'Texas']\n",
    "obj4 = Series(sdata, index=states) # Unidentified blocks are filled with NaNs (not a number)\n",
    "\n",
    "print(obj4)"
   ]
  },
  {
   "cell_type": "code",
   "execution_count": null,
   "id": "fb9c881c-3ab7-4ef6-bdf5-e9e9602d4cb0",
   "metadata": {},
   "outputs": [],
   "source": [
    "obj3"
   ]
  },
  {
   "cell_type": "code",
   "execution_count": null,
   "id": "c792a3c6-7a57-4ce6-8a60-10765585a761",
   "metadata": {},
   "outputs": [],
   "source": [
    "# A critical Series feature for many applications is that it automatically aligns differently indexed data in arithmetic operations:\n",
    "\n",
    "print(obj3 + obj4)"
   ]
  },
  {
   "cell_type": "code",
   "execution_count": null,
   "id": "129d9246-634a-4cdc-946d-ed9024e931cd",
   "metadata": {},
   "outputs": [],
   "source": [
    "# Both the Series object itself and its index have a name attribute, which integrates with\n",
    "# other key areas of pandas functionality:\n",
    "\n",
    "obj5 = obj4.copy()\n",
    "obj5.name = 'population'\n",
    "obj5.index.name = 'state'\n",
    "\n",
    "print(obj4)\n",
    "print(obj5)"
   ]
  },
  {
   "cell_type": "markdown",
   "id": "fe968b6f-a918-4e91-b017-e73ff0e4dbe2",
   "metadata": {},
   "source": [
    "## Getting to know the pandas DataFrame!"
   ]
  },
  {
   "cell_type": "code",
   "execution_count": null,
   "id": "5c00d11c-5096-4d67-87a7-a19c05c58a2e",
   "metadata": {},
   "outputs": [],
   "source": [
    "# There are numerous ways to construct a DataFrame, though one of the most common\n",
    "# is from a dict of equal-length lists or NumPy arrays\n",
    "\n",
    "data = {'state': ['Ohio', 'Ohio', 'Ohio', 'Nevada', 'Nevada'],\n",
    " 'year': [2000, 2001, 2002, 2001, 2002],\n",
    " 'pop': [1.5, 1.7, 3.6, 2.4, 2.9]}\n",
    "frame = DataFrame(data)\n",
    "\n",
    "frame # this looks nicer than print(frame) if it's the final / only output of the cell, check it out if you don't believe me"
   ]
  },
  {
   "cell_type": "code",
   "execution_count": null,
   "id": "9b59c3b6-1091-4ed1-838a-eac03a059af7",
   "metadata": {},
   "outputs": [],
   "source": [
    "# If you specify a sequence of columns, the DataFrame’s columns will be exactly what you pass:\n",
    "\n",
    "frame = DataFrame(data, columns=['year', 'state', 'pop'])\n",
    "\n",
    "frame"
   ]
  },
  {
   "cell_type": "code",
   "execution_count": null,
   "id": "ff9b4fae-c55a-44c4-b444-c73b6e57e52f",
   "metadata": {},
   "outputs": [],
   "source": [
    "# As with Series, if you pass a column that isn’t contained in data, it will appear with NA\n",
    "# values in the result:\n",
    "\n",
    "frame2 = DataFrame(data, columns=['year', 'state', 'pop', 'debt'],\n",
    "    index=['one', 'two', 'three', 'four', 'five'])\n",
    "\n",
    "frame2"
   ]
  },
  {
   "cell_type": "code",
   "execution_count": null,
   "id": "4709e041-f347-4545-a0c1-fab177fe8ec7",
   "metadata": {},
   "outputs": [],
   "source": [
    "print(frame2.columns)"
   ]
  },
  {
   "cell_type": "code",
   "execution_count": null,
   "id": "d0e40e79-a367-4862-8ef0-d0c9ad500726",
   "metadata": {},
   "outputs": [],
   "source": [
    "# A column in a DataFrame can be retrieved as a Series either by dict-like notation or by attribute:\n",
    "\n",
    "print(frame2['state'])\n",
    "print(frame2.year)\n",
    "\n",
    "# Note that the returned Series have the same index as the DataFrame, and their name\n",
    "# attribute has been appropriately set."
   ]
  },
  {
   "cell_type": "code",
   "execution_count": null,
   "id": "e3c5bbd7-5eec-4fd2-8fbf-f888b68637a9",
   "metadata": {},
   "outputs": [],
   "source": [
    "# Two of the more common types of data selection using DataFrames are .loc and .iloc\n",
    "# loc is label-based, which means that you have to specify rows and columns based on their row and column labels.\n",
    "\n",
    "data = DataFrame(np.arange(16).reshape((4, 4)),\n",
    "    index=['Ohio', 'Colorado', 'Utah', 'New York'],\n",
    "    columns=['one', 'two', 'three', 'four'])\n",
    "\n",
    "print(data.loc['Ohio', 'three'])"
   ]
  },
  {
   "cell_type": "code",
   "execution_count": null,
   "id": "25357c58-ad3f-4cb9-90d2-4c86e848b5a4",
   "metadata": {},
   "outputs": [],
   "source": [
    "# iloc is integer position-based, so you have to specify rows and columns by their integer position values (0-based integer position).\n",
    "\n",
    "print(data.iloc[2, 3])"
   ]
  },
  {
   "cell_type": "code",
   "execution_count": null,
   "id": "15f43cb6-21de-4bc0-b16a-add5abafd811",
   "metadata": {},
   "outputs": [],
   "source": [
    "# Columns can be modified by assignment. For example, the empty 'debt' column could\n",
    "# be assigned a scalar value or an array of values:\n",
    "\n",
    "frame2['debt'] = 16.5\n",
    "\n",
    "frame2"
   ]
  },
  {
   "cell_type": "code",
   "execution_count": null,
   "id": "9c399df5-73de-423d-b89b-c34727007982",
   "metadata": {},
   "outputs": [],
   "source": [
    "frame2['debt'] = np.arange(5.)\n",
    "\n",
    "frame2"
   ]
  },
  {
   "cell_type": "code",
   "execution_count": null,
   "id": "4343973f-b889-46e0-8c94-664411dc8586",
   "metadata": {},
   "outputs": [],
   "source": [
    "frame2[frame2['pop']>2]"
   ]
  },
  {
   "cell_type": "code",
   "execution_count": null,
   "id": "740d6b82-15c8-45a8-80b6-6e3a6e3f7736",
   "metadata": {},
   "outputs": [],
   "source": [
    "# When assigning lists or arrays to a column, the value’s length must match the length\n",
    "# of the DataFrame. If you assign a Series, it will be instead conformed exactly to the\n",
    "# DataFrame’s index, inserting missing values in any holes:\n",
    "\n",
    "val = Series([-1.2, -1.5, -1.7], index=['two', 'four', 'five'])\n",
    "frame2['debt'] = val\n",
    "\n",
    "frame2"
   ]
  },
  {
   "cell_type": "code",
   "execution_count": null,
   "id": "5022ab49-1529-47f7-a33a-1402a6675c0c",
   "metadata": {},
   "outputs": [],
   "source": [
    "# Assigning a column that doesn’t exist will create a new column.\n",
    "\n",
    "frame2['eastern'] = frame2.state == 'Ohio'\n",
    "\n",
    "frame2"
   ]
  },
  {
   "cell_type": "code",
   "execution_count": null,
   "id": "3ffac63b-8abb-4e53-84f2-5de89a831d6e",
   "metadata": {},
   "outputs": [],
   "source": [
    "# The del keyword will delete columns as with a dict:\n",
    "\n",
    "del frame2['eastern']"
   ]
  },
  {
   "cell_type": "code",
   "execution_count": null,
   "id": "7337a54a-5bf2-41c2-b068-834f43820129",
   "metadata": {},
   "outputs": [],
   "source": [
    "frame2"
   ]
  },
  {
   "cell_type": "code",
   "execution_count": null,
   "id": "0506e48c-426b-423d-9f42-8278d6471ba7",
   "metadata": {},
   "outputs": [],
   "source": [
    "# Another common form of data is a nested dict of dicts format:\n",
    "pop = {'Nevada': {2001: 2.4, 2002: 2.9},\n",
    "    'Ohio': {2000: 1.5, 2001: 1.7, 2002: 3.6}}\n",
    "    \n",
    "# If passed to DataFrame, it will interpret the outer dict keys as the columns and the inner\n",
    "# keys as the row indices:\n",
    "frame3 = DataFrame(pop)    \n",
    "\n",
    "frame3"
   ]
  },
  {
   "cell_type": "code",
   "execution_count": null,
   "id": "5fdcfe73-696d-4a0a-a9ed-02156fa0f801",
   "metadata": {},
   "outputs": [],
   "source": [
    "# Of course you can always transpose the result:\n",
    "\n",
    "frame3.T"
   ]
  },
  {
   "cell_type": "code",
   "execution_count": null,
   "id": "4a170994-f6e4-4bfe-b495-e6e8d1d1c763",
   "metadata": {},
   "outputs": [],
   "source": [
    "# The keys in the inner dicts are unioned and sorted to form the index in the result. This\n",
    "# isn’t true if an explicit index is specified:\n",
    "DataFrame(pop, index=[2001, 2002, 2003])"
   ]
  },
  {
   "cell_type": "code",
   "execution_count": null,
   "id": "7005ea52-cd9d-4d5a-b47a-3be3129127a4",
   "metadata": {},
   "outputs": [],
   "source": [
    "# Dicts of Series are treated much in the same way:\n",
    "pdata = {'Ohio': frame3['Ohio'][:-1],\n",
    "         'Nevada': frame3['Nevada'][:2]}\n",
    "\n",
    "DataFrame(pdata)"
   ]
  },
  {
   "cell_type": "code",
   "execution_count": null,
   "id": "b34744ae-fc3e-43d3-a69e-a1dd6c00e928",
   "metadata": {},
   "outputs": [],
   "source": [
    "# If a DataFrame’s index and columns have their name attributes set, these will also be displayed:\n",
    "frame3.index.name = 'year'; frame3.columns.name = 'state'\n",
    "\n",
    "frame3"
   ]
  },
  {
   "cell_type": "code",
   "execution_count": null,
   "id": "c5841277-9c8b-4678-9573-9f765c147846",
   "metadata": {},
   "outputs": [],
   "source": [
    "# Like Series, the values attribute returns the data contained in the DataFrame as a 2D ndarray:\n",
    "\n",
    "frame3.values"
   ]
  },
  {
   "cell_type": "code",
   "execution_count": null,
   "id": "97bb6783-27d1-4216-8fac-1c11d7083a6c",
   "metadata": {},
   "outputs": [],
   "source": [
    "# If the DataFrame’s columns are different dtypes, the dtype of the values array will be\n",
    "# chosen to accomodate all of the columns:\n",
    "\n",
    "frame2.values"
   ]
  },
  {
   "cell_type": "markdown",
   "id": "33e0eb2e-b5c3-481c-a2a1-c93f6d9277c3",
   "metadata": {},
   "source": [
    "## Some subtleties with the Index class"
   ]
  },
  {
   "cell_type": "code",
   "execution_count": null,
   "id": "c70598a0-b531-4230-8d02-32c299b58ad3",
   "metadata": {},
   "outputs": [],
   "source": [
    "# pandas’s Index objects are responsible for holding the axis labels and other metadata\n",
    "# (like the axis name or names). Any array or other sequence of labels used when constructing\n",
    "# a Series or DataFrame is internally converted to an Index:\n",
    "\n",
    "obj = Series(range(3), index=['a', 'b', 'c'])\n",
    "index = obj.index\n",
    "\n",
    "# Index objects are immutable and thus can’t be modified by the user:\n",
    "index[-1] = 3"
   ]
  },
  {
   "cell_type": "markdown",
   "id": "782e2eed-2664-4397-b0d1-11ed471da978",
   "metadata": {},
   "source": [
    "## Reindexing"
   ]
  },
  {
   "cell_type": "code",
   "execution_count": null,
   "id": "748d8a96-a28a-479e-92ee-fe38e79d5418",
   "metadata": {},
   "outputs": [],
   "source": [
    "# A critical method on pandas objects is reindex, which means to create a new object\n",
    "# with the data conformed to a new index. Consider a simple example from above:\n",
    "\n",
    "obj = Series([4.5, 7.2, -5.3, 3.6], index=['d', 'b', 'a', 'c'])\n",
    "\n",
    "# Calling reindex on this Series rearranges the data according to the new index, \n",
    "# introducing missing values if any index values were not already present:\n",
    "obj2 = obj.reindex(['a', 'b', 'c', 'd', 'e'])\n",
    "\n",
    "obj2"
   ]
  },
  {
   "cell_type": "code",
   "execution_count": null,
   "id": "23cece7f-a33d-498c-a1a2-450b38e49539",
   "metadata": {},
   "outputs": [],
   "source": [
    "# For ordered data like time series, it may be desirable to do some interpolation or filling\n",
    "# of values when reindexing. The method option allows us to do this, using a method such\n",
    "# as ffill which forward fills the values:\n",
    "\n",
    "obj3 = Series(['blue', 'purple', 'yellow'], index=[0, 2, 4])\n",
    "\n",
    "print(obj3)\n",
    "\n",
    "# forward fitting\n",
    "obj4 = obj3.reindex(range(6), method='ffill')\n",
    "\n",
    "print(obj4)\n",
    "\n",
    "obj5 = obj3.reindex(range(6), method='bfill')\n",
    "\n",
    "print(obj5)"
   ]
  },
  {
   "cell_type": "code",
   "execution_count": null,
   "id": "71aeacf8-27ac-4dcf-b5af-341c5e033fa9",
   "metadata": {},
   "outputs": [],
   "source": [
    "# With DataFrame, reindex can alter either the (row) index, columns, or both. When\n",
    "# passed just a sequence, the rows are reindexed in the result;\n",
    "\n",
    "frame = DataFrame(np.arange(9).reshape((3, 3)), index=['a', 'c', 'd'],\n",
    "    columns=['Ohio', 'Texas', 'California'])\n",
    "\n",
    "print(frame)\n",
    "\n",
    "frame2 = frame.reindex(['a', 'b', 'c', 'd'])\n",
    "\n",
    "frame2"
   ]
  },
  {
   "cell_type": "code",
   "execution_count": null,
   "id": "a66f6f69-47d0-4039-891f-e717c94f36e8",
   "metadata": {},
   "outputs": [],
   "source": [
    "# The columns can be reindexed using the columns keyword:\n",
    "\n",
    "states = ['Texas', 'Utah', 'California']\n",
    "frame = frame.reindex(columns=states)\n",
    "\n",
    "print(frame)"
   ]
  },
  {
   "cell_type": "code",
   "execution_count": null,
   "id": "c4019b07-524f-4084-aeb2-01b5ea99d629",
   "metadata": {},
   "outputs": [],
   "source": [
    "# Both can be reindexed in one shot, though interpolation will only apply row-wise (axis 0):\n",
    "\n",
    "frame = frame.reindex(index=['a', 'b', 'c', 'd'], method='ffill',\n",
    "    columns=states)"
   ]
  },
  {
   "cell_type": "code",
   "execution_count": null,
   "id": "9ad72144-3a5a-44db-b030-00c9ed7f848a",
   "metadata": {},
   "outputs": [],
   "source": [
    "frame"
   ]
  },
  {
   "cell_type": "code",
   "execution_count": null,
   "id": "93c48c93-dde1-48d1-abaf-ff289a5cf9bd",
   "metadata": {},
   "outputs": [],
   "source": [
    "# Dropping one or more entries from an axis is easy if you have an index array or list\n",
    "# without those entries. As that can require a bit of munging and set logic, the drop\n",
    "# method will return a new object with the indicated value or values deleted from an axis:\n",
    "\n",
    "obj = Series(np.arange(5.), index=['a', 'b', 'c', 'd', 'e'])\n",
    "\n",
    "new_obj = obj.drop('c')\n",
    "\n",
    "new_obj"
   ]
  },
  {
   "cell_type": "code",
   "execution_count": null,
   "id": "73ffe468-2680-43ef-887f-b2a0fb6573e0",
   "metadata": {},
   "outputs": [],
   "source": [
    "# With DataFrame, index values can be deleted from either axis:\n",
    "\n",
    "data = DataFrame(np.arange(16).reshape((4, 4)),\n",
    "    index=['Ohio', 'Colorado', 'Utah', 'New York'],\n",
    "    columns=['one', 'two', 'three', 'four'])\n",
    "\n",
    "data = data.drop(['Colorado', 'Ohio'])\n",
    "data = data.drop(['two', 'four'], axis=1)\n",
    "\n",
    "data"
   ]
  },
  {
   "cell_type": "markdown",
   "id": "55246f0f-384a-4d4f-b04c-32f0dca6c447",
   "metadata": {},
   "source": [
    "## Indexing, selection, and filtering"
   ]
  },
  {
   "cell_type": "code",
   "execution_count": null,
   "id": "de6871b4-1021-41b4-a83b-edb741d045f0",
   "metadata": {},
   "outputs": [],
   "source": [
    "# Series indexing (obj[...]) works analogously to NumPy array indexing, except you can\n",
    "# use the Series’s index values instead of only integers. Here are some examples this:\n",
    "\n",
    "obj = Series(np.arange(4.), index=['a', 'b', 'c', 'd'])\n",
    "\n",
    "print(obj['b'])\n",
    "print(obj[1])\n",
    "print(obj[2:4])\n",
    "print(obj[['b', 'a', 'd']])\n",
    "print(obj[[1, 3]])\n",
    "print(obj[obj < 2])"
   ]
  },
  {
   "cell_type": "code",
   "execution_count": null,
   "id": "3004dde0-3c2b-43c3-8007-8e4437656eae",
   "metadata": {},
   "outputs": [],
   "source": [
    "# Slicing with labels behaves differently than normal Python slicing in that the endpoint\n",
    "# is inclusive:\n",
    "\n",
    "print(obj['b':'c'])"
   ]
  },
  {
   "cell_type": "code",
   "execution_count": null,
   "id": "39312583-7287-46e6-a287-1dd2b108a1ff",
   "metadata": {},
   "outputs": [],
   "source": [
    "# Setting using these methods works just as you would expect:\n",
    "\n",
    "obj['b':'c'] = 5\n",
    "\n",
    "print(obj)"
   ]
  },
  {
   "cell_type": "code",
   "execution_count": null,
   "id": "bbf6f229-5531-47df-af68-298aa465535e",
   "metadata": {},
   "outputs": [],
   "source": [
    "# As you’ve seen above, indexing into a DataFrame is for retrieving one or more columns\n",
    "# either with a single value or sequence:\n",
    "\n",
    "data = DataFrame(np.arange(16).reshape((4, 4)),\n",
    "    index=['Ohio', 'Colorado', 'Utah', 'New York'],\n",
    "    columns=['one', 'two', 'three', 'four'])\n",
    "\n",
    "print(data['two'])\n",
    "print(data[['three', 'one']])"
   ]
  },
  {
   "cell_type": "code",
   "execution_count": null,
   "id": "a31ff750-80ca-4df6-95f2-abf8153a58d6",
   "metadata": {},
   "outputs": [],
   "source": [
    "# Indexing like this has a few special cases. For example selecting rows by slicing or a boolean array:\n",
    "\n",
    "print(data[:2])\n",
    "print(data[data['three'] > 5])"
   ]
  },
  {
   "cell_type": "markdown",
   "id": "957ed76a-0316-4b31-9fe8-7040bcb13449",
   "metadata": {},
   "source": [
    "## Some final useful commands you might use in working with DataFrames"
   ]
  },
  {
   "cell_type": "markdown",
   "id": "b42903e8-8959-4c49-9439-65ed6e7c54f0",
   "metadata": {},
   "source": [
    "pandas objects are equipped with a set of common mathematical and statistical methods. Most of these fall into the category of reductions or summary statistics, methods that extract a single value (like the sum or mean) from a Series or a Series of values from\n",
    "the rows or columns of a DataFrame."
   ]
  },
  {
   "cell_type": "code",
   "execution_count": null,
   "id": "76e48d23-9c18-4cc5-86ca-8d9f5b0681cb",
   "metadata": {},
   "outputs": [],
   "source": [
    "df = DataFrame([[1.4, np.nan], [7.1, -4.5],\n",
    "    [np.nan, np.nan], [0.75, -1.3]],\n",
    "    index=['a', 'b', 'c', 'd'],\n",
    "    columns=['one', 'two'])\n",
    "\n",
    "df"
   ]
  },
  {
   "cell_type": "code",
   "execution_count": null,
   "id": "3aba9a82-0000-4f9b-9ee9-32e98a2105e9",
   "metadata": {},
   "outputs": [],
   "source": [
    "# Compared with the equivalent methods of vanilla NumPy arrays, they are all built from the ground up to exclude missing data. \n",
    "# Calling DataFrame’s sum method returns a Series containing column sums:\n",
    "\n",
    "print(df.sum())\n",
    "\n",
    "# Passing axis=1 sums over the rows instead:\n",
    "\n",
    "print(df.sum(axis=1))"
   ]
  },
  {
   "cell_type": "code",
   "execution_count": null,
   "id": "7731ab53-5f18-4d6b-acd3-e9608f6f5867",
   "metadata": {},
   "outputs": [],
   "source": [
    "# NA values are excluded unless the entire slice (row or column in this case) is NA. This\n",
    "# can be disabled using the skipna option:\n",
    "\n",
    "print(df.mean(axis=1, skipna=False))"
   ]
  },
  {
   "cell_type": "code",
   "execution_count": null,
   "id": "b7f57246-9520-4ce1-8c97-da66a56ed392",
   "metadata": {},
   "outputs": [],
   "source": [
    "# Some methods, like argmin and argmax, return index locations\n",
    "# where the minimum or maximum values are attained:\n",
    "\n",
    "print(df.idxmin())\n",
    "\n",
    "# Others give the minimum or maximum values\n",
    "\n",
    "print(df.max())"
   ]
  },
  {
   "cell_type": "markdown",
   "id": "dd0b0607-d5b0-4040-bec8-86b52e5355ab",
   "metadata": {},
   "source": [
    "## More advanced statistical analysis on larger datasets"
   ]
  },
  {
   "cell_type": "code",
   "execution_count": null,
   "id": "aab047d5-ad53-48f9-9084-ce078d0624a9",
   "metadata": {},
   "outputs": [],
   "source": [
    "# Let's import one of seaborn's default datasets which will work nicely with pandas too\n",
    "\n",
    "import seaborn as sns\n",
    "\n",
    "iris = sns.load_dataset(\"iris\")\n",
    "\n",
    "iris"
   ]
  },
  {
   "cell_type": "code",
   "execution_count": null,
   "id": "53d2c5d4-3b6c-4cec-850e-f5d50649a342",
   "metadata": {},
   "outputs": [],
   "source": [
    "# The corr method of Series computes the correlation of the overlapping, non-NA,\n",
    "# aligned-by-index values in two Series. Relatedly, cov computes the covariance:\n",
    "\n",
    "iris_setosa = iris[iris['species'] == 'setosa']\n",
    "\n",
    "iris_setosa\n",
    "\n",
    "print(iris.sepal_length.corr(iris.petal_length))\n",
    "print(iris.sepal_length.cov(iris.petal_length))"
   ]
  },
  {
   "cell_type": "code",
   "execution_count": null,
   "id": "38f080b4-15d9-4491-b95a-fc83a53c41fb",
   "metadata": {},
   "outputs": [],
   "source": [
    "# DataFrame’s corr and cov methods, on the other hand, return a full correlation or\n",
    "# covariance matrix as a DataFrame.\n",
    "\n",
    "print(iris.corr())\n",
    "\n",
    "# This doesn't work, we have to filter the strings"
   ]
  },
  {
   "cell_type": "code",
   "execution_count": null,
   "id": "92264dcc-ddea-4740-92f4-c6ba14de61f7",
   "metadata": {},
   "outputs": [],
   "source": [
    "iris_floats = iris[['sepal_length', 'sepal_width', 'petal_length', 'petal_width']]"
   ]
  },
  {
   "cell_type": "code",
   "execution_count": null,
   "id": "6095af9c-86a9-4264-8990-a89ed254842d",
   "metadata": {},
   "outputs": [],
   "source": [
    "print(iris_floats.mean()) # obtain the mean column-wise\n",
    "print(iris_floats.std()) # and the standard deviation"
   ]
  },
  {
   "cell_type": "code",
   "execution_count": null,
   "id": "dd690d3b-22f0-47a7-ac96-df02d98e2b71",
   "metadata": {},
   "outputs": [],
   "source": [
    "# a very useful command is the dir command, which gives you an overview of all the attributes and methods associated with an object\n",
    "\n",
    "test_var = 3.0\n",
    "print(dir(test_var))\n",
    "\n",
    "# Neglect the attributes and methods starting with either one or two underscores for now, they are typically hidden, but note that\n",
    "# a float has, amongst others, two attributes real and imag. The overall list is still quite small."
   ]
  },
  {
   "cell_type": "code",
   "execution_count": null,
   "id": "b0041a06-4229-4565-918e-ccdc07e1a201",
   "metadata": {},
   "outputs": [],
   "source": [
    "# If you're brave, try to have a look what attributes and methods a typical dataframe has available, you will be surprised! \n",
    "print(dir(iris))"
   ]
  },
  {
   "cell_type": "markdown",
   "id": "676b8d99-935a-4c47-b707-b32c826d42ba",
   "metadata": {},
   "source": [
    "# Extra exercises to get familiar with handling larger datasets"
   ]
  },
  {
   "cell_type": "markdown",
   "id": "fa998bef-26a8-42b7-b951-7533efeb9b9d",
   "metadata": {},
   "source": [
    "Feel free to load your own datasets, for example using pd.read_csv if you're data is in csv (comma-separated values) format.\n",
    "Otherwise, feel free to load any of the default seaborn datasets (https://github.com/mwaskom/seaborn-data) to play around with:"
   ]
  },
  {
   "cell_type": "code",
   "execution_count": null,
   "id": "c3ec8300-3573-4946-b2e9-a21fcdfc2d91",
   "metadata": {},
   "outputs": [],
   "source": [
    "import seaborn as sns\n",
    "\n",
    "# planets = sns.load_dataset(\"planets\")\n",
    "penguins = sns.load_dataset(\"penguins\")\n",
    "# fmri = sns.load_dataset(\"fmri\")\n",
    "\n",
    "# Or any of the other sets available on; https://github.com/mwaskom/seaborn-data\n",
    "\n",
    "penguins"
   ]
  },
  {
   "cell_type": "markdown",
   "id": "689f0aa0-6249-4783-93f8-ad02f6573da2",
   "metadata": {},
   "source": [
    "* Is there on average a weight difference between penguins from different islands? If so, is it significant?\n",
    "* Is there a correlation between the bill length and bill depth? And with the flipper length?\n",
    "* Bonus points if you can make a few cool plots using some of these datasets!"
   ]
  }
 ],
 "metadata": {
  "kernelspec": {
   "display_name": "DoE",
   "language": "python",
   "name": "doe"
  },
  "language_info": {
   "codemirror_mode": {
    "name": "ipython",
    "version": 3
   },
   "file_extension": ".py",
   "mimetype": "text/x-python",
   "name": "python",
   "nbconvert_exporter": "python",
   "pygments_lexer": "ipython3",
   "version": "3.9.16"
  }
 },
 "nbformat": 4,
 "nbformat_minor": 5
}
