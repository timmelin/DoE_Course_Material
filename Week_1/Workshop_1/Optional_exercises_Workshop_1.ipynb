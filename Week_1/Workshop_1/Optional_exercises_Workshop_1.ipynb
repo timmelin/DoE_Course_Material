{
 "cells": [
  {
   "cell_type": "markdown",
   "id": "fd996b4c-d5b2-419f-97ee-20b9c21cf178",
   "metadata": {},
   "source": [
    "# Week 1 - Workshop 1 - Introduction to Python using Jupyter Notebooks"
   ]
  },
  {
   "cell_type": "markdown",
   "id": "7cd8c0b6-2f22-430c-be35-d3891973f23d",
   "metadata": {},
   "source": [
    "## Exercise 1: Variables and Data Types"
   ]
  },
  {
   "cell_type": "code",
   "execution_count": 1,
   "id": "634f9022-427b-4aa1-9809-dbded2a51317",
   "metadata": {},
   "outputs": [
    {
     "name": "stdout",
     "output_type": "stream",
     "text": [
      "John Doe\n"
     ]
    }
   ],
   "source": [
    "# 1. Declare a variable named 'name' and assign your name to it.\n",
    "name = \"John Doe\"\n",
    "\n",
    "# 2. Print the value of the 'name' variable.\n",
    "print(name)"
   ]
  },
  {
   "cell_type": "markdown",
   "id": "5fc9262f-2c5b-4187-b82c-276c4b47f510",
   "metadata": {},
   "source": [
    "## Exercise 2: Control Flow"
   ]
  },
  {
   "cell_type": "code",
   "execution_count": 2,
   "id": "96af7671-b3d7-4dda-8183-87a252c279e2",
   "metadata": {},
   "outputs": [
    {
     "name": "stdout",
     "output_type": "stream",
     "text": [
      "Positive\n"
     ]
    }
   ],
   "source": [
    "# 1. Write an if-else statement to check if a number is positive, negative, or zero.\n",
    "number = 10\n",
    "\n",
    "if number > 0:\n",
    "    print(\"Positive\")\n",
    "elif number < 0:\n",
    "    print(\"Negative\")\n",
    "else:\n",
    "    print(\"Zero\")"
   ]
  },
  {
   "cell_type": "markdown",
   "id": "c988f11d-7a70-4225-9871-9c17d92d3e4c",
   "metadata": {},
   "source": [
    "## Exercise 3: Functions"
   ]
  },
  {
   "cell_type": "code",
   "execution_count": 3,
   "id": "02273c72-6ba6-46b8-8881-0da203e40913",
   "metadata": {},
   "outputs": [
    {
     "name": "stdout",
     "output_type": "stream",
     "text": [
      "Rectangle Area: 15\n"
     ]
    }
   ],
   "source": [
    "# 1. Define a function to calculate the area of a rectangle given its length and width.\n",
    "def calculate_rectangle_area(length, width):\n",
    "    area = length * width\n",
    "    return area\n",
    "\n",
    "# 2. Call the function with sample values and print the result.\n",
    "rectangle_area = calculate_rectangle_area(5, 3)\n",
    "print(\"Rectangle Area:\", rectangle_area)"
   ]
  },
  {
   "cell_type": "markdown",
   "id": "a88b13c2-eae9-4086-b9b9-d4e7020f2361",
   "metadata": {},
   "source": [
    "## Exercise 4: Object-Oriented Programming"
   ]
  },
  {
   "cell_type": "code",
   "execution_count": 6,
   "id": "17060dcb-5f7c-461d-995a-a65ed7af47b6",
   "metadata": {},
   "outputs": [
    {
     "name": "stdout",
     "output_type": "stream",
     "text": [
      "Hello, my name is Alice and I am 25 years old.\n"
     ]
    }
   ],
   "source": [
    "# 1. Define a class named 'Person' with attributes 'name' and 'age'.\n",
    "class Person:\n",
    "    def __init__(self, name, age):\n",
    "        self.name = name\n",
    "        self.age = age\n",
    "\n",
    "    def introduce(self):\n",
    "        print(\"Hello, my name is\", self.name, \"and I am\", self.age, \"years old.\")\n",
    "\n",
    "# 2. Create an object of the 'Person' class and call the 'introduce' method.\n",
    "person = Person(\"Alice\", 25)\n",
    "person.introduce()"
   ]
  },
  {
   "cell_type": "markdown",
   "id": "905b1fef-162d-41cc-9b6e-23f9aec72529",
   "metadata": {},
   "source": [
    "## Exercise 5: Modules and Libraries"
   ]
  },
  {
   "cell_type": "code",
   "execution_count": null,
   "id": "60914b49-4062-4264-813e-29ddf5d4346b",
   "metadata": {},
   "outputs": [],
   "source": [
    "# 1. Import the 'math' module and use the 'sqrt' function to calculate the square root of a number.\n",
    "import math\n",
    "\n",
    "number = 16\n",
    "sqrt_result = math.sqrt(number)\n",
    "print(\"Square Root:\", sqrt_result)"
   ]
  },
  {
   "cell_type": "markdown",
   "id": "ca7be395-e36e-49c2-892a-370526bba44d",
   "metadata": {},
   "source": [
    "## Exercise 6: File Handling"
   ]
  },
  {
   "cell_type": "code",
   "execution_count": 8,
   "id": "3b101456-30c2-482a-8c09-567f6224d787",
   "metadata": {},
   "outputs": [
    {
     "name": "stdout",
     "output_type": "stream",
     "text": [
      "File Contents: This is some data to be written.\n"
     ]
    }
   ],
   "source": [
    "# 1. Write data to a file named 'data.txt'.\n",
    "data = \"This is some data to be written.\"\n",
    "\n",
    "with open(\"data.txt\", \"w\") as file:\n",
    "    file.write(data)\n",
    "\n",
    "# 2. Read the contents of the file and print them.\n",
    "with open(\"data.txt\", \"r\") as file:\n",
    "    file_contents = file.read()\n",
    "\n",
    "print(\"File Contents:\", file_contents)"
   ]
  },
  {
   "cell_type": "markdown",
   "id": "d57e9191-7a6b-42ac-8570-1d28a8d73d6e",
   "metadata": {},
   "source": [
    "## Exercise 7: Error Handling"
   ]
  },
  {
   "cell_type": "code",
   "execution_count": 9,
   "id": "b079c09d-a415-4e97-b804-54e3aa4d85d0",
   "metadata": {},
   "outputs": [
    {
     "name": "stdout",
     "output_type": "stream",
     "text": [
      "Error: Division by zero!\n"
     ]
    }
   ],
   "source": [
    "# 1. Use a try-except block to handle a ZeroDivisionError.\n",
    "try:\n",
    "    result = 10 / 0\n",
    "except ZeroDivisionError:\n",
    "    print(\"Error: Division by zero!\")"
   ]
  },
  {
   "cell_type": "markdown",
   "id": "5cb31bf7-605d-46d9-8465-d5c17152c662",
   "metadata": {},
   "source": [
    "## Exercise 8: Debugging and Print Statements"
   ]
  },
  {
   "cell_type": "code",
   "execution_count": 10,
   "id": "c73aac6d-b24c-4b43-997f-02194e787a5f",
   "metadata": {},
   "outputs": [
    {
     "name": "stdout",
     "output_type": "stream",
     "text": [
      "The sum of 5 and 7 is 12\n"
     ]
    }
   ],
   "source": [
    "# 1. Debug the following code to find the issue and fix it.\n",
    "num1 = 5\n",
    "num2 = 7\n",
    "\n",
    "sum = num1 + num2\n",
    "print(\"The sum of\", num1, \"and\", num2, \"is\", sum)"
   ]
  },
  {
   "cell_type": "markdown",
   "id": "ab16989a-8900-47c9-b5f9-35e93cb0bb71",
   "metadata": {},
   "source": [
    "## Exercise 9: Array Slicing"
   ]
  },
  {
   "cell_type": "code",
   "execution_count": 11,
   "id": "26eb7431-211b-4426-9c27-d73a31016c67",
   "metadata": {},
   "outputs": [
    {
     "name": "stdout",
     "output_type": "stream",
     "text": [
      "Slice 1: [3, 4, 5, 6, 7]\n",
      "Slice 2: [6, 7, 8, 9, 10]\n"
     ]
    }
   ],
   "source": [
    "# 1. Create a list containing numbers from 1 to 10.\n",
    "my_list = [1, 2, 3, 4, 5, 6, 7, 8, 9, 10]\n",
    "\n",
    "# 2. Perform array slicing to extract a subset of the list.\n",
    "#    - Create a slice that includes elements from index 2 to 7 (exclusive).\n",
    "#    - Create another slice that includes elements from index 5 to the end.\n",
    "slice1 = my_list[2:7]\n",
    "slice2 = my_list[5:]\n",
    "\n",
    "print(\"Slice 1:\", slice1)\n",
    "print(\"Slice 2:\", slice2)\n"
   ]
  },
  {
   "cell_type": "markdown",
   "id": "d5629fcc-a2d8-486a-b6aa-dfcfe92cc8e2",
   "metadata": {},
   "source": [
    "# Exercise 10: Combining Concepts"
   ]
  },
  {
   "cell_type": "code",
   "execution_count": 12,
   "id": "c457f4b9-b3d4-46f0-895a-d1d9d20c4637",
   "metadata": {},
   "outputs": [
    {
     "name": "stdout",
     "output_type": "stream",
     "text": [
      "Factorial of 5 is 120\n"
     ]
    }
   ],
   "source": [
    "# 1. Write a function to calculate the factorial of a given number.\n",
    "def factorial(n):\n",
    "    if n == 0:\n",
    "        return 1\n",
    "    else:\n",
    "        return n * factorial(n-1)\n",
    "\n",
    "# 2. Use the factorial function to calculate the factorial of a number.\n",
    "number = 5\n",
    "factorial_result = factorial(number)\n",
    "print(\"Factorial of\", number, \"is\", factorial_result)\n"
   ]
  }
 ],
 "metadata": {
  "kernelspec": {
   "display_name": "DoE",
   "language": "python",
   "name": "doe"
  },
  "language_info": {
   "codemirror_mode": {
    "name": "ipython",
    "version": 3
   },
   "file_extension": ".py",
   "mimetype": "text/x-python",
   "name": "python",
   "nbconvert_exporter": "python",
   "pygments_lexer": "ipython3",
   "version": "3.9.16"
  }
 },
 "nbformat": 4,
 "nbformat_minor": 5
}
