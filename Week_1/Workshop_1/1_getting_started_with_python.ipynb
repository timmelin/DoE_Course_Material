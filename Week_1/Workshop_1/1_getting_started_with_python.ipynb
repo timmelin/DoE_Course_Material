{
 "cells": [
  {
   "cell_type": "markdown",
   "metadata": {},
   "source": [
    "<a href=\"https://colab.research.google.com/github/Teoroo-CMC/DoE_Course_Material/blob/main/Week_1/Workshop_1/1_getting_started_with_python.ipynb\" target=\"_parent\"><img src=\"https://colab.research.google.com/assets/colab-badge.svg\" alt=\"Open In Colab\"/></a>"
   ]
  },
  {
   "cell_type": "markdown",
   "metadata": {},
   "source": [
    "## Prelude\n",
    "\n",
    "Python is a programming language used not only by software developers. In many other fields, such as materials science, the programming language enjoys great popularity because calculations, data analysis and data visualization can be done quickly, reproducibly and with high-quality.\n",
    "\n",
    "This tutorial is not a complete introduction to the Python programming language. Rather, it is intended to give an overview over the tools that are useful in a scientific environment.\n",
    "\n",
    "There are a lot of resources in the internet to learn more about Python and the libraries mentioned in this document. You can refer to those during and after this lab."
   ]
  },
  {
   "cell_type": "markdown",
   "metadata": {},
   "source": [
    "## Jupyter Notebooks\n",
    "\n",
    "In bigger software projects the Python code is usually written in files with the suffix '.py'.\n",
    "In a scientific environment it is often more adequate to use jupyter notebooks instead (files with the suffix '.ipynb') since these support interactive data processing, analysis, and visualization in an easily shared format.\n",
    "\n",
    "The document that you are viewing right now is such a notebook. A notebook consists of blocks of (Python-)code and (Markdown-) text. Notebooks are executed in a so-called Kernel. Kernels are programming language specific processes that run independently and interact with the Notebook. You can see if a Kernel is currently running on the top-right corner of the screen.\n",
    "\n",
    "To run a cell of the notebook, select it (which gives it a green border) and either:\n",
    "- Press 'Run' at the top of the screen, or\n",
    "- Press 'Ctrl' and 'Enter'."
   ]
  },
  {
   "cell_type": "markdown",
   "metadata": {},
   "source": [
    "## Using NumPy, Pandas and Matplotlib"
   ]
  },
  {
   "cell_type": "markdown",
   "metadata": {},
   "source": [
    "Usually, the first few lines of Python code (or the first Jupyter Notebook cell) contain so-called import statements. These tell the Python interpreter which of the packages that we have installed on our computer we want to use in this notebook."
   ]
  },
  {
   "cell_type": "code",
   "execution_count": null,
   "metadata": {},
   "outputs": [],
   "source": [
    "import numpy as np # Now Numpy can be accessed via np.<name of variable or function to use>\n",
    "import pandas as pd # Now Pandas can be accessed via pd.<name of variable or function to use>\n",
    "# ignore the following line, it only tells the matplotlib library to display the plots within this notebook directly\n",
    "%matplotlib inline  "
   ]
  },
  {
   "cell_type": "markdown",
   "metadata": {},
   "source": [
    "So, here we import these tools and assign them abbreviated names ('import X as Y'). We do not have to use abbreviations of package names, and we can use other names if we prefer, but we choose to respect the Python tradition in these exercises."
   ]
  },
  {
   "cell_type": "markdown",
   "metadata": {},
   "source": [
    "### Disclaimer: \n",
    "\n",
    "Most of the Basic Python and NumPy code from this notebook has been taken from:\n",
    "\n",
    "https://medium.com/@manmeet20singh11/introduction-to-python-jupyter-notebook-numpy-and-pandas-a57dc1086a8f\n",
    "\n",
    "The examples given in the tutorial on that link are rather extensive and can serve as a good starting point diving into the Python and NumPy philosophies.\n",
    "\n",
    "Some of the exercises are taken from:\n",
    "\n",
    "https://raw.githubusercontent.com/weisscharlesj/SciCompforChemists/master/Book%5FPDF/SciCompforChemists%5F1.0.6a.pdf\n",
    "\n",
    "A good and more complete introduction into the programming language can be found here: \n",
    "\n",
    "https://docs.python.org/3/tutorial/\n",
    "\n",
    "You don't have to read everything here. This website is more a place to look things up."
   ]
  },
  {
   "cell_type": "markdown",
   "metadata": {},
   "source": [
    "## 1. Basic Python\n",
    "\n",
    "Python source code consists of the actual code and comments. \n",
    "The code is read and executed by the Python Interpreter line by line. This allows you to instruct the computer what you want it to do.\n",
    "Comments serve as a way of documenting the code, i.e. making it more readable to someone who has not taken part in writting the code. \n",
    "Basically, everything after a hash sign (#) and it not read by the interpreter."
   ]
  },
  {
   "cell_type": "markdown",
   "metadata": {},
   "source": [
    "### Python data types\n",
    "\n",
    "Python offers four primitive datatypes (Strings, Booleans, Integers and Floats) and a series of in-built non-primitive datatypes, like e.g. Tuples, Lists, Dictionaries and Sets, which allow you to bundle data together.\n",
    "\n",
    "Integers (\"whole numbers\") and floats are two different ways to represent numbers on a computer.\n",
    "Booleans are a data type best thought of as having either the value 1 or 0, or \"True\" or \"False\". They are very much used when working with algorithms and logic.\n",
    "\n",
    "Strings are used to represent text.\n",
    "\n",
    "Read through and execute the following cells and study the different outputs and the code that produces them."
   ]
  },
  {
   "cell_type": "markdown",
   "metadata": {},
   "source": [
    "#### Primitive datatypes"
   ]
  },
  {
   "cell_type": "code",
   "execution_count": null,
   "metadata": {},
   "outputs": [],
   "source": [
    "### Integers and floats\n",
    "\n",
    "x = 4          # Create an Integer and assign it to a variable with the name x\n",
    "print(x)       # Prints \"4\"\n",
    "print(type(x)) # Prints \"<class 'int'>\"\n",
    "print(x + 1)   # Addition; prints \"5\"\n",
    "print(x - 1)   # Subtraction; prints \"3\"\n",
    "print(x * 2)   # Multiplication; prints \"8\"\n",
    "print(x ** 2)  # Exponentiation; prints \"16\"\n",
    "x += 1         # Basically the same as x = x + 1\n",
    "print(x)       # Prints \"5\"\n",
    "x *= 2         # Basically the same as x = x * 2\n",
    "print(x)       # Prints \"10\"\n",
    "\n",
    "y = 1.5        # Create a Float and assign it to a variable with the name y\n",
    "print(type(y)) # Prints \"<class 'float'>\"\n",
    "print(y, y + 1, y * 2, y ** 2) # Prints \"1.5 2.5 3.0 2.25\"\n",
    "\n",
    "\n",
    "y              # If you only specify a variable name (regardless of the type) in the end of a cell, the value is printed (only works in Jupyter notebooks!)"
   ]
  },
  {
   "cell_type": "code",
   "execution_count": null,
   "metadata": {},
   "outputs": [],
   "source": [
    "# Booleans\n",
    "\n",
    "t = True       # Create a Boolean and assign it to a variable with the name t\n",
    "f = False      # Create a Boolean and assign it to a variable with the name f\n",
    "print(type(t), type(f)) # Prints \"<class 'bool'>\""
   ]
  },
  {
   "cell_type": "code",
   "execution_count": null,
   "metadata": {},
   "outputs": [],
   "source": [
    "# Strings\n",
    "\n",
    "hello = 'hello'    # String literals can use single quotes\n",
    "world = \"world\"    # or double quotes; it does not matter.\n",
    "print(hello)       # Prints \"hello\"\n",
    "print(len(hello))  # String length; prints \"5\"\n",
    "hw = hello + ' ' + world  # String concatenation\n",
    "print(hw)  # prints \"hello world\"\n",
    "hw12 = '%s %s %d' % (hello, world, 12)  # sprintf style string formatting\n",
    "print(hw12)  # prints \"hello world 12\""
   ]
  },
  {
   "cell_type": "markdown",
   "metadata": {},
   "source": [
    "#### Non-primitive datatypes"
   ]
  },
  {
   "cell_type": "code",
   "execution_count": null,
   "metadata": {},
   "outputs": [],
   "source": [
    "# Lists \n",
    "\n",
    "# List items are ordered, changeable, and allow duplicate values.\n",
    "\n",
    "A = [3, 1, 2]         # Create a list\n",
    "print(A, A[0])        # Prints \"[3, 1, 2] 3\" - counting starts with 0 in Python!\n",
    "print(A[-1])          # Negative indices count from the end of the list; prints \"2\"\n",
    "A[2] = 'element3'     # Lists can contain elements of different types\n",
    "print(A)              # Prints \"[3, 1, 'element3']\"\n",
    "\n",
    "A.append('element4')  # Use the append method of List and add a new element to the end of the list\n",
    "print(A)              # Prints \"[3, 1, 'element3', 'element4']\"\n",
    "b = A.pop()           # Use the append method of List and remove and return the last element of the list\n",
    "print(b, A)           # Prints \"element4 [3, 1, 'element3']\""
   ]
  },
  {
   "cell_type": "code",
   "execution_count": null,
   "metadata": {},
   "outputs": [],
   "source": [
    "# List slicing\n",
    "\n",
    "# A slice is a subview of a part of the list\n",
    "nums = list(range(5))     # an alternative way to create a list\n",
    "print(nums)               # Prints \"[0, 1, 2, 3, 4]\"\n",
    "print(nums[2:4])          # Get a slice from index 2 to 4 (exclusive); prints \"[2, 3]\"\n",
    "print(nums[2:])           # Get a slice from index 2 to the end; prints \"[2, 3, 4]\"\n",
    "print(nums[:2])           # Get a slice from the start to index 2 (exclusive); prints \"[0, 1]\"\n",
    "print(nums[:])            # Get a slice of the whole list; prints \"[0, 1, 2, 3, 4]\"\n",
    "print(nums[:-1])          # Slice indices can be negative; prints \"[0, 1, 2, 3]\"\n",
    "nums[2:4] = [8, 9]        # Assign a new sublist to a slice\n",
    "print(nums)               # Prints \"[0, 1, 8, 9, 4]\""
   ]
  },
  {
   "cell_type": "code",
   "execution_count": null,
   "metadata": {},
   "outputs": [],
   "source": [
    "# Tuples\n",
    "\n",
    "# A tuple is a collection which is ordered and unchangeable.\n",
    "\n",
    "thistuple = (\"apple\", \"banana\", \"cherry\")\n",
    "\n",
    "print(thistuple, thistuple[0])        # Prints \"(\"apple\", \"banana\", \"cherry\") \"apple\"\" - counting starts with 0 in Python!\n",
    "print(thistuple[-1])                  # Negative indices count from the end of the list; prints \"cherry\"\n",
    "\n",
    "# thistuple[0] = \"pineapple\"          # This will not work since tuples are unchangable\n",
    "print(thistuple)"
   ]
  },
  {
   "cell_type": "code",
   "execution_count": null,
   "metadata": {},
   "outputs": [],
   "source": [
    "# Sets\n",
    "\n",
    "# A set is a collection which is both unordered and unindexed.\n",
    "\n",
    "thisset = {\"apple\", \"banana\", \"cherry\"}\n",
    "print(thisset)        # This works with sets\n",
    "# print(thisset[1])   # This does not work with sets. They cannot be indexed.\n",
    "\n",
    "anotherset = {\"pineapple\", \"raspberry\", \"banana\", \"cloudberry\"}\n",
    "\n",
    "# Sets allow nice utilities\n",
    "# e.g. ...\n",
    "print(thisset.union(anotherset))                   # Returns a new set containing all items from both sets.\n",
    "print(thisset.symmetric_difference(anotherset))    # Returns a new set, that contains only the elements that are NOT present in both sets."
   ]
  },
  {
   "cell_type": "code",
   "execution_count": null,
   "metadata": {},
   "outputs": [],
   "source": [
    "# Dictionaries\n",
    "\n",
    "d = {'cat': 'cute', 'dog': 'furry'}  # Create a new dictionary with some data\n",
    "print(d['cat'])       # Get an entry from a dictionary; prints \"cute\"\n",
    "print('cat' in d)     # Check if a dictionary has a given key; prints \"True\"\n",
    "\n",
    "print(d)              # Prints {'cat': 'cute', 'dog': 'furry'}\n",
    "d['fish'] = 'wet'     # Set an entry in a dictionary\n",
    "print(d)              # Prints {'cat': 'cute', 'dog': 'furry', 'fish': 'wet'}\n",
    "d['fish'] = 'orange'\n",
    "print(d['fish'])      # Prints \"orange\"\n",
    "del d['fish']         # Remove an element from a dictionary\n",
    "print(d)              # Prints {'cat': 'cute', 'dog': 'furry'}"
   ]
  },
  {
   "cell_type": "markdown",
   "metadata": {},
   "source": [
    "### Loops"
   ]
  },
  {
   "cell_type": "code",
   "execution_count": null,
   "metadata": {},
   "outputs": [],
   "source": [
    "# A loop allows to do operations iteratively\n",
    "\n",
    "# The most common loop is the for loop\n",
    "integerlist = [0, 1, 2, 3, 4]\n",
    "\n",
    "for element in integerlist:\n",
    "    # Do something smart...\n",
    "    print(element)"
   ]
  },
  {
   "cell_type": "code",
   "execution_count": null,
   "metadata": {},
   "outputs": [],
   "source": [
    "# the same result as...\n",
    "for element in range(5):    # Create a range object instead of a list\n",
    "    # Do something smart...\n",
    "    print(element)"
   ]
  },
  {
   "cell_type": "code",
   "execution_count": null,
   "metadata": {},
   "outputs": [],
   "source": [
    "# Another common loop is the while loop\n",
    "\n",
    "# the same result as...\n",
    "counter = 0                 # Create a counter\n",
    "while counter < 5:          # Execute until first time False\n",
    "    # Do something smart...\n",
    "    print(counter)\n",
    "    counter += 1"
   ]
  },
  {
   "cell_type": "markdown",
   "metadata": {},
   "source": [
    "### Python functions\n",
    "\n",
    "Sometimes we perform certain tasks many times, but without having to re-write the lines that perform that task. For this purpose we define functions.\n",
    "\n",
    "A function usually takes in zero or several arguments, performs some sort of task using these arguments and then returns some object or information. Inside the definition of a function, we write the code that would perform the task when the function is run. Then, every time we want to run the function, we just call it."
   ]
  },
  {
   "cell_type": "code",
   "execution_count": null,
   "metadata": {},
   "outputs": [],
   "source": [
    "# Defining functions\n",
    "\n",
    "def sign(x):    # the function takes in one argument - here its name is x\n",
    "    \n",
    "    if x > 0:\n",
    "        return 'positive'\n",
    "    elif x < 0:\n",
    "        return 'negative'\n",
    "    else:\n",
    "        return 'zero'\n",
    "\n",
    "for x in [-1, 0, 1]:\n",
    "    print('sign of {} is {}'.format(x, sign(x))) # the function is called on numbers from the list which we loop through\n",
    "    \n",
    "# Prints \"negative\", \"zero\", \"positive\""
   ]
  },
  {
   "cell_type": "markdown",
   "metadata": {},
   "source": [
    "Puh... that was a lot to take in. Don't worry if you did't get everything until now. The lines above should only get you a feeling how Python works at it's core. Hold on a little more, now we can start to introduce Numpy which is one of the most well known Python libraries for handling numbers, vectors and matrices. "
   ]
  },
  {
   "cell_type": "markdown",
   "metadata": {},
   "source": [
    "## 2. NumPy"
   ]
  },
  {
   "cell_type": "code",
   "execution_count": null,
   "metadata": {},
   "outputs": [],
   "source": [
    "# The NumPy array\n",
    "\n",
    "a = np.array([1, 2, 3])   # Create a rank 1 array using Numpy \n",
    "print(type(a))            # Prints \"<class 'numpy.ndarray'>\"\n",
    "print(a.shape)            # Prints \"(3,)\"\n",
    "print(a[0], a[1], a[2])   # Prints \"1 2 3\"\n",
    "a[0] = 5                  # Change an element of the array\n",
    "print(a)                  # Prints \"[5, 2, 3]\"\n",
    "\n",
    "b = np.array([[1,2,3],[4,5,6]])    # Create a two-dimensional\n",
    "print(b.shape)                     # Prints the array's shape \"(2, 3)\" \n",
    "\n",
    "# Similarly, the elements of 2D arrays can be referred to through their column and row indices \n",
    "print(b[0, 0], b[0, 1], b[1, 0])   # Prints \"1 2 4\"\n",
    "                                   "
   ]
  },
  {
   "cell_type": "code",
   "execution_count": null,
   "metadata": {},
   "outputs": [],
   "source": [
    "# Other ways of creating an array\n",
    "\n",
    "a = np.zeros((2,2))   # Create an array of all zeros\n",
    "print(a)              # Prints \"[[ 0.  0.]\n",
    "                      #          [ 0.  0.]]\"\n",
    "\n",
    "b = np.ones((1,2))    # Create an array of all ones\n",
    "print(b)              # Prints \"[[ 1.  1.]]\"\n",
    "\n",
    "c = np.full((2,2), 7)  # Create a constant array\n",
    "print(c)               # Prints \"[[ 7.  7.]\n",
    "                       #          [ 7.  7.]]\"\n",
    "\n",
    "d = np.eye(2)         # Create a 2x2 identity matrix\n",
    "print(d)              # Prints \"[[ 1.  0.]\n",
    "                      #          [ 0.  1.]]\"\n",
    "\n",
    "e = np.random.random((2,2))  # Create an array filled with random values\n",
    "print(e)                     # Might print \"[[0.91940167 0.08143941]\n",
    "                             # [ 0.68744134  0.87236687]]\"\n",
    "    \n",
    "# Creating an array from a list\n",
    "F = [1,2,3,4]\n",
    "f = np.array(F)\n",
    "print(f)             # Prints \"[1 2 3 4]\""
   ]
  },
  {
   "cell_type": "code",
   "execution_count": null,
   "metadata": {},
   "outputs": [],
   "source": [
    "# NumPy math\n",
    "\n",
    "x = np.array([[1,2],[3,4]], dtype=np.float64)\n",
    "y = np.array([[5,6],[7,8]], dtype=np.float64)\n",
    "\n",
    "# Elementwise sum; both produce the array\n",
    "# [[ 6.0  8.0]\n",
    "#  [10.0 12.0]]\n",
    "print(x + y)\n",
    "print(list(x) + list(y)) # Note the difference between arrays and lists when it comes to addition!\n",
    "print(np.add(x, y))\n",
    "\n",
    "# Elementwise difference; both produce the array\n",
    "# [[-4.0 -4.0]\n",
    "#  [-4.0 -4.0]]\n",
    "print(x - y)\n",
    "print(np.subtract(x, y))\n",
    "\n",
    "# Elementwise product; both produce the array\n",
    "# [[ 5.0 12.0]\n",
    "#  [21.0 32.0]]\n",
    "print(x * y)\n",
    "print(np.multiply(x, y))\n",
    "\n",
    "# Elementwise division; both produce the array\n",
    "# [[ 0.2         0.33333333]\n",
    "#  [ 0.42857143  0.5       ]]\n",
    "print(x / y)\n",
    "print(np.divide(x, y))\n",
    "\n",
    "# Elementwise square root; produces the array\n",
    "# [[ 1.          1.41421356]\n",
    "#  [ 1.73205081  2.        ]]\n",
    "print(np.sqrt(x))\n",
    "\n",
    "# Performing a mathematical operation row- and column-wise\n",
    "x = np.array([[1,2],[3,4]])\n",
    "print(x)\n",
    "print(np.sum(x))  # Compute sum of all elements; prints \"10\"\n",
    "print(np.sum(x, axis=0))  # Compute sum of each column; prints \"[4 6]\"\n",
    "print(np.sum(x, axis=1))  # Compute sum of each row; prints \"[3 7]\""
   ]
  },
  {
   "cell_type": "markdown",
   "metadata": {},
   "source": [
    "When performing these array operations like summation, multiplication, etc. it is very important to make sure that the shapes of the arrays you are using for the operation are complementary. Most of the time you will get a warning but sometimes errors like this are tedious to debug.\n",
    "\n",
    "For convenience, numpy arrays also allow operations using \"*\", \"/\", \"+\" or \"-\" signs. **Uncomment the last line in the cell below to see what happens!**"
   ]
  },
  {
   "cell_type": "code",
   "execution_count": null,
   "metadata": {},
   "outputs": [],
   "source": [
    "x = np.arange(9)\n",
    "x = np.reshape(x, (3,3))\n",
    "\n",
    "print(x)\n",
    "\n",
    "y = np.ones((12))*np.arange(12)\n",
    "y = np.reshape(y, (3,4))\n",
    "print(y)\n",
    "\n",
    "#z = x+y"
   ]
  },
  {
   "cell_type": "markdown",
   "metadata": {},
   "source": [
    "Great job! You are now familiar with some important NumPy functionality. Of course, you don't have to remember all function names. Just use your favourite internet browser to find the functions which suit you best."
   ]
  },
  {
   "cell_type": "markdown",
   "metadata": {},
   "source": [
    "## 3. Pandas"
   ]
  },
  {
   "cell_type": "markdown",
   "metadata": {},
   "source": [
    "Pandas is always helpful if you have data which can be arranged in a column like way (relational data). \n",
    "The main object Pandas is providing is the so-called DataFrame which saves data in rows and columns and provides some handy functions.\n",
    "Here we will only cover some very basic things you can do with Pandas. We will not use much of Pandas' functionality in our labs, except for the purpose of displaying data in a table and then plotting the columns.\n",
    "\n",
    "So in this notebook we will only go through:\n",
    "\n",
    "- writing data into a DataFrame\n",
    "\n",
    "- importing data from an external file\n",
    "\n",
    "- writing a DataFrame to an external file\n",
    "\n",
    "- very basic statistic description of the data\n",
    "\n",
    "- adding columns into a DataFrame\n",
    "\n",
    "Plotting data directly from a Pandas DataFrame will (extensively) be covered in the **seaborn\\_tutorial.ipynb** notebook."
   ]
  },
  {
   "cell_type": "code",
   "execution_count": null,
   "metadata": {},
   "outputs": [],
   "source": [
    "# Ways of creating a pandas DataFrame\n",
    "\n",
    "# From a dictionary\n",
    "data = {\n",
    "    'apples': [3, 2, 0, 1],\n",
    "    'oranges': [0, 3, 7, 2]\n",
    "}\n",
    "\n",
    "purchases = pd.DataFrame(data)\n",
    "\n",
    "purchases # Reminder: If you only specify a variable name (regardless of the type) in the end of a cell, the value is printed (only works in Jupyter notebooks!)"
   ]
  },
  {
   "cell_type": "markdown",
   "metadata": {},
   "source": [
    "In the cell above, we have generated a DataFrame object called \"purchases\", using information contained in a dictionary called \"data\"."
   ]
  },
  {
   "cell_type": "code",
   "execution_count": null,
   "metadata": {},
   "outputs": [],
   "source": [
    "# From numpy arrays\n",
    "\n",
    "column_names = [\"apples\", \"oranges\"]\n",
    "data = np.array([[3,0],[2,3],[0,7],[1,2]])\n",
    "\n",
    "purchases = pd.DataFrame(data = data, columns = [\"apples\", \"oranges\"])\n",
    "\n",
    "purchases "
   ]
  },
  {
   "cell_type": "code",
   "execution_count": null,
   "metadata": {},
   "outputs": [],
   "source": [
    "# From a file\n",
    "\n",
    "sales = pd.read_csv('https://raw.githubusercontent.com/Teoroo-CMC/DoE_Course_Material/main/Week_1/Workshop_1/monthly_sales.csv', index_col = 0, on_bad_lines='skip')\n",
    "\n",
    "sales "
   ]
  },
  {
   "cell_type": "code",
   "execution_count": null,
   "metadata": {},
   "outputs": [],
   "source": [
    "# Some statistics information about the data from a DataFrame, per column\n",
    "# mean value\n",
    "# standard deviation\n",
    "# minimum value\n",
    "# maximum value\n",
    "# the 25%, 50% (median) and 75% percentiles\n",
    "\n",
    "sales.describe()"
   ]
  },
  {
   "cell_type": "code",
   "execution_count": null,
   "metadata": {},
   "outputs": [],
   "source": [
    "# Selecting a row\n",
    "sales.loc[\"Jun\"]"
   ]
  },
  {
   "cell_type": "code",
   "execution_count": null,
   "metadata": {},
   "outputs": [],
   "source": [
    "# Row-wise stats\n",
    "\n",
    "september_mean = min(sales.loc[\"Jul\"])\n",
    "print(september_mean)"
   ]
  },
  {
   "cell_type": "code",
   "execution_count": null,
   "metadata": {},
   "outputs": [],
   "source": [
    "# Adding an extra column\n",
    "predictions = np.round(100 + (np.random.rand(12,1)-np.full((12,1),0.5))*15, 2)\n",
    "\n",
    "index_list = sales.index.values.tolist() #extract row names from the sales DataFrame\n",
    "\n",
    "# Create a new DataFrame with the same indices like before\n",
    "sales_2021 = pd.DataFrame(data = predictions, columns = ['2021 sales %'], index = index_list)\n",
    "\n",
    "# Merge these two DataFrames into one\n",
    "sales_updated = pd.concat([sales, sales_2021], axis = 1)\n",
    "\n",
    "sales_updated"
   ]
  },
  {
   "cell_type": "markdown",
   "metadata": {},
   "source": [
    "#### Questions to practice Python\n",
    "\n",
    "1) A 1.6285 L (V) flask contains 1.220 moles (n) of ideal gas at 273.0 K (T). Calculate the pressure (P) for the \n",
    "   above system by assigning all values to variables (e.g., V, n, R, and T) and performing\n",
    "   the mathematical operations on the variables.\n",
    "    \n",
    "2) Calculate the distance of point (23, 81) from the origin on an xy-plane first using the \n",
    "   math.hypot() function and then by the following distance equation.\n",
    "    \n",
    "3) Assign x = 12 and then increase the value by 32 without typing “x = 32”.\n",
    "\n",
    "4) Create the following variable elements = 'NaKBrClNOUP' and slice it to \n",
    "   obtain the following strings.\n",
    "   \n",
    "       a) NaK\n",
    "       b) UP\n",
    "       c) NKrlOP\n",
    "\n",
    "5) For DNA = 'ATTCGCCGCTTA', use Boolean logic to show that the DNA sequence \n",
    "   is a palindrome. Hint: this will require a Boolean \n",
    "   logic operator to evaluate as True.\n",
    "   \n",
    "   \n",
    "6) Create a list of even numbers from 18 → 88 including 88. Using list methods, \n",
    "   perform the following transformations in order on the same list (you may have to google the required methods):\n",
    "   \n",
    "       a) Reverse the list\n",
    "       b) Remove the last value (i.e., 18)\n",
    "       c) Append 16\n",
    "   \n",
    "   \n",
    "7) Create a tuple of even numbers from 18 → 320 including 320. \n",
    "\n",
    "8) Can you reverse, remove, or append values to the tuple?\n",
    "\n",
    "9) Write a Python script that prints out “PV = nRT” twenty times.\n",
    "\n",
    "10) The isotope 137Cs has a half-life of about 30.2 years. Using a while loop, determine \n",
    "    how many half-lives until a 500.0 g sample would have to decay until there is less \n",
    "    that 10.00 grams left. Create a counter (counter = 0) and add 1 to it each cycle of\n",
    "    the while loop to keep count\n",
    "    \n",
    "11) Complete a function calculating the Boltzmann distribtion P = exp(-E/kT) taking parameters E (energy) and T (temperature). Then, use this function to plot the distribution against energy for different temperatures T = 100 K, 200 K and 500 K.\n"
   ]
  },
  {
   "cell_type": "code",
   "execution_count": null,
   "metadata": {},
   "outputs": [],
   "source": [
    "def boltzmann(E, T):\n",
    "    '''\n",
    "    Calculate the Boltzmann distribtion.\n",
    "    \n",
    "    Args:\n",
    "        E (float): Energy in kJ/mol.\n",
    "        T (float): Temperature in Kelvin.\n",
    "\n",
    "    Returns:\n",
    "        float: Boltzmann distribution.\n",
    "    '''\n",
    "    pass  # This keyword is just a placeholder and does nothing. You have to replace it with some nice code."
   ]
  },
  {
   "cell_type": "markdown",
   "metadata": {},
   "source": [
    "12) DNA is composed of two strands of the nucleotides adenine (A), thymine (T), \n",
    "    guanine (G), and cytosine (C). The two strands are lined up with adenine always \n",
    "    opposite of thymine and guanine opposite cytosine. For example, if one strand is \n",
    "    ATGGC, then the opposite strand is TACCG. Write a function that takes in a DNA \n",
    "    strand as a string and prints the opposite DNA strand of nucleotides.\n",
    "    \n",
    "13) create two random numpy arrays with shapes (5, 5) and perform a matrix multiplication and print the result. \n",
    "    You may have to find the functions you need in the Numpy documentation: https://numpy.org/"
   ]
  }
 ],
 "metadata": {
  "kernelspec": {
   "display_name": "DoE",
   "language": "python",
   "name": "doe"
  },
  "language_info": {
   "codemirror_mode": {
    "name": "ipython",
    "version": 3
   },
   "file_extension": ".py",
   "mimetype": "text/x-python",
   "name": "python",
   "nbconvert_exporter": "python",
   "pygments_lexer": "ipython3",
   "version": "3.9.16"
  }
 },
 "nbformat": 4,
 "nbformat_minor": 4
}
