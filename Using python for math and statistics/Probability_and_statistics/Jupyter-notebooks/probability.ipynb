{
 "cells": [
  {
   "attachments": {},
   "cell_type": "markdown",
   "metadata": {},
   "source": [
    "<a href=\"https://colab.research.google.com/github/Teoroo-CMC/DoE_Course_Material/blob/main/Week_2/Workshop_extra/Jupyter-notebooks/probability.ipynb\" target=\"_parent\"><img src=\"https://colab.research.google.com/assets/colab-badge.svg\" alt=\"Open In Colab\"/></a>"
   ]
  },
  {
   "attachments": {},
   "cell_type": "markdown",
   "metadata": {},
   "source": [
    "# Probability\n",
    "(adapted from CHEM 1000 - Spring 2023 Prof. Geoffrey Hutchison, University of Pittsburgh)\n",
    "\n",
    "Chapter 9 in [*Mathematical Methods for Chemists*][def]\n",
    "\n",
    "By the end of this session, you should be able to:\n",
    "- Understand the binomial and multinomial processes\n",
    "- Compute cumulative chances (e.g., lottery)\n",
    "- Understand calculating moments from probability distributions\n",
    "  - Mean, variance, skew, and kurtosis\n",
    "\n",
    "[def]: http://sites.bu.edu/straub/mathematical-methods-for-molecular-science/"
   ]
  },
  {
   "attachments": {},
   "cell_type": "markdown",
   "metadata": {},
   "source": [
    "## Randomness, Probability and Chemistry\n",
    "\n",
    "A common technique in simulating chemistry and physical behavior is called [Monte Carlo](https://en.wikipedia.org/wiki/Monte_Carlo_method) - essentially using random processes to solve complicated problems. For example, one can randomly sample many possible shapes of a polymer or sample from multiple possible arrangements in a nanoparticle, etc.\n",
    "\n",
    "I will assume you have some background in probability and statistics and focus only on some key areas.\n",
    "\n",
    "### Coin Flips and Binomial Distribution\n",
    "\n",
    "We're generally familiar with *descrete* random numbers, like flipping a coin heads or tails.\n",
    "\n",
    "If we flip a coin once, it's 1/2 chance of heads or tails.\n",
    "\n",
    "Over multiple events - each one is independent - the probability of a particular number of heads (n) in a total of N flips is:\n",
    "\n",
    "\\begin{equation}\n",
    "p(n, N) =\\frac{1}{2^{N}} \\frac{N !}{n !(N-n) !}\n",
    "\\end{equation}\n",
    "\n",
    "For 6 flips, this looks like:\n",
    "\n",
    "Image from [*Mathematical Methods for Chemists*](http://sites.bu.edu/straub/mathematical-methods-for-molecular-science/)\n",
    "\n",
    "<img src=\"./images/binomial.png\" width=\"350\" />\n",
    "\n",
    "We can calculate the counts either using the formula above, or via [Pascal's Triangle](https://en.wikipedia.org/wiki/Pascal%27s_triangle)\n",
    "\n",
    "<img src=\"images/pascal-triangle.png\" width=\"350\" />\n",
    "\n",
    "We can relate coin-flips with electron spin or nuclear spin (for NMR), etc. For example, given 3 unpaired electrons, how many arrangements are there?\n",
    "\n",
    "- Up, Up, Up\n",
    "- Up, Up, Down\n",
    ".. (etc)\n",
    "\n",
    "\n",
    "### Multinomial Probability\n",
    "\n",
    "Obviously we don't just flip coins (or electrons) so we also need to consider a multinomial distribution (i.e., rolling a 6-sided dice, or a system that can be in multiple equivalent states):\n",
    "\n",
    "<img src=\"./images/dice.jpg\" width=\"350\" />\n",
    "\n",
    "For example, if we roll a six-sided die, 5 times how many ways can we get 2 ones and 3 sixes (1 1 6 6 6):\n",
    "\n",
    "\\begin{equation}\n",
    "W(2,0,0,0,0,3 ; 5)=\\frac{5 !}{2 ! 0 ! 0 ! 0 ! 0 ! 3 !}=10\n",
    "\\end{equation}\n",
    "\n",
    "(Important to remember that 0! = 1)"
   ]
  },
  {
   "attachments": {},
   "cell_type": "markdown",
   "metadata": {},
   "source": [
    "## Cumulative Probability\n",
    "\n",
    "One common real-world probability question is about cumulative chances.\n",
    "\n",
    "My son came to me, asking about an iPad game where he can win a prize every time he opens a gift. Each gift has a chance of winning the prize. So he asks me if he buys 30 gifts, what's the chance he'll win the super-awesome dragon?\n",
    "\n",
    "That's a cumulative probability - he doesn't care *which* gift gives him the dragon, only that one of the thirty gifts works.\n",
    "\n",
    "Here's the catch - the game only gives dragons with 1% chance - you're more likely to get other prizes.\n",
    "\n",
    "While there's a formula, it's really, really easy to compute this with a for() loop.\n",
    "- what's the total cumulative chance?\n",
    "- what's the chance we didn't get the prize on the last round\n",
    "\n",
    "e.g.\n",
    "- first time through, there's a 1% chance of a win\n",
    "- second time, there was a 99% chance we didn't win, times the 1% chance I win on this round = 0.99% chance on this gift\n",
    "- third time, there's a 99.01% we didn't win on the 2nd round, times the 1% chance on the 3rd round\n",
    "- etc."
   ]
  },
  {
   "cell_type": "code",
   "execution_count": 1,
   "metadata": {},
   "outputs": [
    {
     "name": "stdout",
     "output_type": "stream",
     "text": [
      "1 0.01\n",
      "2 0.0199\n",
      "3 0.0297\n",
      "4 0.0394\n",
      "5 0.049\n",
      "6 0.0585\n",
      "7 0.0679\n",
      "8 0.0773\n",
      "9 0.0865\n",
      "10 0.0956\n",
      "11 0.1047\n",
      "12 0.1136\n",
      "13 0.1225\n",
      "14 0.1313\n",
      "15 0.1399\n",
      "16 0.1485\n",
      "17 0.1571\n",
      "18 0.1655\n",
      "19 0.1738\n",
      "20 0.1821\n",
      "21 0.1903\n",
      "22 0.1984\n",
      "23 0.2064\n",
      "24 0.2143\n",
      "25 0.2222\n",
      "26 0.23\n",
      "27 0.2377\n",
      "28 0.2453\n",
      "29 0.2528\n",
      "30 0.2603\n"
     ]
    }
   ],
   "source": [
    "# help danny\n",
    "total = 0.0 # start out with no chance to win the prize\n",
    "missed = 1.0 # i.e., he doesn't have the prize yet\n",
    "chance = 0.01 # chance of winning each time he opens the gift\n",
    "\n",
    "for egg in range(1,31): # remember the loop will go from start to end - 1 = 30\n",
    "    total = total + chance * missed\n",
    "    missed = missed * (1.0 - chance)\n",
    "    print(egg, round(total, 4))"
   ]
  },
  {
   "attachments": {},
   "cell_type": "markdown",
   "metadata": {},
   "source": [
    "Notice that even though there are 30 gifts, his cumulative probability is **not** 30 * 0.01, but lower...\n",
    "\n",
    "Not surprisingly, he decides a 26% chance of getting a dragon isn't very good and he picks a different game.\n",
    "\n",
    "No dragons, but this new game has a 4% chance of winning each time he plays.\n",
    "\n",
    "How long does he have to go for a good chance of winning a prize?"
   ]
  },
  {
   "cell_type": "code",
   "execution_count": 2,
   "metadata": {},
   "outputs": [
    {
     "name": "stdout",
     "output_type": "stream",
     "text": [
      "1 0.04\n",
      "2 0.0784\n",
      "3 0.1153\n",
      "4 0.1507\n",
      "5 0.1846\n",
      "6 0.2172\n",
      "7 0.2486\n",
      "8 0.2786\n",
      "9 0.3075\n",
      "10 0.3352\n",
      "11 0.3618\n",
      "12 0.3873\n",
      "13 0.4118\n",
      "14 0.4353\n",
      "15 0.4579\n",
      "16 0.4796\n",
      "17 0.5004\n",
      "18 0.5204\n",
      "19 0.5396\n",
      "20 0.558\n"
     ]
    }
   ],
   "source": [
    "# is this a better game?\n",
    "total = 0.0 # start out with no chance to win the prize\n",
    "missed = 1.0 # i.e., he doesn't have the prize yet\n",
    "chance = 0.04 # chance of winning each time he opens the gift\n",
    "\n",
    "for egg in range(1,21): # remember the loop will go from start to end - 1 = 20\n",
    "    total = total + chance * missed\n",
    "    missed = missed * (1.0 - chance)\n",
    "    print(egg, round(total, 4))"
   ]
  },
  {
   "attachments": {},
   "cell_type": "markdown",
   "metadata": {},
   "source": [
    "So it's 17 rounds before we break 50% so it's clearly better than the first game. Still, the cumulative chance is not N * 0.04...\n",
    "\n",
    "(Danny decided neither game was worth the money, incidentally.)"
   ]
  },
  {
   "attachments": {},
   "cell_type": "markdown",
   "metadata": {},
   "source": [
    "## Moments from Distributions\n",
    "\n",
    "Sometimes people will discuss \"[*moments*](https://en.wikipedia.org/wiki/Moment_(mathematics))\" of probability distributions or statistical distributions.\n",
    "\n",
    "These are related to the shape of the distribution.\n",
    "- the \"zeroth\" moment is the total (e.g., for a probability it should be 1 = 100%)\n",
    "- first moment is the [mean](https://en.wikipedia.org/wiki/Expected_value) $\\mu$ (i.e., the center or \"expected value\")\n",
    "- second moment is the [variance](https://en.wikipedia.org/wiki/Variance) $\\sigma^2$ (i.e., the width)\n",
    "    - you're probably more familiar with the standard deviation $\\sigma$\n",
    "- third moment is the [skewness](https://en.wikipedia.org/wiki/Skewness) (i.e., the asymmetry of the distribution)\n",
    "- fourth moment, the [kurtosis](https://en.wikipedia.org/wiki/Kurtosis) (i.e., how thin or thick the \"tail\" of the distribution)\n",
    "\n",
    "In general, the mean, variance (or standard deviation which is the square root of the variance) and the skewness are the most useful measures of a distribution.\n",
    "\n",
    "### Skewness\n",
    "\n",
    "Not all distributions are \"normal\" or symmetric. For example, the number of people waiting for a bus is never negative. Even if I tell you the average is 5 people in the morning, sometimes it's zero (when the bus just arrived) and it's sometimes much higher (right before the bus comes and someone runs to catch it).\n",
    "\n",
    "Image from Wikipedia:\n",
    "<a href=\"https://commons.wikimedia.org/wiki/File:Negative_and_positive_skew_diagrams_(English).svg#/media/File:Negative_and_positive_skew_diagrams_(English).svg\"><img src=\"https://upload.wikimedia.org/wikipedia/commons/thumb/f/f8/Negative_and_positive_skew_diagrams_%28English%29.svg/1200px-Negative_and_positive_skew_diagrams_%28English%29.svg.png\" alt=\"Negative and positive skew diagrams (English).svg\"></a>\n",
    "\n",
    "### Kurtosis\n",
    "\n",
    "Kurtosis is a measure of whether the data are heavy-tailed or light-tailed relative to a normal distribution. That is, distributions with high kurtosis tend to have many outliers.\n",
    "\n",
    "This is probably easier to plot:"
   ]
  },
  {
   "cell_type": "code",
   "execution_count": 4,
   "metadata": {},
   "outputs": [],
   "source": [
    "# let's plot this\n",
    "import numpy as np\n",
    "import matplotlib.pyplot as plt\n",
    "%matplotlib inline\n",
    "\n",
    "%config InlineBackend.figure_format = 'retina'\n",
    "#plt.style.use('../lectures/chem1000.mplstyle')"
   ]
  },
  {
   "cell_type": "code",
   "execution_count": 5,
   "metadata": {},
   "outputs": [],
   "source": [
    "# generate a \"normal\" distribution\n",
    "\n",
    "mu, sigma = 0, 0.1 # mean and standard deviation\n",
    "points = np.random.normal(mu, sigma, 1000) # 1,000 points from a normal distribution"
   ]
  },
  {
   "cell_type": "code",
   "execution_count": 6,
   "metadata": {},
   "outputs": [
    {
     "name": "stdout",
     "output_type": "stream",
     "text": [
      "mean -0.0009372221755259258\n",
      "variance 0.010125921001206134\n",
      "skewness -0.07177896828393618\n",
      "kurtosis 0.22529637910369615\n"
     ]
    }
   ],
   "source": [
    "import scipy.stats\n",
    "\n",
    "print('mean', np.mean(points))\n",
    "print('variance', np.var(points)) # variance\n",
    "\n",
    "print('skewness', scipy.stats.skew(points))\n",
    "print('kurtosis', scipy.stats.kurtosis(points))"
   ]
  },
  {
   "cell_type": "code",
   "execution_count": 7,
   "metadata": {},
   "outputs": [
    {
     "data": {
      "image/png": "[encoded data removed]",
      "text/plain": [
       "<Figure size 432x288 with 1 Axes>"
      ]
     },
     "metadata": {
      "image/png": {
       "height": 248,
       "width": 362
      },
      "needs_background": "light"
     },
     "output_type": "display_data"
    }
   ],
   "source": [
    "count, bins, ignored = plt.hist(points, 30, density=True)\n",
    "\n",
    "# add a red line with the perfect curve from a Gaussian distribution\n",
    "plt.plot(bins, 1/(sigma * np.sqrt(2 * np.pi)) *\n",
    "               np.exp( - (bins - mu)**2 / (2 * sigma**2) ),\n",
    "         linewidth=2, color='r')\n",
    "\n",
    "plt.show()"
   ]
  },
  {
   "cell_type": "code",
   "execution_count": 8,
   "metadata": {},
   "outputs": [
    {
     "name": "stdout",
     "output_type": "stream",
     "text": [
      "mean 0.13509467292527239\n",
      "variance 23.227873855745354\n",
      "skew 12.962948939738684\n",
      "kurtosis 361.46330594352276\n"
     ]
    }
   ],
   "source": [
    "# here's a different distribution (Cauchy - the same as a Lorentzian peak in spectra)\n",
    "from scipy.stats import cauchy\n",
    "\n",
    "mu, sigma = 0, 0.1 # mean and standard deviation\n",
    "points = cauchy.rvs(mu, sigma, 1000)\n",
    "\n",
    "print('mean', np.mean(points))\n",
    "print('variance', np.var(points)) # variance\n",
    "\n",
    "print('skew', scipy.stats.skew(points))\n",
    "print('kurtosis', scipy.stats.kurtosis(points))"
   ]
  },
  {
   "cell_type": "code",
   "execution_count": 9,
   "metadata": {},
   "outputs": [
    {
     "data": {
      "image/png": "[encoded data removed]",
      "text/plain": [
       "<Figure size 432x288 with 1 Axes>"
      ]
     },
     "metadata": {
      "image/png": {
       "height": 251,
       "width": 372
      },
      "needs_background": "light"
     },
     "output_type": "display_data"
    }
   ],
   "source": [
    "count, bins, ignored = plt.hist(points, 1000, density=True)\n",
    "\n",
    "# add a red line with the perfect curve from a Gaussian distribution\n",
    "plt.plot(bins, 1/(sigma * np.sqrt(2 * np.pi)) *\n",
    "               np.exp( - (bins - mu)**2 / (2 * sigma**2) ),\n",
    "         linewidth=2, color='r')\n",
    "\n",
    "plt.xlim(-0.5, 0.5)\n",
    "plt.show()"
   ]
  },
  {
   "attachments": {},
   "cell_type": "markdown",
   "metadata": {},
   "source": [
    "Notice that there's not as much in the middle and more on the outside? That's **kurtosis**.\n",
    "\n",
    "Can we generate some skew?\n",
    "\n",
    "Yes, there are many kinds of distributions, including intentionally skewed distributions"
   ]
  },
  {
   "cell_type": "code",
   "execution_count": 10,
   "metadata": {},
   "outputs": [
    {
     "name": "stdout",
     "output_type": "stream",
     "text": [
      "mean 0.0807050457284181\n",
      "variance 0.004164680047601254\n",
      "skew 0.8467052810240133\n",
      "kurtosis 0.9351843579697081\n"
     ]
    }
   ],
   "source": [
    "from scipy.stats import skewnorm\n",
    "\n",
    "mu, sigma = 0, 0.1 # mean and standard deviation\n",
    "asym = 4 # skew parameter\n",
    "points = skewnorm.rvs(asym, mu, sigma, 1000)\n",
    "\n",
    "print('mean', np.mean(points))\n",
    "print('variance', np.var(points)) # variance\n",
    "\n",
    "print('skew', scipy.stats.skew(points))\n",
    "print('kurtosis', scipy.stats.kurtosis(points))"
   ]
  },
  {
   "cell_type": "code",
   "execution_count": 11,
   "metadata": {},
   "outputs": [
    {
     "data": {
      "image/png": "[encoded data removed]",
      "text/plain": [
       "<Figure size 432x288 with 1 Axes>"
      ]
     },
     "metadata": {
      "image/png": {
       "height": 248,
       "width": 362
      },
      "needs_background": "light"
     },
     "output_type": "display_data"
    }
   ],
   "source": [
    "count, bins, ignored = plt.hist(points, 30, density=True)\n",
    "\n",
    "# add a red line with the perfect curve from a Gaussian distribution\n",
    "plt.plot(bins, 1/(sigma * np.sqrt(2 * np.pi)) *\n",
    "               np.exp( - (bins - mu)**2 / (2 * sigma**2) ),\n",
    "         linewidth=2, color='r')\n",
    "\n",
    "plt.show()"
   ]
  },
  {
   "attachments": {},
   "cell_type": "markdown",
   "metadata": {},
   "source": [
    "## Common Probability Distributions\n",
    "\n",
    "The following are all continuous distributions:\n",
    "\n",
    "- Uniform random (`scipy.stats.uniform`)\n",
    "- Gaussian / normal (`scipy.stats.norm`)\n",
    "- Cauchy (Lorentzian) (`scipy.stats.cauchy`)\n",
    "- Exponential (`scipy.stats.expon`)\n",
    "  - example: exponential decay of radioactive elements\n",
    "\n",
    "The [Poisson distribution](https://en.wikipedia.org/wiki/Poisson_distribution) and [binomial distribution](https://en.wikipedia.org/wiki/Poisson_distribution) are discrete probability distributions (e.g., 5 people at the bus stop, or 6 heads when flipping coins)."
   ]
  },
  {
   "attachments": {},
   "cell_type": "markdown",
   "metadata": {},
   "source": [
    "## Calculating Mean, Variance, etc. for a Probability Distribution\n",
    "\n",
    "When we have discrete data, it's easy to calculate a mean. We add up the values and divide by the count. However, it's not so hard when we have a continuous probability distribution either.\n",
    "\n",
    "Consider an equivalent way to calculate the mean - it's the value times the probability (e.g., a weighted mean):\n",
    "\n",
    "\\begin{equation}\n",
    "\\bar{x}=\\sum_{k=1}^{n} x_{k} p_{k}\n",
    "\\end{equation}\n",
    "\n",
    "In other words, we add up the values times the probability of occurring.\n",
    "\n",
    "With a continuous probability distribution, we \"just\" change the sum to an integral.\n",
    "\n",
    "\\begin{equation}\n",
    "\\sum_{k} p_{k} \\rightarrow \\int p(x) d x\n",
    "\\end{equation}\n",
    "\n",
    "So now if we want to calculate the mean of a probability distribution, we need:\n",
    "\n",
    "\\begin{equation}\n",
    "\\int x p(x) dx\n",
    "\\end{equation}\n",
    "\n",
    "For example:\n",
    "\n",
    "\\begin{equation}\n",
    "\\bar{x}=\\int_{a}^{b} x p(x) d x\n",
    "\\end{equation}\n",
    "\n",
    "Similarly, if we want the average of $x^2$ we can use:\n",
    "\\begin{equation}\n",
    "\\overline{x^{2}}=\\int_{a}^{b} x^{2} p(x) d x\n",
    "\\end{equation}\n",
    "\n",
    "To calculate the variance, we need:\n",
    "\\begin{equation}\n",
    "\\sigma_{x}^{2}=\\overline{(x-\\bar{x})^{2}}=\\overline{x^{2}}-(\\bar{x})^{2}\n",
    "\\end{equation}\n",
    "\n",
    "That might look confusing, but just means we want the difference:\n",
    "- the average of $x^2$\n",
    "- the average of $x$ and then square that number\n",
    "\n",
    "Below I've taken the integrals for the particle in a box, e.g.:\n",
    "\n",
    "\\begin{equation}\n",
    "p(x) = \\psi^*\\psi = \\frac{2}{L} \\sin^2 (\\frac{n \\pi x}{L})\n",
    "\\end{equation}"
   ]
  },
  {
   "cell_type": "code",
   "execution_count": 18,
   "metadata": {},
   "outputs": [
    {
     "name": "stdout",
     "output_type": "stream",
     "text": [
      "IPython console for SymPy 1.9 (Python 3.9.7-64-bit) (ground types: python)\n",
      "\n",
      "These commands were executed:\n",
      ">>> from __future__ import division\n",
      ">>> from sympy import *\n",
      ">>> x, y, z, t = symbols('x y z t')\n",
      ">>> k, m, n = symbols('k m n', integer=True)\n",
      ">>> f, g, h = symbols('f g h', cls=Function)\n",
      ">>> init_printing()\n",
      "\n",
      "Documentation can be found at https://docs.sympy.org/1.9/\n",
      "\n"
     ]
    }
   ],
   "source": [
    "import warnings\n",
    "warnings.filterwarnings(\"ignore\")\n",
    "\n",
    "from sympy import init_session\n",
    "init_session()"
   ]
  },
  {
   "cell_type": "code",
   "execution_count": 19,
   "metadata": {},
   "outputs": [
    {
     "data": {
      "text/latex": [
       "$\\displaystyle \\begin{cases} \\frac{L}{2} & \\text{for}\\: n \\neq 0 \\\\0 & \\text{otherwise} \\end{cases}$"
      ],
      "text/plain": [
       "⎧L           \n",
       "⎪─  for n ≠ 0\n",
       "⎨2           \n",
       "⎪            \n",
       "⎩0  otherwise"
      ]
     },
     "execution_count": 19,
     "metadata": {},
     "output_type": "execute_result"
    }
   ],
   "source": [
    "L = symbols('L')\n",
    "f = 2*x * sin(n*pi*x/L)**2/L\n",
    "simplify(integrate(f, (x, 0, L)))"
   ]
  },
  {
   "cell_type": "code",
   "execution_count": 14,
   "metadata": {},
   "outputs": [
    {
     "data": {
      "text/latex": [
       "$\\displaystyle \\begin{cases} \\frac{L^{2}}{3} - \\frac{L^{2}}{2 \\pi^{2} n^{2}} & \\text{for}\\: n \\neq 0 \\\\0 & \\text{otherwise} \\end{cases}$"
      ],
      "text/plain": [
       "⎧ 2       2             \n",
       "⎪L       L              \n",
       "⎪── - ───────  for n ≠ 0\n",
       "⎨3       2  2           \n",
       "⎪     2⋅π ⋅n            \n",
       "⎪                       \n",
       "⎩     0        otherwise"
      ]
     },
     "execution_count": 14,
     "metadata": {},
     "output_type": "execute_result"
    }
   ],
   "source": [
    "x_sq = 2*x**2*sin(n*pi*x/L)**2 / L\n",
    "simplify(integrate(x_sq, (x, 0, L)))"
   ]
  },
  {
   "cell_type": "code",
   "execution_count": 15,
   "metadata": {},
   "outputs": [
    {
     "data": {
      "text/latex": [
       "$\\displaystyle \\begin{cases} \\frac{L^{2} \\left(1 - \\frac{6}{\\pi^{2} n^{2}}\\right)}{12} & \\text{for}\\: n \\neq 0 \\\\0 & \\text{otherwise} \\end{cases}$"
      ],
      "text/plain": [
       "⎧ 2 ⎛      6  ⎞           \n",
       "⎪L ⋅⎜1 - ─────⎟           \n",
       "⎪   ⎜     2  2⎟           \n",
       "⎪   ⎝    π ⋅n ⎠           \n",
       "⎨──────────────  for n ≠ 0\n",
       "⎪      12                 \n",
       "⎪                         \n",
       "⎪      0         otherwise\n",
       "⎩                         "
      ]
     },
     "execution_count": 15,
     "metadata": {},
     "output_type": "execute_result"
    }
   ],
   "source": [
    "# variance = average(x**2) - average(x)**2\n",
    "var = integrate(x_sq, (x, 0, L)) - integrate(f, (x, 0, L))**2\n",
    "simplify(var)"
   ]
  },
  {
   "attachments": {},
   "cell_type": "markdown",
   "metadata": {},
   "source": [
    "-------\n",
    "This notebook is adapted from Prof. Geoffrey Hutchison, University of Pittsburgh\n",
    "https://github.com/ghutchis/chem1000\n",
    "\n",
    "<a rel=\"license\" href=\"http://creativecommons.org/licenses/by/4.0/\"><img alt=\"Creative Commons License\" style=\"border-width:0\" src=\"https://i.creativecommons.org/l/by/4.0/88x31.png\" /></a>"
   ]
  }
 ],
 "metadata": {
  "kernelspec": {
   "display_name": "base",
   "language": "python",
   "name": "python3"
  },
  "language_info": {
   "codemirror_mode": {
    "name": "ipython",
    "version": 3
   },
   "file_extension": ".py",
   "mimetype": "text/x-python",
   "name": "python",
   "nbconvert_exporter": "python",
   "pygments_lexer": "ipython3",
   "version": "3.9.7"
  },
  "toc": {
   "base_numbering": 1,
   "nav_menu": {},
   "number_sections": false,
   "sideBar": false,
   "skip_h1_title": false,
   "title_cell": "Table of Contents",
   "title_sidebar": "Contents",
   "toc_cell": false,
   "toc_position": {},
   "toc_section_display": false,
   "toc_window_display": false
  },
  "vscode": {
   "interpreter": {
    "hash": "a7322cd65eec679d3161492e85e84add5ac4e3cc28e76a062695347f6d4d8f6c"
   }
  }
 },
 "nbformat": 4,
 "nbformat_minor": 4
}
