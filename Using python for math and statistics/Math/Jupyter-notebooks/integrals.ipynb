{
 "cells": [
  {
   "attachments": {},
   "cell_type": "markdown",
   "metadata": {},
   "source": [
    "# Integrals\n",
    "\n",
    "(adapted from CHEM 1000 - Spring 2023 by Prof. Geoffrey Hutchison, University of Pittsburgh)\n",
    "\n",
    "\n",
    "\n",
    "Chapter 8 in [*Mathematical Methods for Chemists*](http://sites.bu.edu/straub/mathematical-methods-for-molecular-science/)\n",
    "\n",
    "By the end of this session, you should be able to:\n",
    "- Understand some basic rules for integrals in one variable\n",
    "    - Simple anti-derivatives\n",
    "    - U substitution\n",
    "    - Integration by parts\n",
    "    - Trig substitution\n",
    "- Understand challenges in doing integrals (i.e., we can't solve some of them)"
   ]
  },
  {
   "attachments": {},
   "cell_type": "markdown",
   "metadata": {},
   "source": [
    "## Motivation\n",
    "\n",
    "An integral computes the area under a curve. Consequently, there are **many** applications in physics and chemistry:\n",
    "- integrating peaks in NMR spectra inform the number and ratios of atoms (e.g., 3 $^1H$)\n",
    "- integrating electrical current over time yields the amount of charges\n",
    "- integrating force and displacement give the *work* performed\n",
    "- integrating an orbital (technically $\\psi^* \\psi$) tells us the probability of finding an electron in that region\n",
    "- integrating to find surface area and volume are important predictors of solubility\n",
    "- integrating to get the average value of a curve (e.g., average of a charge distribution from a molecule)\n",
    "- integrating to calculate the moments of inertia of a molecule\n",
    "\n",
    "Of course most people have this reaction to derivatives and integrals:\n",
    "\n",
    "From [XKCD](https://xkcd.com/2117/)\n",
    "<img src=\"https://imgs.xkcd.com/comics/differentiation_and_integration_2x.png\" width=\"441\" />"
   ]
  },
  {
   "attachments": {},
   "cell_type": "markdown",
   "metadata": {},
   "source": [
    "## Integrals and Antiderivatives\n",
    "\n",
    "The integral of a function is literally written as the area under the curve. That is, if we want the area under $f(x)$ from $a$ to $b$, we can divide it up into a bunch of little rectangles: $x_{0}=a<x_{1}<\\cdots<x_{N}=b$\n",
    "\n",
    "$$\n",
    "\\int_{a}^{b} f(x) d x=\\lim _{N \\rightarrow \\infty} \\sum_{i=1}^{N} f\\left(x_{i}^{*}\\right)\\left(x_{i}-x_{i-1}\\right)\n",
    "$$\n",
    "\n",
    "Notice that the product $f(x_i^ * ) (x_i - x_{i-1})$ for each $i$ is the area of a rectangle of height $f(x_i^ * )$ and width $x_i - x_{i-1}$. We can think of these \"Riemann sums\" as the area of $N$ rectangles with heights determined by the graph of $y=f(x)$.\n",
    "\n",
    "<img src='./images/riemann-sum.png' width='600'/>\n",
    "\n",
    "(We can use this definition to calculate numerical integrals if we cannot determine the exact expression of an integral.)\n",
    "\n",
    "One question is often how this area under a curve connects with derivatives. After all, the derivative is the tangent to the curve at a particular point. What's the connection?\n",
    "\n",
    "This connection is actually so important, it's called the [Fundamental Theorem of Calculus](https://en.wikipedia.org/wiki/Fundamental_theorem_of_calculus).\n",
    "\n",
    "Consider the 'extra' little bit of area in yellow:\n",
    "\n",
    "<img src='./images/integral-antiderivative.png' width='400' />\n",
    "\n",
    "If this is small enough, we can approximate the area as a rectangle. \n",
    "- The area from 0 to x is: $A(x)$\n",
    "- The area from zero to the \"new area\" is then $A(x+dx)$.\n",
    "- Obviously, the height of the rectangle is given by $f(x)$\n",
    "- The width of the rectangle is $dx$\n",
    "\n",
    "$$\n",
    "\\frac{A(x + dx) - A(x)}{dx} = f(x)\n",
    "$$\n",
    "\n",
    "The first part of that is the definition of the derivative $A'(x)$. Or, put another way, $A(x)$ is the antiderivative of $f(x)$."
   ]
  },
  {
   "attachments": {},
   "cell_type": "markdown",
   "metadata": {},
   "source": [
    "## Evaluating Integrals\n",
    "\n",
    "We'll discuss ***numeric*** integration later. Suffice to say that some times we don't have good ways to get an analytical formula for an integral.\n",
    "\n",
    "Let's start with derivatives, which we know:\n",
    "\n",
    "$$\n",
    "\\frac{d}{d x} f(x)=f^{\\prime}(x)\n",
    "$$\n",
    "\n",
    "We saw the total differential as well - the change in the function vs. the change in the $x$ value:\n",
    "\n",
    "$$\n",
    "d f(x)=f^{\\prime}(x) d x\n",
    "$$\n",
    "\n",
    "So for any case where we know the derivative, we can set up known integrals:\n",
    "\n",
    "$$\n",
    "f(x)=\\int d f(x)=\\int f^{\\prime}(x) d x\n",
    "$$\n",
    "\n",
    "#### Some Review of Common Integrals\n",
    "\n",
    "- Integration of a constant:\n",
    "\n",
    "$$\n",
    "\\int a d x=a \\int d x=a x+C\n",
    "$$\n",
    "\n",
    "Note this also means that the integral of a constant times a function can be evaluated by taking the constant 'out front'.\n",
    "\n",
    "- Polynomials / powers:\n",
    "\n",
    "$$\n",
    "\\int x^{n} d x=\\frac{1}{n+1} x^{n+1}+C \\quad n \\neq-1\n",
    "$$\n",
    "\n",
    "- 1/x (i.e., what to do for $x^{-1}$ above\n",
    "\n",
    "$$\n",
    "\\int \\frac{1}{x} d x=\\ln x+C\n",
    "$$\n",
    "\n",
    "- Integral of sums:\n",
    "\n",
    "Much like derivatives, when we have multiple terms in an integral, we can integrate each part separately:\n",
    "\n",
    "$$\n",
    "\\int[f(x)+g(x)] d x=\\int f(x) d x+\\int g(x) d x\n",
    "$$\n",
    "\n",
    "- Exponential:\n",
    "\n",
    "Borrowing from derivatives, the integral of $e^x$ will be $e^x$\n",
    "\n",
    "$$\n",
    "\\int e^{a x} d x=\\frac{1}{a} e^{a x}+C\n",
    "$$\n",
    "\n",
    "- Sines and Cosines:\n",
    "\n",
    "$$\n",
    "\\begin{array}{l}\n",
    "\\int \\sin (a x) d x=-\\frac{1}{a} \\cos (a x)+C \\\\\n",
    "\\int \\cos (a x) d x=\\frac{1}{a} \\sin (a x)+C\n",
    "\\end{array}\n",
    "$$\n",
    "\n",
    "<div class=\"alert alert-block alert-success\">\n",
    "\n",
    "These are the main integrals you should know. There are a few tools to integrate more complicated integrals, and there are some known *definite* integrals.\n",
    "    \n",
    "Beyond that, there are a few other ways to evaluate more complicated integrals:\n",
    "- substitution of variables\n",
    "- some functions (even complicated ones) have known integrals that can be found on integral tables\n",
    "- some integrals have no known formula, but are important enough to create \"special functions\" (e.g., the [error function erf(x)](https://en.wikipedia.org/wiki/Error_function)\n",
    "- use computer algebra / calculus tools like Mathematica or Sympy which will use combinations of these techniques\n",
    "- give up and perform numeric integration\n",
    "    \n",
    "</div>\n",
    "\n",
    "Let's review three general substitution patterns for integrals.\n",
    "\n",
    "#### 1. \"U Substitution\"\n",
    "\n",
    "Sometimes, we're lucky and have something like this:\n",
    "\n",
    "$$\n",
    "\\int \\cos ^{2} x \\sin x d x\n",
    "$$\n",
    "\n",
    "Unlike derivatives, there's no specific product rule for integrals. But we could define $u = \\cos x$ and then $du =-\\sin x dx$:\n",
    "\n",
    "$$\n",
    "\\int \\cos ^{2} x \\sin x d x=-\\int u^{2} d u=-\\frac{1}{3} u^{3}+C=-\\frac{1}{3} \\cos ^{3} x+C\n",
    "$$\n",
    "\n",
    "**This only works if you see an integral that looks like a product, with one part that's a derivative of the other.**\n",
    "\n",
    "#### 2. Integration by Parts\n",
    "\n",
    "What if you have an integral with a product, but it's not like that. You can often use integration by parts:\n",
    "\n",
    "$$\n",
    "\\int u d v=u v-\\int v d u\n",
    "$$\n",
    "\n",
    "That is, if you have two functions multiplied together, you pick a $u$ and a $dv$ and apply.\n",
    "\n",
    "For example:\n",
    "\n",
    "$$\n",
    "\\int_{0}^{\\infty} x e^{-a x} d x=\\int u d v\n",
    "$$\n",
    "\n",
    "$$\n",
    "\\begin{array}{cc}\n",
    "u=x & d v=e^{-a x} d x \\\\\n",
    "d u=d x & v=-\\frac{1}{a} e^{-a x}\n",
    "\\end{array}\n",
    "$$\n",
    "\n",
    "You might think \"but how did we get $v$\":\n",
    "\n",
    "$$\n",
    "v=\\int d v=\\int e^{-a x} d x=-\\frac{1}{a} e^{-a x}\n",
    "$$\n",
    "\n",
    "You might also ask \"how do you decide which one is $u$ and which one is $v$\" - the point is that you want this term to be really easy:\n",
    "\n",
    "$$\n",
    "\\int v d u\n",
    "$$\n",
    "\n",
    "Anyway, for this thing, you get:\n",
    "\n",
    "$$\n",
    "\\begin{aligned}\n",
    "\\int_{0}^{\\infty} x e^{-a x} d x &=\\int u d v=u v-\\int v d u=-\\left.\\frac{1}{a} x e^{-a x}\\right|_{0} ^{\\infty}-\\int_{0}^{\\infty}\\left(-\\frac{1}{a} e^{-a x}\\right) d x \\\\\n",
    "&=-\\left.\\frac{1}{a^{2}} e^{-a x}\\right|_{0} ^{\\infty}=\\frac{1}{a^{2}}\n",
    "\\end{aligned}\n",
    "$$\n",
    "\n",
    "#### 3.  Trigonometric Substitution\n",
    "\n",
    "Sometimes you can evaluate unknown trigonometric integrals using some flavor of trig identities.\n",
    "\n",
    "For example, $\\sin ^{2} x=\\frac{1}{2}(1-\\cos (2 x))$\n",
    "\n",
    "So we can then evaluate:\n",
    "\n",
    "$$\n",
    "\\begin{aligned}\n",
    "\\int \\sin ^{2} x d x &=\\int \\frac{1}{2}(1-\\cos (2 x)) d x=\\frac{1}{2} \\int d x-\\frac{1}{2} \\int \\cos (2 x) d x \\\\\n",
    "&=\\frac{1}{2} x-\\frac{1}{4} \\sin (2 x)+C\n",
    "\\end{aligned}\n",
    "$$\n",
    "\n",
    "<div class=\"alert alert-block alert-success\">\n",
    "\n",
    "I'll be honest. A lot of derivatives I can do in my head or with a bit of pen and paper.\n",
    "    \n",
    "I do most integrals with Sympy or Wolfram Alpha.\n",
    "\n",
    "I'm going to concentrate more on concepts than on \"can you do integral substitutions\"\n",
    "    \n",
    "</div>"
   ]
  },
  {
   "cell_type": "code",
   "execution_count": 1,
   "metadata": {
    "scrolled": true
   },
   "outputs": [
    {
     "name": "stdout",
     "output_type": "stream",
     "text": [
      "IPython console for SymPy 1.11.1 (Python 3.9.16-64-bit) (ground types: python)\n",
      "\n",
      "These commands were executed:\n",
      ">>> from sympy import *\n",
      ">>> x, y, z, t = symbols('x y z t')\n",
      ">>> k, m, n = symbols('k m n', integer=True)\n",
      ">>> f, g, h = symbols('f g h', cls=Function)\n",
      ">>> init_printing()\n",
      "\n",
      "Documentation can be found at https://docs.sympy.org/1.11.1/\n",
      "\n"
     ]
    }
   ],
   "source": [
    "from sympy import init_session\n",
    "init_session()"
   ]
  },
  {
   "cell_type": "markdown",
   "metadata": {},
   "source": [
    "The main command for `sympy` is `integrate(function, variable)`"
   ]
  },
  {
   "cell_type": "code",
   "execution_count": 2,
   "metadata": {},
   "outputs": [
    {
     "data": {
      "image/png": "[encoded data removed]",
      "text/latex": [
       "$\\displaystyle \\frac{2 x^{3}}{3} + \\frac{3 x^{2}}{2}$"
      ],
      "text/plain": [
       "   3      2\n",
       "2⋅x    3⋅x \n",
       "──── + ────\n",
       " 3      2  "
      ]
     },
     "execution_count": 2,
     "metadata": {},
     "output_type": "execute_result"
    }
   ],
   "source": [
    "integrate(2*x**2 + 3*x, x)"
   ]
  },
  {
   "cell_type": "code",
   "execution_count": 3,
   "metadata": {},
   "outputs": [
    {
     "data": {
      "text/latex": [
       "$\\displaystyle \\begin{cases} \\frac{\\left(- a x - 1\\right) e^{- a x}}{a^{2}} & \\text{for}\\: a^{2} \\neq 0 \\\\\\frac{x^{2}}{2} & \\text{otherwise} \\end{cases}$"
      ],
      "text/plain": [
       "⎧            -a⋅x            \n",
       "⎪(-a⋅x - 1)⋅ℯ           2    \n",
       "⎪────────────────  for a  ≠ 0\n",
       "⎪        2                   \n",
       "⎪       a                    \n",
       "⎨                            \n",
       "⎪        2                   \n",
       "⎪       x                    \n",
       "⎪       ──         otherwise \n",
       "⎪       2                    \n",
       "⎩                            "
      ]
     },
     "execution_count": 3,
     "metadata": {},
     "output_type": "execute_result"
    }
   ],
   "source": [
    "# integration by parts\n",
    "a = symbols('a')\n",
    "integrate(x*exp(-a*x), x)"
   ]
  },
  {
   "cell_type": "markdown",
   "metadata": {},
   "source": [
    "One catch, is that Sympy will omit the constant of integration C...\n",
    "\n",
    "What about trigonometric substitution?"
   ]
  },
  {
   "cell_type": "code",
   "execution_count": 4,
   "metadata": {},
   "outputs": [
    {
     "data": {
      "image/png": "[encoded data removed]",
      "text/latex": [
       "$\\displaystyle \\frac{x}{2} - \\frac{\\sin{\\left(x \\right)} \\cos{\\left(x \\right)}}{2}$"
      ],
      "text/plain": [
       "x   sin(x)⋅cos(x)\n",
       "─ - ─────────────\n",
       "2         2      "
      ]
     },
     "execution_count": 4,
     "metadata": {},
     "output_type": "execute_result"
    }
   ],
   "source": [
    "integrate(sin(x)**2, x)"
   ]
  },
  {
   "cell_type": "markdown",
   "metadata": {},
   "source": [
    "Weird integrals?"
   ]
  },
  {
   "cell_type": "code",
   "execution_count": 5,
   "metadata": {},
   "outputs": [
    {
     "data": {
      "image/png": "[encoded data removed]",
      "text/latex": [
       "$\\displaystyle 2 x \\sqrt{\\frac{1}{x}}$"
      ],
      "text/plain": [
       "        ___\n",
       "       ╱ 1 \n",
       "2⋅x⋅  ╱  ─ \n",
       "    ╲╱   x "
      ]
     },
     "execution_count": 5,
     "metadata": {},
     "output_type": "execute_result"
    }
   ],
   "source": [
    "integrate(sqrt(1/x), x)"
   ]
  },
  {
   "cell_type": "markdown",
   "metadata": {},
   "source": [
    "Do some practice:\n",
    "\n",
    "$\\int m v d v$\n",
    "\n",
    "$\\int \\frac{1}{x^{3}} d x$\n",
    "\n",
    "$\\int \\sin 3 x d x$\n",
    "\n",
    "$\\int(3 x+5)^{2} 4 x d x$\n",
    "\n",
    "$\\int e^{-\\varepsilon / k_{B} T} d \\varepsilon$\n",
    "\n",
    "$\\int \\cos (2 \\pi v t) d t$\n",
    "\n",
    "$\\int \\frac{R T}{p} d p$\n",
    "\n",
    "$\\int \\frac{1}{2} \\kappa x^{2} d x$\n",
    "\n",
    "$\\int \\frac{q^{2}}{4 \\pi \\varepsilon_{0} r^{2}} d r$"
   ]
  },
  {
   "cell_type": "code",
   "execution_count": 6,
   "metadata": {},
   "outputs": [
    {
     "data": {
      "image/png": "[encoded data removed]",
      "text/latex": [
       "$\\displaystyle - \\frac{q^{2}}{4 \\pi \\epsilon r}$"
      ],
      "text/plain": [
       "    2  \n",
       "  -q   \n",
       "───────\n",
       "4⋅π⋅ε⋅r"
      ]
     },
     "execution_count": 6,
     "metadata": {},
     "output_type": "execute_result"
    }
   ],
   "source": [
    "# space for practice\n",
    "q, epsilon, r = symbols('q epsilon r')\n",
    "integrate(q**2/(4*pi*epsilon*r**2), r)"
   ]
  },
  {
   "cell_type": "markdown",
   "metadata": {},
   "source": [
    "Does it seem like integration is harder than derivatives? You're not wrong.\n",
    "\n",
    "We can even time the difference!\n",
    "\n",
    "https://www.marksmath.org/visualization/integration_vs_differentiation/"
   ]
  },
  {
   "cell_type": "code",
   "execution_count": 7,
   "metadata": {},
   "outputs": [
    {
     "name": "stdout",
     "output_type": "stream",
     "text": [
      "CPU times: total: 15.6 ms\n",
      "Wall time: 20 ms\n",
      "CPU times: total: 1.42 s\n",
      "Wall time: 1.54 s\n"
     ]
    }
   ],
   "source": [
    "# pick a random function …\n",
    "f = exp(sin(x**2)) + 3*sqrt(x)\n",
    "\n",
    "%time i = diff(f, x)\n",
    "%time i = integrate(f, x)"
   ]
  },
  {
   "attachments": {},
   "cell_type": "markdown",
   "metadata": {},
   "source": [
    "-------\n",
    "This notebook is adapted from Prof. Geoffrey Hutchison, University of Pittsburgh\n",
    "https://github.com/ghutchis/chem1000\n",
    "\n",
    "<a rel=\"license\" href=\"http://creativecommons.org/licenses/by/4.0/\"><img alt=\"Creative Commons License\" style=\"border-width:0\" src=\"https://i.creativecommons.org/l/by/4.0/88x31.png\" /></a>"
   ]
  }
 ],
 "metadata": {
  "kernelspec": {
   "display_name": "base",
   "language": "python",
   "name": "python3"
  },
  "language_info": {
   "codemirror_mode": {
    "name": "ipython",
    "version": 3
   },
   "file_extension": ".py",
   "mimetype": "text/x-python",
   "name": "python",
   "nbconvert_exporter": "python",
   "pygments_lexer": "ipython3",
   "version": "3.9.7"
  },
  "toc": {
   "base_numbering": 1,
   "nav_menu": {},
   "number_sections": false,
   "sideBar": false,
   "skip_h1_title": false,
   "title_cell": "Table of Contents",
   "title_sidebar": "Contents",
   "toc_cell": false,
   "toc_position": {},
   "toc_section_display": false,
   "toc_window_display": false
  },
  "vscode": {
   "interpreter": {
    "hash": "a7322cd65eec679d3161492e85e84add5ac4e3cc28e76a062695347f6d4d8f6c"
   }
  }
 },
 "nbformat": 4,
 "nbformat_minor": 4
}
