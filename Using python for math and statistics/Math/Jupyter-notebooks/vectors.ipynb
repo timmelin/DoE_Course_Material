{
 "cells": [
  {
   "attachments": {},
   "cell_type": "markdown",
   "metadata": {},
   "source": [
    "# Vectors\n",
    "\n",
    "(adapted from  CHEM 1000 - Spring 2023 by Prof. Geoffrey Hutchison, University of Pittsburgh)\n",
    "\n",
    "\n",
    "Chapter 4 in [*Mathematical Methods for Chemists*](http://sites.bu.edu/straub/mathematical-methods-for-molecular-science/)\n",
    "\n",
    "By the end of this session, you should be able to:\n",
    "- Add and subtract vectors\n",
    "- Understand dot and cross products of vectors"
   ]
  },
  {
   "attachments": {},
   "cell_type": "markdown",
   "metadata": {},
   "source": [
    "## Scalars vs. Vectors\n",
    "\n",
    "\"**Scalars**\" are just numbers - they have a magnitude, a size. The mass of a molecule would be an example, e.g., 120 amu.\n",
    "\n",
    "<div class=\"alert alert-block alert-success\">\n",
    "\n",
    "**Vectors** have both a magnitude and a direction:\n",
    "- velocity $\\mathbf{v}$\n",
    "- acceleration $\\mathbf{a}$\n",
    "- force $\\mathbf{F}$\n",
    "- electric field $\\mathbf{E}$\n",
    "\n",
    "</div>\n",
    "    \n",
    "Even the position of atoms are vectors.\n",
    "\n",
    "Often, we use an arrow indicator: $\\vec{F}$ or bold symbols $\\mathbf{F}$ to indicate a vector is a bit different from other variables.\n",
    "\n",
    "While we'll use 2D or 3D vectors in chemistry the most, vectors aren't limited to that.\n",
    "\n",
    "Moreover, we usually work in 3D Cartesian coordinates:\n",
    "\n",
    "$$\n",
    "\\mathbf{w}=w_{x} \\hat{\\mathbf{x}}+w_{y} \\hat{\\mathbf{y}}+w_{z} \\hat{\\mathbf{z}}\n",
    "$$\n",
    "\n",
    "<img src=\"./images/vector-3d.png\" width=\"300\" />\n",
    "\n",
    "<div class=\"alert alert-block alert-info\">\n",
    "    <b>Tip:</b>\n",
    "    \n",
    "Much like earlier, we can transform this into spherical polar coordinates, for example. (Consider if we want to express the electric field between the nucleus of an atom and the electrons.)\n",
    "\n",
    "$$\n",
    "\\begin{aligned} r &=\\sqrt{w_{x}^{2}+w_{y}^{2}+w_{z}^{2}} \\\\ \n",
    "\\theta &=\\arccos \\left(\\frac{w_{z}}{r}\\right)=\\cos ^{-1}\\left(\\frac{w_{z}}{r}\\right) \\\\\n",
    "\\varphi &=\\tan ^{-1}\\left(\\frac{w_{y}}{w_{x}}\\right) \\end{aligned}\n",
    "$$\n",
    "\n",
    "</div>"
   ]
  },
  {
   "cell_type": "code",
   "execution_count": 1,
   "metadata": {},
   "outputs": [
    {
     "data": {
      "application/3dmoljs_load.v0": "<div id=\"3dmolviewer_16758431308796453\"  style=\"position: relative; width: 400px; height: 400px\">\n        <p id=\"3dmolwarning_16758431308796453\" style=\"background-color:#ffcccc;color:black\">You appear to be running in JupyterLab (or JavaScript failed to load for some other reason).  You need to install the 3dmol extension: <br>\n        <tt>jupyter labextension install jupyterlab_3dmol</tt></p>\n        </div>\n<script>\n\nvar loadScriptAsync = function(uri){\n  return new Promise((resolve, reject) => {\n    //this is to ignore the existence of requirejs amd\n    var savedexports, savedmodule;\n    if (typeof exports !== 'undefined') savedexports = exports;\n    else exports = {}\n    if (typeof module !== 'undefined') savedmodule = module;\n    else module = {}\n\n    var tag = document.createElement('script');\n    tag.src = uri;\n    tag.async = true;\n    tag.onload = () => {\n        exports = savedexports;\n        module = savedmodule;\n        resolve();\n    };\n  var firstScriptTag = document.getElementsByTagName('script')[0];\n  firstScriptTag.parentNode.insertBefore(tag, firstScriptTag);\n});\n};\n\nif(typeof $3Dmolpromise === 'undefined') {\n$3Dmolpromise = null;\n  $3Dmolpromise = loadScriptAsync('https://cdnjs.cloudflare.com/ajax/libs/3Dmol/2.0.1/3Dmol-min.min.js');\n}\n\nvar viewer_16758431308796453 = null;\nvar warn = document.getElementById(\"3dmolwarning_16758431308796453\");\nif(warn) {\n    warn.parentNode.removeChild(warn);\n}\n$3Dmolpromise.then(function() {\nviewer_16758431308796453 = $3Dmol.createViewer(document.getElementById(\"3dmolviewer_16758431308796453\"),{backgroundColor:\"white\"});\nviewer_16758431308796453.zoomTo();\n\tviewer_16758431308796453.addModel(\"3\\n water\\nO -2.843   0.469  0.000\\nH -1.873   0.469  0.000\\nH -3.166  -0.308 -0.482\\n\",\"xyz\");\n\tviewer_16758431308796453.setStyle({\"stick\": {}});\n\tviewer_16758431308796453.zoomTo();\nviewer_16758431308796453.render();\n});\n</script>",
      "text/html": [
       "<div id=\"3dmolviewer_16758431308796453\"  style=\"position: relative; width: 400px; height: 400px\">\n",
       "        <p id=\"3dmolwarning_16758431308796453\" style=\"background-color:#ffcccc;color:black\">You appear to be running in JupyterLab (or JavaScript failed to load for some other reason).  You need to install the 3dmol extension: <br>\n",
       "        <tt>jupyter labextension install jupyterlab_3dmol</tt></p>\n",
       "        </div>\n",
       "<script>\n",
       "\n",
       "var loadScriptAsync = function(uri){\n",
       "  return new Promise((resolve, reject) => {\n",
       "    //this is to ignore the existence of requirejs amd\n",
       "    var savedexports, savedmodule;\n",
       "    if (typeof exports !== 'undefined') savedexports = exports;\n",
       "    else exports = {}\n",
       "    if (typeof module !== 'undefined') savedmodule = module;\n",
       "    else module = {}\n",
       "\n",
       "    var tag = document.createElement('script');\n",
       "    tag.src = uri;\n",
       "    tag.async = true;\n",
       "    tag.onload = () => {\n",
       "        exports = savedexports;\n",
       "        module = savedmodule;\n",
       "        resolve();\n",
       "    };\n",
       "  var firstScriptTag = document.getElementsByTagName('script')[0];\n",
       "  firstScriptTag.parentNode.insertBefore(tag, firstScriptTag);\n",
       "});\n",
       "};\n",
       "\n",
       "if(typeof $3Dmolpromise === 'undefined') {\n",
       "$3Dmolpromise = null;\n",
       "  $3Dmolpromise = loadScriptAsync('https://cdnjs.cloudflare.com/ajax/libs/3Dmol/2.0.1/3Dmol-min.min.js');\n",
       "}\n",
       "\n",
       "var viewer_16758431308796453 = null;\n",
       "var warn = document.getElementById(\"3dmolwarning_16758431308796453\");\n",
       "if(warn) {\n",
       "    warn.parentNode.removeChild(warn);\n",
       "}\n",
       "$3Dmolpromise.then(function() {\n",
       "viewer_16758431308796453 = $3Dmol.createViewer(document.getElementById(\"3dmolviewer_16758431308796453\"),{backgroundColor:\"white\"});\n",
       "viewer_16758431308796453.zoomTo();\n",
       "\tviewer_16758431308796453.addModel(\"3\\n water\\nO -2.843   0.469  0.000\\nH -1.873   0.469  0.000\\nH -3.166  -0.308 -0.482\\n\",\"xyz\");\n",
       "\tviewer_16758431308796453.setStyle({\"stick\": {}});\n",
       "\tviewer_16758431308796453.zoomTo();\n",
       "viewer_16758431308796453.render();\n",
       "});\n",
       "</script>"
      ]
     },
     "metadata": {},
     "output_type": "display_data"
    }
   ],
   "source": [
    "# here's an example of a water molecule\n",
    "#   (don't worry about this code)\n",
    "#   (you can safely ignore it  )\n",
    "import py3Dmol\n",
    "# a string with the water atomic coordinates\n",
    "xyz = '''3\n",
    " water\n",
    "O -2.843   0.469  0.000\n",
    "H -1.873   0.469  0.000\n",
    "H -3.166  -0.308 -0.482\n",
    "'''\n",
    "# let's see it\n",
    "xyzview = py3Dmol.view(width=400,height=400)\n",
    "xyzview.addModel(xyz,'xyz')\n",
    "xyzview.setStyle({'stick':{}})\n",
    "xyzview.zoomTo()\n",
    "xyzview.show()"
   ]
  },
  {
   "cell_type": "code",
   "execution_count": 2,
   "metadata": {},
   "outputs": [],
   "source": [
    "import numpy as np\n",
    "\n",
    "# atoms in that water molecule\n",
    "o =  np.array([-2.843,  0.469,  0.000])\n",
    "h1 = np.array([-1.873,  0.469,  0.000])\n",
    "h2 = np.array([-3.166, -0.308, -0.482])"
   ]
  },
  {
   "attachments": {},
   "cell_type": "markdown",
   "metadata": {},
   "source": [
    "## Adding and Subtracting Vectors\n",
    "\n",
    "Adding and subtracting vectors is pretty easy - you add the individual components. (It's a bit like adding or subtracting complex numbers.)\n",
    "\n",
    "$$\\mathbf{v_1} = (a, b, c)$$\n",
    "$$\\mathbf{v_2} = (x, y, z)$$\n",
    "$$\\mathbf{v_1} + \\mathbf{v_2} = (a+x, b+y, c+z)$$"
   ]
  },
  {
   "cell_type": "code",
   "execution_count": 3,
   "metadata": {},
   "outputs": [
    {
     "name": "stdout",
     "output_type": "stream",
     "text": [
      "[-0.97  0.    0.  ]\n",
      "magnitude:  0.97 Å\n"
     ]
    }
   ],
   "source": [
    "# what's the bond length of o-h?\n",
    "\n",
    "o_h1 = o - h1 # subtract the two positions to get the vector along the bond\n",
    "print(o_h1)\n",
    "\n",
    "# there are faster ways to do this, but I'm being explicit in what's happening\n",
    "# magnitude = sqrt(x**2 + y**2 + z**2)\n",
    "# since arrays start from x=0,        y=1,        z=2\n",
    "print('magnitude: ', np.sqrt(o_h1[0]**2 + o_h1[1]**2 + o_h1[2]**2), \"Å\")"
   ]
  },
  {
   "cell_type": "code",
   "execution_count": 4,
   "metadata": {},
   "outputs": [
    {
     "name": "stdout",
     "output_type": "stream",
     "text": [
      "[-1.293 -0.777 -0.482]\n",
      "h-h distance:  1.583635690428831\n",
      "rounded:  1.584 Å\n"
     ]
    }
   ],
   "source": [
    "# what's the distance between the two hydrogens?\n",
    "h_h = h2 - h1\n",
    "print(h_h)\n",
    "\n",
    "# this numpy method gives us the \"norm\" or magnitude of any vector\n",
    "distance = np.linalg.norm(h_h)\n",
    "print('h-h distance: ', distance)\n",
    "# oops, let's make sure we track significant figures!\n",
    "print('rounded: ', round(distance, 3), \"Å\")"
   ]
  },
  {
   "cell_type": "code",
   "execution_count": 5,
   "metadata": {},
   "outputs": [
    {
     "name": "stdout",
     "output_type": "stream",
     "text": [
      "[-7.882  0.63  -0.482]\n",
      "[-2.627  0.21  -0.161]\n"
     ]
    }
   ],
   "source": [
    "# we can also average the positions by adding them and dividing by 3\n",
    "center = (o + h1 + h2)/3\n",
    "total = (o+h1+h2)\n",
    "print(total)\n",
    "\n",
    "# we can set the precision of the display\n",
    "np.set_printoptions(precision=3)\n",
    "\n",
    "print(center)"
   ]
  },
  {
   "attachments": {},
   "cell_type": "markdown",
   "metadata": {},
   "source": [
    "## Scalar product\n",
    "\n",
    "You might have missed it, but we actually multiplied a vector by a scalar number above, when taking an average:\n",
    "\n",
    "$$ centroid = \\frac{\\sum \\mathbf{v_i}}{n} $$\n",
    "\n",
    "Not surprisingly, multiplying a vector by a number, you just multipy the components:\n",
    "\n",
    "$$\\mathbf{v_2} = (x, y, z)$$\n",
    "$$\\pi \\mathbf{v_2} = (\\pi x, \\pi y, \\pi z)$$\n",
    "\n",
    "Dividing by a number is simply multiplying by $1 / n$ - it's still a scalar."
   ]
  },
  {
   "attachments": {},
   "cell_type": "markdown",
   "metadata": {},
   "source": [
    "## Vector - Vector Multiplication\n",
    "\n",
    "There are two ways to multiply one vector and another vector:\n",
    "- the **scalar** dot product (i.e. $v_1 \\bullet v_2 = c$ where $c$ is a scalar number)\n",
    "- the **vector** cross product (i.e. $v_1 \\times v_2 = v_3$ where $v_3$ is a new vector)\n",
    "\n",
    "Both are useful for different tasks."
   ]
  },
  {
   "attachments": {},
   "cell_type": "markdown",
   "metadata": {},
   "source": [
    "### Dot product\n",
    "\n",
    "$$\\mathbf{v} \\bullet \\mathbf{w} = v_x w_x + v_y w_y + v_z w_z$$\n",
    "\n",
    "Note that this is simply the product of the individual components of $\\mathbf{v}$ and $\\mathbf{w}$\n",
    "\n",
    "#### Geometric interpretation\n",
    "\n",
    "The dot product can also be written as:\n",
    "\n",
    "$$\n",
    "\\mathbf{v} \\cdot \\mathbf{w}=|\\mathbf{v}||\\mathbf{w}| \\cos \\theta\n",
    "$$\n",
    "\n",
    "It's pretty easy to see that if $\\mathbf{v} = \\mathbf{w}$ then \n",
    "\n",
    "$$\\mathbf{v} \\cdot \\mathbf{v} = |\\mathbf{v}^2|$$\n",
    "\n",
    "Also, if $\\theta = 90\\deg$ then the two vectors are perpendicular, $\\cos \\theta = 0$ and:\n",
    "\n",
    "$$\n",
    "\\mathbf{v} \\cdot \\mathbf{w}=|\\mathbf{v}||\\mathbf{w}| \\cos 0 = 0\n",
    "$$\n",
    "\n",
    "<img src=\"./images/vector-dotproduct.png\" width=\"296\" />\n",
    "\n",
    "<div class=\"alert alert-block alert-success\">\n",
    "    \n",
    "The dot product $\\mathbf{v} \\cdot \\mathbf{w}$ can be considered the projection of $\\mathbf{v}$ onto $\\mathbf{w}$ or equivalently the projection of $\\mathbf{w}$ onto $\\mathbf{v}$.\n",
    "    \n",
    "</div>"
   ]
  },
  {
   "cell_type": "code",
   "execution_count": 6,
   "metadata": {},
   "outputs": [
    {
     "name": "stdout",
     "output_type": "stream",
     "text": [
      "-0.3133099999999999\n",
      "-0.3133099999999999\n",
      "-0.3133733050623246\n"
     ]
    }
   ],
   "source": [
    "# first, let's check the different ways to calculate a dot product\n",
    "o_h1 = o - h1\n",
    "o_h2 = o - h2\n",
    "\n",
    "dot = o_h1[0] * o_h2[0] + o_h1[1] * o_h2[1] + o_h1[2] * o_h2[2]\n",
    "print(dot)\n",
    "\n",
    "# there's a numpy method np.dot(a, b)\n",
    "print(np.dot(o_h1, o_h2))\n",
    "\n",
    "# let's compare to the |v| * |w| * cos(theta) form\n",
    "\n",
    "# np.radians converts a number in degrees to radians\n",
    "cos_theta = np.cos(np.radians(109.46))\n",
    "print(np.linalg.norm(o_h1) * np.linalg.norm(o_h2) * cos_theta)"
   ]
  },
  {
   "attachments": {},
   "cell_type": "markdown",
   "metadata": {},
   "source": [
    "Okay, there are some small numerical differences - I intentionally did not round the results to remind ourselves that numerical errors can creep into programs.\n",
    "\n",
    "So what?\n",
    "\n",
    "#### Dot Product Example\n",
    "\n",
    "Let's imagine an electric field **E** applied to a polar molecule. In my group's research, we apply electric fields to molecules at a surface. So we know that the electric field is directly 'up' from the metal surface, but the molecule is often at an angle.\n",
    "\n",
    "<img src=\"./images/vector-dipole.png\" width=\"310\" />\n",
    "\n",
    "The potential energy of interaction (a scalar) will be $V = \\mathbf{E}\\cdot\\mathbf{\\mu}$ if the dipole moment of the molecule is $\\mu$.\n",
    "\n",
    "That means we can write out the energy V as a function:\n",
    "\n",
    "$$\n",
    "V(\\theta)=-\\mathbf{E} \\cdot \\boldsymbol{\\mu}=-|\\mathbf{E}||\\boldsymbol{\\mu}| \\cos \\theta\n",
    "$$"
   ]
  },
  {
   "cell_type": "code",
   "execution_count": 8,
   "metadata": {},
   "outputs": [],
   "source": [
    "import numpy as np\n",
    "import matplotlib.pyplot as plt\n",
    "\n",
    "# insert any graphs into our notebooks directly\n",
    "# set up formatting too\n",
    "%matplotlib inline\n",
    "%config InlineBackend.figure_format = 'retina'\n"
   ]
  },
  {
   "cell_type": "code",
   "execution_count": 11,
   "metadata": {},
   "outputs": [
    {
     "name": "stderr",
     "output_type": "stream",
     "text": [
      "findfont: Font family ['[Arial', 'Liberation Sans', 'Bitstream Vera Sans', 'sans-serif]'] not found. Falling back to DejaVu Sans.\n"
     ]
    },
    {
     "data": {
      "image/png": "[encoded data removed]",
      "text/plain": [
       "<Figure size 432x288 with 1 Axes>"
      ]
     },
     "metadata": {
      "image/png": {
       "height": 257,
       "width": 378
      }
     },
     "output_type": "display_data"
    }
   ],
   "source": [
    "E = 1.0 # field magnitude\n",
    "mu = 1.8546 # dipole moment of water molecule in Debye\n",
    "\n",
    "x = np.arange(0, 2*np.pi, 0.1)   # start, stop, resolution\n",
    "y = -E * mu * np.cos(x)\n",
    "\n",
    "plt.plot(x,y)\n",
    "plt.show()"
   ]
  },
  {
   "cell_type": "markdown",
   "metadata": {},
   "source": [
    "Remember that lower (e.g., negative) energies are more stable. So the potential energy of interaction between the molecule and the electric field at the surface is more stable when $\\theta = 0$ or $2\\pi$ (i.e., the dipole moment of the molecule is parallel to the field) and less stable when $\\theta = \\pi$ (i.e., the dipole moment is anti-parallel / opposite to the field.\n",
    "\n",
    "We'll come back to this example later - this potential energy can be used to calculate a **force** on the molecule. "
   ]
  },
  {
   "attachments": {},
   "cell_type": "markdown",
   "metadata": {},
   "source": [
    "### Cross product\n",
    "\n",
    "Beyond the dot-product, which results in a scalar, we can also multiply two vectors to yield a new vector:\n",
    "\n",
    "$$\n",
    "\\mathbf{v} \\times \\mathbf{w}=\\left(v_{y} w_{z}-v_{z} w_{y}\\right) \\hat{\\mathbf{i}}+\\left(v_{z} w_{x}-v_{x} w_{z}\\right) \\hat{\\mathbf{j}}+\\left(v_{x} w_{y}-v_{y} w_{x}\\right) \\hat{\\mathbf{k}}\n",
    "$$\n",
    "\n",
    "#### Geometric interpretation\n",
    "\n",
    "<img src='./images/vector-crossproduct.png' width=\"305\" />\n",
    "\n",
    "That is, the new vector is perpendicular to the plane created by $\\mathbf{v}$ and $\\mathbf{w}$, with a magnitude:\n",
    "\n",
    "$$\n",
    "|\\mathbf{v} \\times \\mathbf{w}|=|\\mathbf{v}||\\mathbf{w}||\\sin \\theta|\n",
    "$$\n",
    "\n",
    "(i.e., the size of the new cross-product vector is equal to the area of the shaded area in the figure above)\n",
    "\n",
    "#### Direction\n",
    "\n",
    "You can determine the direction of the cross-product vector through the right hand rule:\n",
    "\n",
    "1. point the index finger of your right hand along vector **v**\n",
    "2. point the middle finger of your right hand along vector **w**\n",
    "3. your thumb points in the direction of the cross product **v** $\\rightarrow$ **w**\n",
    "\n",
    "<div class=\"alert alert-block alert-danger\">\n",
    "\n",
    "**Warning:** Because the order matters, the cross product is ***anti-commutative.***\n",
    "    \n",
    "That is, switching the order of the two vectors results in two different directions!\n",
    "    \n",
    "$$\n",
    "\\mathbf{v} \\times \\mathbf{w} = -\\mathbf{w} \\times \\mathbf{v}\n",
    "$$\n",
    "\n",
    "</div>\n"
   ]
  },
  {
   "cell_type": "code",
   "execution_count": 9,
   "metadata": {},
   "outputs": [
    {
     "name": "stdout",
     "output_type": "stream",
     "text": [
      "[ 0.     0.468 -0.754]\n",
      "[ 0.    -0.468  0.754]\n"
     ]
    }
   ],
   "source": [
    "print(np.cross(o_h1, o_h2))\n",
    "print(np.cross(o_h2, o_h1))"
   ]
  },
  {
   "attachments": {},
   "cell_type": "markdown",
   "metadata": {},
   "source": [
    "#### Magnitude of the Cross Product\n",
    "\n",
    "We mentioned that the cross-product vector has magnitude equal to the area formed by **v** and **w**.\n",
    "\n",
    "When is the area the largest?\n",
    "\n",
    "Let's imagine that the two vectors have length one (i.e. *unit vectors*)\n",
    "\n",
    "$$\n",
    "|\\mathbf{v} \\times \\mathbf{w}|=|\\mathbf{v}||\\mathbf{w}||\\sin \\theta|\n",
    "$$"
   ]
  },
  {
   "cell_type": "code",
   "execution_count": 10,
   "metadata": {},
   "outputs": [
    {
     "data": {
      "image/png": "[encoded data removed]",
      "text/plain": [
       "<Figure size 432x288 with 1 Axes>"
      ]
     },
     "metadata": {
      "image/png": {
       "height": 248,
       "width": 372
      },
      "needs_background": "light"
     },
     "output_type": "display_data"
    }
   ],
   "source": [
    "theta = np.arange(0, np.pi, 0.01)   # start, stop, resolution\n",
    "area = 1.0 * 1.0 * np.sin(theta) # we could use any magnitudes for the vectors here\n",
    "\n",
    "plt.plot(theta, area)\n",
    "plt.show()"
   ]
  },
  {
   "cell_type": "markdown",
   "metadata": {},
   "source": [
    "Okay, so when the vectors are parallel or anti-parallel $\\theta = 0, \\pi$ the area is zero - it's a line, not a shape.\n",
    "\n",
    "Otherwise, the area is the maximum at $\\theta = \\pi / 2$ when the two vectors are perpendicular."
   ]
  },
  {
   "attachments": {},
   "cell_type": "markdown",
   "metadata": {},
   "source": [
    "-------\n",
    "This notebook is adapted from Prof. Geoffrey Hutchison, University of Pittsburgh\n",
    "https://github.com/ghutchis/chem1000\n",
    "\n",
    "<a rel=\"license\" href=\"http://creativecommons.org/licenses/by/4.0/\"><img alt=\"Creative Commons License\" style=\"border-width:0\" src=\"https://i.creativecommons.org/l/by/4.0/88x31.png\" /></a>"
   ]
  }
 ],
 "metadata": {
  "kernelspec": {
   "display_name": "course_book_II",
   "language": "python",
   "name": "python3"
  },
  "language_info": {
   "codemirror_mode": {
    "name": "ipython",
    "version": 3
   },
   "file_extension": ".py",
   "mimetype": "text/x-python",
   "name": "python",
   "nbconvert_exporter": "python",
   "pygments_lexer": "ipython3",
   "version": "3.9.16"
  },
  "toc": {
   "base_numbering": 1,
   "nav_menu": {},
   "number_sections": false,
   "sideBar": false,
   "skip_h1_title": false,
   "title_cell": "Table of Contents",
   "title_sidebar": "Contents",
   "toc_cell": false,
   "toc_position": {},
   "toc_section_display": false,
   "toc_window_display": false
  },
  "vscode": {
   "interpreter": {
    "hash": "3af2cce238079744ade4380fab4e623f56bf17adac44d2cac1f930dd9ee5f19a"
   }
  }
 },
 "nbformat": 4,
 "nbformat_minor": 4
}
