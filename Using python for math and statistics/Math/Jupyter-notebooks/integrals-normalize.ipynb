{
 "cells": [
  {
   "attachments": {},
   "cell_type": "markdown",
   "metadata": {},
   "source": [
    "# Integrals and Normalizing Functions\n",
    "\n",
    "(adapted from CHEM 1000 - Spring 2023 by Prof. Geoffrey Hutchison, University of Pittsburgh)\n",
    "\n",
    "\n",
    "Chapter 8 in [*Mathematical Methods for Chemists*](http://sites.bu.edu/straub/mathematical-methods-for-molecular-science/)\n",
    "\n",
    "By the end of this session, you should be able to:\n",
    "- Understand how to normalize functions using integrals"
   ]
  },
  {
   "attachments": {},
   "cell_type": "markdown",
   "metadata": {},
   "source": [
    "## Integrals and Probability\n",
    "\n",
    "An integral in one dimension computes the area under a curve. If we take an integral over \"everything,\" it's equivalent to adding up all the area.\n",
    "\n",
    "For example, the [Maxwell-Boltzmann distribution](https://en.wikipedia.org/wiki/Maxwell%E2%80%93Boltzmann_distribution) gives the probability of an ideal gas molecule moving at various velocities as a function of the mass of the molecule and the temperature.\n",
    "\n",
    "Image from Wikipedia (at 298.15K):\n",
    "<a href=\"https://commons.wikimedia.org/wiki/File:MaxwellBoltzmann-en.svg#/media/File:MaxwellBoltzmann-en.svg\"><img src=\"https://upload.wikimedia.org/wikipedia/commons/thumb/0/01/MaxwellBoltzmann-en.svg/1200px-MaxwellBoltzmann-en.svg.png\" alt=\"MaxwellBoltzmann-en.svg\"></a>\n",
    "\n",
    "For $^4\\mathrm{He}$ the most likely speed is clearly ~1,100 m/s, but a large fraction of gas molecules have velocities slower or faster than that.\n",
    "\n",
    "If we take:\n",
    "\n",
    "$$\n",
    "\\int_0^{\\infty} f(x) dx = 1\n",
    "$$\n",
    "\n",
    "Naturally, the total of *all* probabilities should be 100%.\n",
    "\n",
    "As a result, sometimes we need to ***normalize*** functions - scale them by a constant to ensure that the total is 100%.\n",
    "\n",
    "### Example - Particle in a Box\n",
    "\n",
    "In quantum mechanics, wavefunctions $\\psi$ have no known meaning - they could be complex numbers. On the other hand, the product $\\psi^* \\psi$ should represent the probability, e.g. of finding an electron at a particular point or region of space.\n",
    "\n",
    "The \"particle in a box\" model assumes an electron is confined to a one-dimensional system, for example, a conjugated polymer:\n",
    "\n",
    "<img src=\"./images/acetylene.png\" width=\"250\" />\n",
    "\n",
    "If the length of the box is $L$, the lowest energy wavefunction is:\n",
    "\n",
    "$$\n",
    "\\psi = N \\sin \\left(\\frac{\\pi x}{L}\\right)\n",
    "$$\n",
    "\n",
    "The notation $\\psi^*$ reflects the complex conjugate of the wavefunction. (Remember the complex conjugate?)\n",
    "\n",
    "So what we need is a constant $N$ to normalize the wavefunction:\n",
    "\n",
    "$$\n",
    "\\int_{0}^{L} N^2 \\sin \\left(\\frac{\\pi x}{L}\\right)\\sin \\left(\\frac{ \\pi x}{L}\\right) d x = 1\n",
    "$$\n",
    "\n",
    "That is, we're assuming the electron is *somewhere* inside the box from $0 < x < L$, so the integral should take the area of everything inside the box and add up to 100%.\n",
    "\n",
    "Let's do this with an [integral table](http://integral-table.com/) but pick your favorite method.\n",
    "\n",
    "$$\n",
    "\\int \\sin ^{2} a x \\quad d x=\\frac{x}{2}-\\frac{\\sin 2 a x}{4 a}\n",
    "$$\n",
    "\n",
    "Here $a = \\pi/L$ and we'll need to remember the **normalization constant** - which we can pull out of the integral:\n",
    "\n",
    "$$\n",
    "N^2 \\int \\sin ^{2} a x \\quad d x = N^2 \\left[\\frac{x}{2} - \\frac{\\sin 2 \\pi x/L}{4 \\pi / L}  \\right]^L_0 = 1\n",
    "$$\n",
    "\n",
    "$$\n",
    "N^2 \\left(\\frac{L}{2} - 0 - 0 - 0\\right) = 1\n",
    "$$\n",
    "\n",
    "So $N = \\sqrt{2/L}$\n",
    "\n",
    "$$\n",
    "\\psi = \\sqrt{2/L} \\sin \\left(\\frac{\\pi x}{L}\\right)\n",
    "$$\n",
    "\n",
    "Phew! 😅\n",
    "\n",
    "<div class=\"alert alert-block alert-success\">\n",
    "\n",
    "Normalizing functions requires some work, but it ensures we can consider probabilities accurately.\n",
    "    \n",
    "The electron must be *somewhere* - and if there's only one, it should only add up to 100%.\n",
    "    \n",
    "</div>"
   ]
  },
  {
   "attachments": {},
   "cell_type": "markdown",
   "metadata": {},
   "source": [
    "## Integration over Multiple Variables\n",
    "\n",
    "Another good example is the $1s$ orbital for a hydrogen atom. We won't go into how we get the answer, but:\n",
    "- we know it should be spherically symmetric\n",
    "- we know it should contain one electron (and only one)\n",
    "\n",
    "$$\n",
    "\\psi(r, \\theta, \\phi) = N e^{-r/a_0}\n",
    "$$\n",
    "\n",
    "Where $a_0$ is the Bohr radius ${\\approx}0.5292 Å$. Notice that for the $1s$ orbital, there's no $\\theta$ or $\\phi$ component, so the wavefunction is spherically symmetric.\n",
    "\n",
    "So we need to normalize $\\psi$ to find the normalization constant $N$\n",
    "(in other words, the electron has to be somewhere...)\n",
    "\n",
    "$$\n",
    "\\int \\psi^* \\psi dr = 1\n",
    "$$\n",
    "\n",
    "(Remember $\\psi^*$ is the complex conjugate...)\n",
    "\n",
    "$$\n",
    "\\int_{0}^{2 \\pi} \\int_{0}^{\\pi} \\int_{0}^\\infty N^2 e^{-\\alpha r} r^{2} dr \\; \\sin \\theta \\; d \\theta \\; d \\varphi = 1\n",
    "$$\n",
    "\n",
    "Here, $\\alpha = 2/a_0$\n",
    "\n",
    "As a reminder that the $r^{2} dr \\; \\sin \\theta d \\theta \\; d \\varphi$ is the volume element - it's the replacement for $dx \\: dy \\: dz$. We need this each and *every* time we integrate in spherical coordinates."
   ]
  },
  {
   "cell_type": "code",
   "execution_count": 1,
   "metadata": {
    "scrolled": true
   },
   "outputs": [
    {
     "name": "stdout",
     "output_type": "stream",
     "text": [
      "IPython console for SymPy 1.11.1 (Python 3.9.16-64-bit) (ground types: python)\n",
      "\n",
      "These commands were executed:\n",
      ">>> from sympy import *\n",
      ">>> x, y, z, t = symbols('x y z t')\n",
      ">>> k, m, n = symbols('k m n', integer=True)\n",
      ">>> f, g, h = symbols('f g h', cls=Function)\n",
      ">>> init_printing()\n",
      "\n",
      "Documentation can be found at https://docs.sympy.org/1.11.1/\n",
      "\n"
     ]
    }
   ],
   "source": [
    "from sympy import init_session\n",
    "init_session()"
   ]
  },
  {
   "cell_type": "code",
   "execution_count": 2,
   "metadata": {},
   "outputs": [
    {
     "data": {
      "image/png": "[encoded data removed]",
      "text/latex": [
       "$\\displaystyle 4 \\pi$"
      ],
      "text/plain": [
       "4⋅π"
      ]
     },
     "execution_count": 2,
     "metadata": {},
     "output_type": "execute_result"
    }
   ],
   "source": [
    "a0, r, theta, phi = symbols('a0 r theta phi')\n",
    "f = exp(-2*r/a0)\n",
    "\n",
    "# let's integrate \"away\" the angular parts\n",
    "integrate(sin(theta), (theta, 0, pi), (phi, 0, 2*pi))"
   ]
  },
  {
   "cell_type": "code",
   "execution_count": 3,
   "metadata": {},
   "outputs": [
    {
     "data": {
      "text/latex": [
       "$\\displaystyle \\begin{cases} \\pi a_{0}^{3} & \\text{for}\\: \\left|{\\arg{\\left(a_{0} \\right)}}\\right| < \\frac{\\pi}{2} \\\\\\int\\limits_{0}^{\\infty} 4 \\pi r^{2} e^{- \\frac{2 r}{a_{0}}}\\, dr & \\text{otherwise} \\end{cases}$"
      ],
      "text/plain": [
       "⎧          3                         π\n",
       "⎪      π⋅a₀          for │arg(a₀)│ < ─\n",
       "⎪                                    2\n",
       "⎪                                     \n",
       "⎪∞                                    \n",
       "⎪⌠                                    \n",
       "⎨⎮         -2⋅r                       \n",
       "⎪⎮         ─────                      \n",
       "⎪⎮      2    a₀                       \n",
       "⎪⎮ 4⋅π⋅r ⋅ℯ      dr      otherwise    \n",
       "⎪⌡                                    \n",
       "⎪0                                    \n",
       "⎩                                     "
      ]
     },
     "execution_count": 3,
     "metadata": {},
     "output_type": "execute_result"
    }
   ],
   "source": [
    "# 4*pi makes sense - it's the surface area of a sphere\n",
    "integrate(4*pi * f * r**2, (r, 0, oo))"
   ]
  },
  {
   "cell_type": "code",
   "execution_count": 4,
   "metadata": {},
   "outputs": [
    {
     "data": {
      "image/png": "[encoded data removed]",
      "text/latex": [
       "$\\displaystyle \\frac{\\sqrt{\\frac{1}{a_{0}^{3}}}}{\\sqrt{\\pi}}$"
      ],
      "text/plain": [
       "     _____\n",
       "    ╱  1  \n",
       "   ╱  ─── \n",
       "  ╱     3 \n",
       "╲╱    a₀  \n",
       "──────────\n",
       "    √π    "
      ]
     },
     "execution_count": 4,
     "metadata": {},
     "output_type": "execute_result"
    }
   ],
   "source": [
    "# so then:\n",
    "N = sqrt(1 / (pi * a0**3))\n",
    "simplify(N)"
   ]
  },
  {
   "cell_type": "markdown",
   "metadata": {},
   "source": [
    "We usually write the normalization constant as:\n",
    "\n",
    "$$\n",
    "\\frac{1}{\\sqrt{\\pi}}\\frac{1}{a_0^{3/2}}\n",
    "$$\n",
    "\n",
    "So the full, normalized hydrogen 1s wavefunction is:\n",
    "\n",
    "$$\n",
    "\\psi(r, \\theta, \\phi) = \\frac{1}{\\sqrt{\\pi}}\\frac{1}{a_0^{3/2}} e^{-r/a_0}\n",
    "$$"
   ]
  },
  {
   "cell_type": "markdown",
   "metadata": {},
   "source": [
    "$$\n",
    "\\int_{0}^{2 \\pi} \\int_{0}^{\\pi} \\int_{0}^{V} v^{2} \\sin \\theta d v d\\theta d\\phi\n",
    "$$"
   ]
  },
  {
   "attachments": {},
   "cell_type": "markdown",
   "metadata": {},
   "source": [
    "-------\n",
    "This notebook is adapted from Prof. Geoffrey Hutchison, University of Pittsburgh\n",
    "https://github.com/ghutchis/chem1000\n",
    "\n",
    "<a rel=\"license\" href=\"http://creativecommons.org/licenses/by/4.0/\"><img alt=\"Creative Commons License\" style=\"border-width:0\" src=\"https://i.creativecommons.org/l/by/4.0/88x31.png\" /></a>"
   ]
  }
 ],
 "metadata": {
  "kernelspec": {
   "display_name": "base",
   "language": "python",
   "name": "python3"
  },
  "language_info": {
   "codemirror_mode": {
    "name": "ipython",
    "version": 3
   },
   "file_extension": ".py",
   "mimetype": "text/x-python",
   "name": "python",
   "nbconvert_exporter": "python",
   "pygments_lexer": "ipython3",
   "version": "3.9.7"
  },
  "toc": {
   "base_numbering": 1,
   "nav_menu": {},
   "number_sections": false,
   "sideBar": false,
   "skip_h1_title": false,
   "title_cell": "Table of Contents",
   "title_sidebar": "Contents",
   "toc_cell": false,
   "toc_position": {},
   "toc_section_display": false,
   "toc_window_display": false
  },
  "vscode": {
   "interpreter": {
    "hash": "a7322cd65eec679d3161492e85e84add5ac4e3cc28e76a062695347f6d4d8f6c"
   }
  }
 },
 "nbformat": 4,
 "nbformat_minor": 4
}
