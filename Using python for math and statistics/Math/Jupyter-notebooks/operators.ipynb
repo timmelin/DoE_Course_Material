{
 "cells": [
  {
   "attachments": {},
   "cell_type": "markdown",
   "metadata": {},
   "source": [
    "# Scalar and Vector Operators\n",
    "\n",
    "(adapted from CHEM 1000 - Spring 2023 by Prof. Geoffrey Hutchison, University of Pittsburgh)\n",
    "\n",
    "\n",
    "Chapter 5 in [*Mathematical Methods for Chemists*](http://sites.bu.edu/straub/mathematical-methods-for-molecular-science/)\n",
    "\n",
    "By the end of this session, you should be able to:\n",
    "- Understand the concept of operators\n",
    "- Apply some operators to functions\n",
    "- Understand how to apply multiple operators in order (right to left, inside out)\n",
    "- Understand that some operators do not commute, and we use the [A, B] \"commutator\" to test that"
   ]
  },
  {
   "attachments": {},
   "cell_type": "markdown",
   "metadata": {},
   "source": [
    "## Scalars vs. Vectors\n",
    "\n",
    "Reminder...\n",
    "\n",
    "**Scalars** are just numbers - they have a magnitude, a size. The mass of a molecule would be an example, e.g., 120 amu.\n",
    "\n",
    "**Vectors** have both a magnitude and a direction:\n",
    "- velocity $\\mathbf{v}$\n",
    "- acceleration $\\mathbf{a}$\n",
    "- force $\\mathbf{F}$\n",
    "- electric field $\\mathbf{E}$\n",
    "\n",
    "## Functions\n",
    "\n",
    "A **function** takes in a number, a vector, etc. and returns a number:\n",
    "\n",
    "$$\n",
    "\\sin 0 = 0\n",
    "$$\n",
    "\n",
    "## Operators\n",
    "\n",
    "<div class=\"alert alert-block alert-success\">\n",
    "\n",
    "An operator takes in a **function** and returns a *new function*.\n",
    "    \n",
    "</div>\n",
    "\n",
    "We've already worked with lots of operators, we just didn't call them that at the time.\n",
    "\n",
    "Examples of mathematical operations include multiplying a function by a constant or taking the derivative of a function.\n",
    "\n",
    "**Consider the operator $\\hat{A}$**\n",
    "\n",
    "$$\n",
    "\\hat{A} f(x)=2 f(x)\n",
    "$$\n",
    "\n",
    "We'd say this as \"the operator $\\hat{A}$ acts on the function $f (x)$. In this case, we can see that $\\hat{A}$ is simply the ***doubling*** operator. Whatever $f(x)$ is, $\\hat{A}$ doubles it by multiplying by 2.\n",
    "\n",
    "**Another example might be $\\hat{B}$**\n",
    "\n",
    "$$\n",
    "\\hat{B} f(x, y)=(f(x, y))^{2}\n",
    "$$\n",
    "\n",
    "Here, $\\hat{B}$ acting on $f(x)$ is the ***square*** operator - whatever $f(x)$ might be, the resulting function is the square of that function.\n",
    "\n",
    "**We also have the differential operator $\\hat{d_x}$**\n",
    "\n",
    "$$\n",
    "\\hat{d_x} f(x,y) = \\frac{\\partial}{\\partial x}[f(x,y)]\n",
    "$$\n",
    "\n",
    "<div class=\"alert alert-block alert-success\">\n",
    "\n",
    "**What's the point?** As the algebra and calculus get a bit more involved, operators give us a way to write more complex math in a shorter way.\n",
    "    \n",
    "</div>\n",
    "\n",
    "Operators may seem abstract. It's often better to consider them acting on some function. But most mathematical operations can be written as operators:\n",
    "- adding\n",
    "- subtracting\n",
    "- multiplying (by a scalar or vector)\n",
    "- dividing\n",
    "- raising a function to a power\n",
    "- taking a derivative\n",
    "- integrating\n",
    "- translating coordinates\n",
    "- rotating\n",
    "- (etc.)\n",
    "\n",
    "We'll see in quantum chemistry that certain physical properties can be written as operators, for example:\n",
    "\n",
    "**Linear momentum operator $\\hat{p_x}$**\n",
    "\n",
    "$$\n",
    "\\hat{p_x} f(x,y) = -i\\hbar \\frac{\\partial}{\\partial x}[f(x,y)]\n",
    "$$\n",
    "\n",
    "where $\\hbar$ is the [*reduced Planck constant*](https://en.wikipedia.org/wiki/Planck_constant) $h / 2\\pi$.\n",
    "\n",
    "There are meaningful consequences to that $i$ in the linear momentum operator...\n",
    "\n",
    "**Kinetic energy operator $\\hat{T}$**\n",
    "\n",
    "Since kinetic energy of a particle can be written as:\n",
    "\n",
    "$$\n",
    "E = \\frac{p^2}{2m}\n",
    "$$\n",
    "\n",
    "The kinetic energy operator is:\n",
    "\n",
    "$$\n",
    "\\hat{T} = \\frac{\\hat{p}^2}{2m} = \\frac{1}{2m} \\hat{p}^2\n",
    "$$\n",
    "\n",
    "where $m$ is the mass of the particle.\n",
    "\n",
    "<div class=\"alert alert-block alert-info\">\n",
    "\n",
    "**Math with operators** We can (carefully) combine and modify operators. Not all operators commute, so we have to take them in order - inside to out (e.g., right to left).\n",
    "    \n",
    "Normally, we write out multiple operations as if they are ***multiplied***.\n",
    "    \n",
    "**Example**:\n",
    "    \n",
    "$$\n",
    "    x\\hat{d_x}f(x) = x \\cdot \\frac{\\partial}{\\partial x}f(x)\n",
    "$$\n",
    "\n",
    "$$\n",
    "    \\hat{d_x}x f(x) = \\frac{\\partial}{\\partial x}[x \\cdot f(x)]\n",
    "$$\n",
    "    \n",
    "</div>"
   ]
  },
  {
   "cell_type": "markdown",
   "metadata": {},
   "source": [
    "**Linear Operators**\n",
    "\n",
    "Linear operators can be distributed over multiple terms of a function.\n",
    "\n",
    "For example, multiplying by 2 or taking a derivative are both linear functions.\n",
    "\n",
    "$$\n",
    "2\\times(f(x) + g(x) = 2f(x) + 2g(x)\n",
    "$$\n",
    "\n",
    "Taking the derivative:\n",
    "\n",
    "$$\n",
    "\\hat{d_x}(f(x) + g(x)) = \\hat{d_x}f(x) + \\hat{d_x}g(x) = \\frac{\\partial}{\\partial x}f(x) + \\frac{\\partial}{\\partial x}g(x)\n",
    "$$\n",
    "\n",
    "That \"square\" operator up above, $\\hat{B}$ is *not* a linear function.\n",
    "\n",
    "$$\n",
    "(x^2 + 3x)^2 \\neq (x^2)^2 + (3x)^2\n",
    "$$"
   ]
  },
  {
   "cell_type": "code",
   "execution_count": 1,
   "metadata": {},
   "outputs": [
    {
     "name": "stdout",
     "output_type": "stream",
     "text": [
      "IPython console for SymPy 1.11.1 (Python 3.9.7-64-bit) (ground types: python)\n",
      "\n",
      "These commands were executed:\n",
      ">>> from sympy import *\n",
      ">>> x, y, z, t = symbols('x y z t')\n",
      ">>> k, m, n = symbols('k m n', integer=True)\n",
      ">>> f, g, h = symbols('f g h', cls=Function)\n",
      ">>> init_printing()\n",
      "\n",
      "Documentation can be found at https://docs.sympy.org/1.11.1/\n",
      "\n"
     ]
    }
   ],
   "source": [
    "from sympy import init_session\n",
    "init_session()"
   ]
  },
  {
   "cell_type": "code",
   "execution_count": 2,
   "metadata": {
    "scrolled": true
   },
   "outputs": [
    {
     "data": {
      "text/latex": [
       "$\\displaystyle x^{4} + 9 x^{2}$"
      ],
      "text/plain": [
       " 4      2\n",
       "x  + 9⋅x "
      ]
     },
     "execution_count": 2,
     "metadata": {},
     "output_type": "execute_result"
    }
   ],
   "source": [
    "(x**2)**2 + (3*x)**2"
   ]
  },
  {
   "cell_type": "code",
   "execution_count": 3,
   "metadata": {
    "scrolled": true
   },
   "outputs": [
    {
     "data": {
      "text/latex": [
       "$\\displaystyle \\left(x^{2} + 3 x\\right)^{2}$"
      ],
      "text/plain": [
       "          2\n",
       "⎛ 2      ⎞ \n",
       "⎝x  + 3⋅x⎠ "
      ]
     },
     "execution_count": 3,
     "metadata": {},
     "output_type": "execute_result"
    }
   ],
   "source": [
    "(x**2 + 3*x)**2"
   ]
  },
  {
   "cell_type": "markdown",
   "metadata": {},
   "source": [
    "Hmph. Sympy sometimes needs a nudge to expand or simplify expressions."
   ]
  },
  {
   "cell_type": "code",
   "execution_count": 4,
   "metadata": {},
   "outputs": [
    {
     "data": {
      "text/latex": [
       "$\\displaystyle x^{4} + 6 x^{3} + 9 x^{2}$"
      ],
      "text/plain": [
       " 4      3      2\n",
       "x  + 6⋅x  + 9⋅x "
      ]
     },
     "execution_count": 4,
     "metadata": {},
     "output_type": "execute_result"
    }
   ],
   "source": [
    "expand((x**2 + 3*x)**2)"
   ]
  },
  {
   "cell_type": "markdown",
   "metadata": {},
   "source": [
    "Obviously, taking the square of a function isn't a linear function - in our example, we have the $6x^3$ term there, which comes from multiplying $x^2$ and $3x$ together, twice.\n",
    "\n",
    "Fortunately, in most cases operators we need for physics and chemistry are usually linear.\n",
    "\n",
    "Let's consider \"multiply by x\" $\\hat{x}$ and \"take a derivative\" $\\hat{d_x}$ operators:"
   ]
  },
  {
   "cell_type": "code",
   "execution_count": 5,
   "metadata": {},
   "outputs": [],
   "source": [
    "# let's set up an example function to test out some of these operators\n",
    "f = x**2 + 3*x"
   ]
  },
  {
   "cell_type": "code",
   "execution_count": 6,
   "metadata": {},
   "outputs": [
    {
     "data": {
      "text/latex": [
       "$\\displaystyle x \\left(2 x + 3\\right)$"
      ],
      "text/plain": [
       "x⋅(2⋅x + 3)"
      ]
     },
     "execution_count": 6,
     "metadata": {},
     "output_type": "execute_result"
    }
   ],
   "source": [
    "x * diff(f, x)"
   ]
  },
  {
   "cell_type": "code",
   "execution_count": 7,
   "metadata": {},
   "outputs": [
    {
     "data": {
      "text/latex": [
       "$\\displaystyle x^{2} + x \\left(2 x + 3\\right) + 3 x$"
      ],
      "text/plain": [
       " 2                    \n",
       "x  + x⋅(2⋅x + 3) + 3⋅x"
      ]
     },
     "execution_count": 7,
     "metadata": {},
     "output_type": "execute_result"
    }
   ],
   "source": [
    "diff(x*f, x)"
   ]
  },
  {
   "cell_type": "markdown",
   "metadata": {},
   "source": [
    "Okay, so that's a good reminder.\n",
    "\n",
    "<div class=\"alert alert-block alert-info\">\n",
    "\n",
    "Operators do not necessarily commute. If I multiply by x and take a derivative, I end up with a very different result than if I take a derivative and multiply the result by x.\n",
    "    \n",
    "</div>"
   ]
  },
  {
   "cell_type": "markdown",
   "metadata": {},
   "source": [
    "**Commuting Operators**\n",
    "\n",
    "Quick reminder: [commuting](https://en.wikipedia.org/wiki/Commutative_property) means that you can add or multiply in any order:\n",
    "\n",
    "$$\n",
    "2\\times 3 = 3 \\times 2 = 6\n",
    "$$\n",
    "\n",
    "$$\n",
    "101 + 52 = 52 + 101 = 153\n",
    "$$\n",
    "\n",
    "As we saw above with \"multiply by x\" and \"take the partial derivative with respect to y\" operators, operator order matters.\n",
    "\n",
    "Sometimes we check this, with a concept called the \"commutator\":\n",
    "\n",
    "$$\n",
    "[\\hat{A}, \\hat{B}] = \\hat{A}\\hat{B} - \\hat{B}\\hat{A}\n",
    "$$\n",
    "\n",
    "If the two operators commute, then this will obviously equal zero - you can take them in any order. In some cases, this won't be zero.\n",
    "\n",
    "<div class=\"alert alert-block alert-info\">\n",
    "\n",
    "We're going through all this because in quantum mechanics, all the properties of a system (e.g., an atom, a molecule, etc.) can be described by \"wavefunctions\" $\\psi(x)$.\n",
    "    \n",
    "Any physical observable, like \"find the position of\" or \"what is the energy of\" corresponds to specific operators like the linear momentum operator.\n",
    "    \n",
    "If two operators commute, we can make both measurements successfully.\n",
    "    \n",
    "*If two operators do not commute, weird things happen (e.g., we can't know the exact location and momentum of an electron at the same time).*\n",
    "    \n",
    "</div>\n",
    "\n",
    "Let's see this in action with \"multiply by x\" $\\hat{x}$ (which is actually the 'measure the position' operator) and linear momentum $\\hat{p} = -i\\hbar\\frac{\\partial}{\\partial x}$:\n",
    "\n"
   ]
  },
  {
   "cell_type": "code",
   "execution_count": 8,
   "metadata": {},
   "outputs": [],
   "source": [
    "# we set this above, but we can use any function\n",
    "f = x**2 + 3*x\n",
    "i, hbar = symbols(\"i hbar\")"
   ]
  },
  {
   "cell_type": "code",
   "execution_count": 9,
   "metadata": {},
   "outputs": [
    {
     "data": {
      "text/latex": [
       "$\\displaystyle - \\hbar i x \\left(2 x + 3\\right)$"
      ],
      "text/plain": [
       "-h̅⋅i⋅x⋅(2⋅x + 3)"
      ]
     },
     "execution_count": 9,
     "metadata": {},
     "output_type": "execute_result"
    }
   ],
   "source": [
    "# let's consider x * p(f)\n",
    "x * (-i * hbar)*diff(f, x)"
   ]
  },
  {
   "cell_type": "code",
   "execution_count": 10,
   "metadata": {},
   "outputs": [
    {
     "data": {
      "image/png": "[encoded data removed]",
      "text/latex": [
       "$\\displaystyle - \\hbar i \\left(x^{2} + x \\left(2 x + 3\\right) + 3 x\\right)$"
      ],
      "text/plain": [
       "     ⎛ 2                    ⎞\n",
       "-h̅⋅i⋅⎝x  + x⋅(2⋅x + 3) + 3⋅x⎠"
      ]
     },
     "execution_count": 10,
     "metadata": {},
     "output_type": "execute_result"
    }
   ],
   "source": [
    "# now let's see p(x*f)\n",
    "(-i * hbar)*diff(x*f, x)"
   ]
  },
  {
   "cell_type": "code",
   "execution_count": 10,
   "metadata": {},
   "outputs": [
    {
     "data": {
      "text/latex": [
       "$\\displaystyle - \\hbar i x \\left(2 x + 3\\right) + \\hbar i \\left(x^{2} + x \\left(2 x + 3\\right) + 3 x\\right)$"
      ],
      "text/plain": [
       "                       ⎛ 2                    ⎞\n",
       "-h̅⋅i⋅x⋅(2⋅x + 3) + h̅⋅i⋅⎝x  + x⋅(2⋅x + 3) + 3⋅x⎠"
      ]
     },
     "execution_count": 10,
     "metadata": {},
     "output_type": "execute_result"
    }
   ],
   "source": [
    "# and we'll take the difference\n",
    "part_one = x * (-i * hbar)*diff(f, x)\n",
    "part_two = (-i * hbar)*diff(x*f, x)\n",
    "part_one - part_two"
   ]
  },
  {
   "cell_type": "markdown",
   "metadata": {},
   "source": [
    "Obviously, that can be simplified further - we need to give Sympy a nudge:\n",
    "\n",
    "(Even computer programs can be lazy.)"
   ]
  },
  {
   "cell_type": "code",
   "execution_count": 11,
   "metadata": {},
   "outputs": [
    {
     "data": {
      "text/latex": [
       "$\\displaystyle \\hbar i x \\left(x + 3\\right)$"
      ],
      "text/plain": [
       "h̅⋅i⋅x⋅(x + 3)"
      ]
     },
     "execution_count": 11,
     "metadata": {},
     "output_type": "execute_result"
    }
   ],
   "source": [
    "simplify(part_one - part_two)"
   ]
  },
  {
   "attachments": {},
   "cell_type": "markdown",
   "metadata": {},
   "source": [
    "We also mentioned the linear momentum and kinetic energy operators back there...\n",
    "\n",
    "**Linear momentum:**\n",
    "\n",
    "$$\n",
    "\\hat{p} = -i\\hbar\\frac{\\partial}{\\partial x}\n",
    "$$\n",
    "\n",
    "**Kinetic energy:**\n",
    "\n",
    "$$\n",
    "\\hat{T} = \\frac{\\hat{p}^2}{2m} = \\frac{1}{2m} \\hat{p}^2\n",
    "$$"
   ]
  },
  {
   "cell_type": "code",
   "execution_count": 12,
   "metadata": {},
   "outputs": [
    {
     "data": {
      "text/latex": [
       "$\\displaystyle - \\hbar i \\left(2 x + 3\\right)$"
      ],
      "text/plain": [
       "-h̅⋅i⋅(2⋅x + 3)"
      ]
     },
     "execution_count": 12,
     "metadata": {},
     "output_type": "execute_result"
    }
   ],
   "source": [
    "# here, we'll apply linear momentum operator to \"measure\" our function\n",
    "# (e.g., f(x) describes some electron)\n",
    "(-i * hbar)*diff(f, x)"
   ]
  },
  {
   "cell_type": "code",
   "execution_count": 13,
   "metadata": {},
   "outputs": [],
   "source": [
    "# Okay, if we want to \"measure\" the kinetic energy\n",
    "# we want 1/2m * p**2\n",
    "# p**2 = take the second derivative\n",
    "# and then we have some constant terms\n",
    "p_squared = (-i * hbar)**2 * diff(f, x, 2)\n",
    "t = 0.5 * p_squared / m"
   ]
  },
  {
   "cell_type": "code",
   "execution_count": 14,
   "metadata": {
    "scrolled": true
   },
   "outputs": [
    {
     "data": {
      "text/latex": [
       "$\\displaystyle \\frac{1.0 \\hbar^{2} i^{2}}{m}$"
      ],
      "text/plain": [
       "     2  2\n",
       "1.0⋅h̅ ⋅i \n",
       "─────────\n",
       "    m    "
      ]
     },
     "execution_count": 14,
     "metadata": {},
     "output_type": "execute_result"
    }
   ],
   "source": [
    "# print t with some nice formatting\n",
    "t"
   ]
  },
  {
   "cell_type": "markdown",
   "metadata": {},
   "source": [
    "As a human, we can see a little simplification (e.g. $i^2 = -1$) but otherwise it's fine:\n",
    "\n",
    "$$\n",
    "\\hat{t} = \\frac{-\\hbar^2 y^2}{m}\n",
    "$$"
   ]
  },
  {
   "attachments": {},
   "cell_type": "markdown",
   "metadata": {},
   "source": [
    "**One more thing...**\n",
    "\n",
    "We had this concept of the Euler test to see if a total differential was an exact differential.\n",
    "\n",
    "$$\n",
    "\\hat{d_x} = \\frac{\\partial}{\\partial_x}\n",
    "$$\n",
    "\n",
    "$$\n",
    "\\hat{d_y} = \\frac{\\partial}{\\partial_y}\n",
    "$$\n",
    "\n",
    "Since we can apply operators sequentially:\n",
    "\n",
    "$$\n",
    "\\hat{d_y}\\hat{d_x}f(x,y) = \\frac{\\partial}{\\partial_y} [ \\frac{\\partial}{\\partial_x}[f(x,y)] ]\n",
    "$$\n",
    "\n",
    "Then the Euler test would be:\n",
    "\n",
    "$$\n",
    "\\hat{d_y}\\hat{d_x}f(x,y) - \\hat{d_x}\\hat{d_y}f(x,y) = 0\n",
    "$$\n",
    "\n",
    "Or we can use the commutator notation:\n",
    "\n",
    "$$\n",
    "[\\hat{d_x}, \\hat{d_y}] = 0\n",
    "$$"
   ]
  },
  {
   "cell_type": "code",
   "execution_count": 15,
   "metadata": {},
   "outputs": [],
   "source": [
    "f = x**2*y**2 + 3*x*y + 4"
   ]
  },
  {
   "cell_type": "code",
   "execution_count": 16,
   "metadata": {},
   "outputs": [
    {
     "data": {
      "text/latex": [
       "$\\displaystyle 4 x y + 3$"
      ],
      "text/plain": [
       "4⋅x⋅y + 3"
      ]
     },
     "execution_count": 16,
     "metadata": {},
     "output_type": "execute_result"
    }
   ],
   "source": [
    "diff(f, x, y)"
   ]
  },
  {
   "cell_type": "code",
   "execution_count": 17,
   "metadata": {},
   "outputs": [
    {
     "data": {
      "text/latex": [
       "$\\displaystyle 4 x y + 3$"
      ],
      "text/plain": [
       "4⋅x⋅y + 3"
      ]
     },
     "execution_count": 17,
     "metadata": {},
     "output_type": "execute_result"
    }
   ],
   "source": [
    "diff(f, y, x)"
   ]
  },
  {
   "cell_type": "code",
   "execution_count": 18,
   "metadata": {},
   "outputs": [
    {
     "data": {
      "text/latex": [
       "$\\displaystyle 0$"
      ],
      "text/plain": [
       "0"
      ]
     },
     "execution_count": 18,
     "metadata": {},
     "output_type": "execute_result"
    }
   ],
   "source": [
    "diff(f, x, y) - diff(f, y, x)"
   ]
  },
  {
   "cell_type": "markdown",
   "metadata": {},
   "source": [
    "<div class=\"alert alert-block alert-info\">\n",
    "\n",
    "So the big points for now:\n",
    "- Operators are used in quantum mechanics to describe physical properties like energy and momentum\n",
    "- Some operators commute. Those that don't mean that those physical properties can't be measured at the same time.\n",
    "  - e.g. position and momentum in the [Heisenberg Uncertainty Principle](https://en.wikipedia.org/wiki/Uncertainty_principle)\n",
    "- We like operators because they help us write complicated formulas in a shorter way\n",
    "  - they're kind of like little mini programs (e.g. \"take the derivative of this twice, then multiply by some constants\")\n",
    "- It's a bit abstract for now, but we'll have concrete, chemical examples soon\n",
    "</div>"
   ]
  },
  {
   "attachments": {},
   "cell_type": "markdown",
   "metadata": {},
   "source": [
    "-------\n",
    "This notebook is adapted from Prof. Geoffrey Hutchison, University of Pittsburgh\n",
    "https://github.com/ghutchis/chem1000\n",
    "\n",
    "<a rel=\"license\" href=\"http://creativecommons.org/licenses/by/4.0/\"><img alt=\"Creative Commons License\" style=\"border-width:0\" src=\"https://i.creativecommons.org/l/by/4.0/88x31.png\" /></a>"
   ]
  }
 ],
 "metadata": {
  "kernelspec": {
   "display_name": "base",
   "language": "python",
   "name": "python3"
  },
  "language_info": {
   "codemirror_mode": {
    "name": "ipython",
    "version": 3
   },
   "file_extension": ".py",
   "mimetype": "text/x-python",
   "name": "python",
   "nbconvert_exporter": "python",
   "pygments_lexer": "ipython3",
   "version": "3.9.7 (default, Sep 16 2021, 16:59:28) [MSC v.1916 64 bit (AMD64)]"
  },
  "toc": {
   "base_numbering": 1,
   "nav_menu": {},
   "number_sections": false,
   "sideBar": false,
   "skip_h1_title": false,
   "title_cell": "Table of Contents",
   "title_sidebar": "Contents",
   "toc_cell": false,
   "toc_position": {},
   "toc_section_display": false,
   "toc_window_display": false
  },
  "vscode": {
   "interpreter": {
    "hash": "a7322cd65eec679d3161492e85e84add5ac4e3cc28e76a062695347f6d4d8f6c"
   }
  }
 },
 "nbformat": 4,
 "nbformat_minor": 4
}
