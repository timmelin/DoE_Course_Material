{
 "cells": [
  {
   "attachments": {},
   "cell_type": "markdown",
   "metadata": {},
   "source": [
    "# Total differential\n",
    "\n",
    "(adapted from CHEM 1000 - Spring 2023 by Prof. Geoffrey Hutchison, University of Pittsburgh)\n",
    "\n",
    "\n",
    "Chapter 3 in [*Mathematical Methods for Chemists*](http://sites.bu.edu/straub/mathematical-methods-for-molecular-science/)\n",
    "\n",
    "By the end of this session, you should be able to:\n",
    "- Understand the concept of a \"total differential\"\n",
    "- Use Euler's test for exact differentials"
   ]
  },
  {
   "attachments": {},
   "cell_type": "markdown",
   "metadata": {},
   "source": [
    "## Total Differential\n",
    "\n",
    "As a reminder, we discussed the basic concept of a one-dimensional [derivative](https://en.wikipedia.org/wiki/Derivative).\n",
    "\n",
    "Consider a generic function and the slope between two points:\n",
    "(Image from [*Mathematical Methods for Chemists*](http://sites.bu.edu/straub/mathematical-methods-for-molecular-science/))\n",
    "\n",
    "<img src=\"./images/derivative.png\" width=320 />\n",
    "\n",
    "$$ \\frac{df}{dx} \\approx \\frac{f(x+\\Delta x) - f(x)}{\\Delta x} $$\n",
    "\n",
    "In other words, the function changes a little bit ($\\Delta f$) when we change $x$ a little bit ($\\Delta x$).\n",
    "\n",
    "If we want to know the change in the function, we can do:\n",
    "\n",
    "$$\n",
    "\\left(\\frac{d f}{d x}\\right) \\times \\Delta x=\\left(\\frac{d f}{\\bcancel{d x}}\\right) \\bcancel{d x}=d f\n",
    "$$\n",
    "\n",
    "At first, this may seem like a strange concept - *can you do that*? (i.e., multiplying the derivative $\\frac{df}{dx}$ by $dx$).\n",
    "\n",
    "Remember that the derivative is simply the limit of the slope of the function as $dx \\rightarrow 0$. Thus, we can multiply the derivative by an [infinitesimal](https://en.wikipedia.org/wiki/Infinitesimal) $dx$ and get the *differential* of the function $df$.\n"
   ]
  },
  {
   "attachments": {},
   "cell_type": "markdown",
   "metadata": {},
   "source": [
    "**Why?**\n",
    "\n",
    "[Rudolf Clausius](https://en.wikipedia.org/wiki/Rudolf_Clausius) was interested in heat flow, energy, and thermodynamics.\n",
    "\n",
    "Naturally, when considering heat engines, expansion of gases, etc. the total change in volume, work, etc. are important concepts.\n",
    "\n",
    "Thus, consider a multivariate function, like the volume of a cylinder. The **partial derivatives** reflect the change in volume from a change in the height or a change in the radius:\n",
    "\n",
    "(Images from [*Mathematical Methods for Chemists*](http://sites.bu.edu/straub/mathematical-methods-for-molecular-science/))\n",
    "\n",
    "<img src=\"./images/cylinder-height.png\" width=\"294\" />\n",
    "<img src=\"./images/cylinder-radius.png\" width=\"308\" /> \n",
    "\n",
    "But what about the *total* change in volume:\n",
    "\n",
    "$$\n",
    "d f=\\left(\\frac{\\partial f}{\\partial x}\\right) d x+\\left(\\frac{\\partial f}{\\partial y}\\right) d y\n",
    "$$\n",
    "\n",
    "or for multiple variables:\n",
    "\n",
    "$$\n",
    "d f=\\sum_{k=1}^{N}\\left(\\frac{\\partial f}{\\partial x_{k}}\\right) d x_{k}\n",
    "$$\n",
    "\n",
    "For our cylinder example:\n",
    "\n",
    "$$\n",
    "d V=\\left(\\frac{\\partial V}{\\partial r}\\right) d r+\\left(\\frac{\\partial V}{\\partial h}\\right) d h=2 \\pi r h d r+\\pi r^{2} d h\n",
    "$$\n",
    "\n",
    "Notice that the volume change depends on the radius and height - if the radius is large, even a small change in $dr$ can still have a large change in the volume."
   ]
  },
  {
   "cell_type": "code",
   "execution_count": 1,
   "metadata": {},
   "outputs": [
    {
     "name": "stdout",
     "output_type": "stream",
     "text": [
      "1 1 3.141592653589793 0.0942477796076938\n",
      "1 2 6.283185307179586 0.15707963267948966\n",
      "1 3 9.42477796076938 0.21991148575128555\n",
      "2 1 12.566370614359172 0.25132741228718347\n",
      "2 2 25.132741228718345 0.3769911184307752\n",
      "2 3 37.69911184307752 0.5026548245743669\n",
      "3 1 28.274333882308138 0.47123889803846897\n",
      "3 2 56.548667764616276 0.6597344572538566\n",
      "3 3 84.82300164692441 0.8482300164692442\n",
      "4 1 50.26548245743669 0.7539822368615504\n",
      "4 2 100.53096491487338 1.0053096491487339\n",
      "4 3 150.79644737231007 1.2566370614359172\n",
      "5 1 78.53981633974483 1.0995574287564276\n",
      "5 2 157.07963267948966 1.413716694115407\n",
      "5 3 235.61944901923448 1.7278759594743862\n"
     ]
    }
   ],
   "source": [
    "import math # to get pi\n",
    "\n",
    "dr = 0.01\n",
    "dh = 0.01\n",
    "r = 5\n",
    "h = 3\n",
    "\n",
    "for r in range(1, 6):\n",
    "    for h in range(1,4):\n",
    "        V = math.pi * r**2 * h\n",
    "        dV = 2*math.pi * r * h * dr + math.pi*r**2 * dh\n",
    "        print(r, h, V, dV)"
   ]
  },
  {
   "cell_type": "markdown",
   "metadata": {},
   "source": [
    "Notice that as the radius gets larger, $dV$ gets very large because of the $r^2$ term."
   ]
  },
  {
   "attachments": {},
   "cell_type": "markdown",
   "metadata": {},
   "source": [
    "## Euler's test and Exact Differentials\n",
    "\n",
    "Sometimes it's easy to establish the total differential (i.e., you know the function). Sometimes, as we'll find later with differential equations, we don't know the algebraic form exactly.\n",
    "\n",
    "How do we know if our answer is an ***exact differential***?\n",
    "\n",
    "We can use the Euler test.\n",
    "\n",
    "Let's say I give you some function that looks like this and claim it's the total differential for a function:\n",
    "\n",
    "$$s(x,y)dx + t(x,y) dy$$\n",
    "\n",
    "Do you believe me?\n",
    "\n",
    "If the following is true:\n",
    "\n",
    "$$\n",
    "\\frac{\\partial}{\\partial y} s(x, y)=\\frac{\\partial}{\\partial x} t(x, y)\n",
    "$$\n",
    "\n",
    "then there ***must*** exist some function $f(x,y)$ for which:\n",
    "\n",
    "$$df = s(x,y)dx + t(x,y) dy$$\n",
    "\n",
    "Naturally, if the proposed total differential function looks something like this:\n",
    "\n",
    "$$a(x) dx + b(y) dy$$\n",
    "\n",
    "Then the function clearly satisfies Euler's test since:\n",
    "\n",
    "$$\n",
    "\\frac{\\partial a}{\\partial y} = \\frac{\\partial b}{\\partial x} = 0\n",
    "$$"
   ]
  },
  {
   "attachments": {},
   "cell_type": "markdown",
   "metadata": {},
   "source": [
    "***Example:***\n",
    "\n",
    "Consider:\n",
    "\n",
    "$$\n",
    "2x dx + 2y dy\n",
    "$$\n",
    "\n",
    "Then:\n",
    "\n",
    "$$\n",
    "\\frac{\\partial}{\\partial y} s(x, y)=\\frac{\\partial}{\\partial y} 2 x=0 \\quad \\frac{\\partial}{\\partial x} t(x, y)=\\frac{\\partial}{\\partial x} 2 y=0\n",
    "$$\n",
    "\n",
    "You should be able to guess that the original function was:\n",
    "\n",
    "$$f(x,y) = x^2 + y^2$$\n",
    "\n",
    "***Ideal Gas Law:***\n",
    "\n",
    "Consider:\n",
    "\n",
    "$$PV = nRT$$\n",
    "\n",
    "$$P(V,T) = \\frac{nRT}{V}$$\n",
    "\n",
    "What's the total differential?\n",
    "\n",
    "$$\n",
    "d p=\\frac{\\partial p}{\\partial V} d V+\\frac{\\partial p}{\\partial T} d T=-\\frac{nR T}{V^{2}} d V+\\frac{nR}{V} d T\n",
    "$$\n",
    "\n",
    "Does this pass the Euler test?"
   ]
  },
  {
   "cell_type": "code",
   "execution_count": 2,
   "metadata": {},
   "outputs": [
    {
     "name": "stdout",
     "output_type": "stream",
     "text": [
      "IPython console for SymPy 1.11.1 (Python 3.9.7-64-bit) (ground types: python)\n",
      "\n",
      "These commands were executed:\n",
      ">>> from sympy import *\n",
      ">>> x, y, z, t = symbols('x y z t')\n",
      ">>> k, m, n = symbols('k m n', integer=True)\n",
      ">>> f, g, h = symbols('f g h', cls=Function)\n",
      ">>> init_printing()\n",
      "\n",
      "Documentation can be found at https://docs.sympy.org/1.11.1/\n",
      "\n"
     ]
    }
   ],
   "source": [
    "# Let's use sympy again to help us do the partial derivatives\n",
    "from sympy import init_session\n",
    "init_session()"
   ]
  },
  {
   "cell_type": "code",
   "execution_count": 4,
   "metadata": {},
   "outputs": [],
   "source": [
    "# these declare V and T as new symbols to sympy\n",
    "# (rather than regular Python variables)\n",
    "n, R, V, T = symbols('n R V T')\n",
    "\n",
    "p = n*R*T / V"
   ]
  },
  {
   "cell_type": "code",
   "execution_count": 5,
   "metadata": {},
   "outputs": [
    {
     "data": {
      "text/latex": [
       "$\\displaystyle - \\frac{R T n}{V^{2}}$"
      ],
      "text/plain": [
       "-R⋅T⋅n \n",
       "───────\n",
       "    2  \n",
       "   V   "
      ]
     },
     "execution_count": 5,
     "metadata": {},
     "output_type": "execute_result"
    }
   ],
   "source": [
    "diff(p, V)"
   ]
  },
  {
   "cell_type": "code",
   "execution_count": 6,
   "metadata": {},
   "outputs": [
    {
     "data": {
      "text/latex": [
       "$\\displaystyle \\frac{R n}{V}$"
      ],
      "text/plain": [
       "R⋅n\n",
       "───\n",
       " V "
      ]
     },
     "execution_count": 6,
     "metadata": {},
     "output_type": "execute_result"
    }
   ],
   "source": [
    "diff(p, T)"
   ]
  },
  {
   "cell_type": "code",
   "execution_count": 7,
   "metadata": {},
   "outputs": [
    {
     "data": {
      "text/latex": [
       "$\\displaystyle - \\frac{R T n}{V^{2}} + \\frac{R n}{V}$"
      ],
      "text/plain": [
       "  R⋅T⋅n   R⋅n\n",
       "- ───── + ───\n",
       "     2     V \n",
       "    V        "
      ]
     },
     "execution_count": 7,
     "metadata": {},
     "output_type": "execute_result"
    }
   ],
   "source": [
    "dP = diff(p, V) + diff(p, T)\n",
    "dP # print it"
   ]
  },
  {
   "cell_type": "markdown",
   "metadata": {},
   "source": [
    "Okay, now we can test the total differential by taking the first part ($dV$) and taking the partial derivative with respect to T:"
   ]
  },
  {
   "cell_type": "code",
   "execution_count": 8,
   "metadata": {},
   "outputs": [
    {
     "data": {
      "text/latex": [
       "$\\displaystyle - \\frac{R n}{V^{2}}$"
      ],
      "text/plain": [
       "-R⋅n \n",
       "─────\n",
       "   2 \n",
       "  V  "
      ]
     },
     "execution_count": 8,
     "metadata": {},
     "output_type": "execute_result"
    }
   ],
   "source": [
    "diff(p, V, T)"
   ]
  },
  {
   "cell_type": "markdown",
   "metadata": {},
   "source": [
    "Now we take the second term and take the partial derivative with respect to V:"
   ]
  },
  {
   "cell_type": "code",
   "execution_count": 9,
   "metadata": {},
   "outputs": [
    {
     "data": {
      "text/latex": [
       "$\\displaystyle - \\frac{R n}{V^{2}}$"
      ],
      "text/plain": [
       "-R⋅n \n",
       "─────\n",
       "   2 \n",
       "  V  "
      ]
     },
     "execution_count": 9,
     "metadata": {},
     "output_type": "execute_result"
    }
   ],
   "source": [
    "diff(p, T, V)"
   ]
  },
  {
   "cell_type": "markdown",
   "metadata": {},
   "source": [
    "These are obviously the same:"
   ]
  },
  {
   "cell_type": "code",
   "execution_count": 10,
   "metadata": {},
   "outputs": [
    {
     "data": {
      "text/plain": [
       "True"
      ]
     },
     "execution_count": 10,
     "metadata": {},
     "output_type": "execute_result"
    }
   ],
   "source": [
    "diff(p, V, T) == diff(p, T, V)"
   ]
  },
  {
   "cell_type": "markdown",
   "metadata": {},
   "source": [
    "<div class=\"alert alert-block alert-success\">\n",
    "\n",
    "Essentially, Euler's test is equivalent to requiring:\n",
    "\n",
    "$$\n",
    "\\frac{\\partial^{2} f}{\\partial x \\partial y}=\\frac{\\partial^{2} f}{\\partial y \\partial x}\n",
    "$$\n",
    "\n",
    "This is true if the functions have continuous mixed (i.e., both $x$ and $y$) second derivatives.\n",
    "    \n",
    "</div>"
   ]
  },
  {
   "attachments": {},
   "cell_type": "markdown",
   "metadata": {},
   "source": [
    "-------\n",
    "This notebook is adapted from Prof. Geoffrey Hutchison, University of Pittsburgh\n",
    "https://github.com/ghutchis/chem1000\n",
    "\n",
    "<a rel=\"license\" href=\"http://creativecommons.org/licenses/by/4.0/\"><img alt=\"Creative Commons License\" style=\"border-width:0\" src=\"https://i.creativecommons.org/l/by/4.0/88x31.png\" /></a>"
   ]
  }
 ],
 "metadata": {
  "kernelspec": {
   "display_name": "base",
   "language": "python",
   "name": "python3"
  },
  "language_info": {
   "codemirror_mode": {
    "name": "ipython",
    "version": 3
   },
   "file_extension": ".py",
   "mimetype": "text/x-python",
   "name": "python",
   "nbconvert_exporter": "python",
   "pygments_lexer": "ipython3",
   "version": "3.9.7 (default, Sep 16 2021, 16:59:28) [MSC v.1916 64 bit (AMD64)]"
  },
  "toc": {
   "base_numbering": 1,
   "nav_menu": {},
   "number_sections": false,
   "sideBar": false,
   "skip_h1_title": false,
   "title_cell": "Table of Contents",
   "title_sidebar": "Contents",
   "toc_cell": false,
   "toc_position": {},
   "toc_section_display": false,
   "toc_window_display": false
  },
  "vscode": {
   "interpreter": {
    "hash": "a7322cd65eec679d3161492e85e84add5ac4e3cc28e76a062695347f6d4d8f6c"
   }
  }
 },
 "nbformat": 4,
 "nbformat_minor": 4
}
