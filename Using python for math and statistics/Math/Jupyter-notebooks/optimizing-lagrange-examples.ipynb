{
 "cells": [
  {
   "attachments": {},
   "cell_type": "markdown",
   "metadata": {},
   "source": [
    "# Optimizing Functions with constraints (Examples 2)\n",
    "\n",
    "(adapted from # CHEM 1000 - Spring 2023 by Prof. Geoffrey Hutchison, University of Pittsburgh)\n",
    "\n",
    "\n",
    "Chapter 6 in [*Mathematical Methods for Chemists*](http://sites.bu.edu/straub/mathematical-methods-for-molecular-science/)\n",
    "\n",
    "By the end of this session, you should be able to:\n",
    "- Understand optimization using constraints\n",
    "- Use Lagrange undetermined multipliers "
   ]
  },
  {
   "attachments": {},
   "cell_type": "markdown",
   "metadata": {},
   "source": [
    "## Constraints\n",
    "\n",
    "We've learned that there are ways to use derivatives to analytically optimize functions, and methods to numerically optimize functions in many dimensions.\n",
    "\n",
    "What do we do if the optimization is subject to constraints?\n",
    "\n",
    "Let's imagine that the constraint can be specified by some function $g(x,y)$:\n",
    "\n",
    "$$\n",
    "g(x,y) = 0\n",
    "$$\n",
    "\n",
    "We could also re-write the function to be $g(x,y) = c$ for a different constant - it should be easy to see that they're effectively the same.\n",
    "\n",
    "Thus, our problem is:\n",
    "\n",
    "$$\n",
    "\\begin{array}{l}\n",
    "\\text { maximize } f(x, y) \\\\\n",
    "\\text { subject to: } g(x, y)=0\n",
    "\\end{array}\n",
    "$$\n",
    "\n",
    "### Alcohol Levels\n",
    "\n",
    "When you get a dose of alcohol, it doesn't go into your bloodstream immediately. It's absorbed with first-order (exponential) kinetics, and removed with zero-order kinetics. (Well, for many people. There's also a [first pass effect](https://en.wikipedia.org/wiki/First_pass_effect) for some people that greatly reduces the amount that goes into the bloodstream.)\n",
    "\n",
    "$$\n",
    "c(t)=D \\alpha e^{-\\alpha t}-\\beta t\n",
    "$$\n",
    "\n",
    "where $D$ is the dose, $\\alpha$ is the absorption rate, $\\beta$ is the elimination rate and $t$ is time (usually in hours).\n",
    "\n",
    "What will the peak blood concentration be, and at what time?"
   ]
  },
  {
   "cell_type": "code",
   "execution_count": 1,
   "metadata": {},
   "outputs": [
    {
     "name": "stdout",
     "output_type": "stream",
     "text": [
      "IPython console for SymPy 1.11.1 (Python 3.9.16-64-bit) (ground types: python)\n",
      "\n",
      "These commands were executed:\n",
      ">>> from sympy import *\n",
      ">>> x, y, z, t = symbols('x y z t')\n",
      ">>> k, m, n = symbols('k m n', integer=True)\n",
      ">>> f, g, h = symbols('f g h', cls=Function)\n",
      ">>> init_printing()\n",
      "\n",
      "Documentation can be found at https://docs.sympy.org/1.11.1/\n",
      "\n"
     ]
    }
   ],
   "source": [
    "# Let's do some examples - first with my garden example\n",
    "from sympy import init_session\n",
    "init_session()\n",
    "\n",
    "D, alpha, beta = symbols('D alpha beta')"
   ]
  },
  {
   "cell_type": "code",
   "execution_count": 2,
   "metadata": {},
   "outputs": [
    {
     "data": {
      "image/png": "[encoded data removed]",
      "text/latex": [
       "$\\displaystyle - D \\alpha^{2} e^{- \\alpha t} - \\beta$"
      ],
      "text/plain": [
       "     2  -α⋅t    \n",
       "- D⋅α ⋅ℯ     - β"
      ]
     },
     "execution_count": 2,
     "metadata": {},
     "output_type": "execute_result"
    }
   ],
   "source": [
    "c = D*alpha*exp(-alpha*t) - beta*t\n",
    "diff(c, t)"
   ]
  },
  {
   "cell_type": "code",
   "execution_count": 3,
   "metadata": {},
   "outputs": [
    {
     "data": {
      "image/png": "[encoded data removed]",
      "text/latex": [
       "$\\displaystyle \\left[ \\frac{\\log{\\left(- \\frac{D \\alpha^{2}}{\\beta} \\right)}}{\\alpha}\\right]$"
      ],
      "text/plain": [
       "⎡   ⎛    2 ⎞⎤\n",
       "⎢   ⎜-D⋅α  ⎟⎥\n",
       "⎢log⎜──────⎟⎥\n",
       "⎢   ⎝  β   ⎠⎥\n",
       "⎢───────────⎥\n",
       "⎣     α     ⎦"
      ]
     },
     "execution_count": 3,
     "metadata": {},
     "output_type": "execute_result"
    }
   ],
   "source": [
    "solve(diff(c, t), t)"
   ]
  },
  {
   "cell_type": "markdown",
   "metadata": {},
   "source": [
    "### Another example:\n",
    "\n",
    "You just got hired by PPG Paint. You want to reduce the price of a can of paint (i.e., the metal) while still holding one gallon."
   ]
  },
  {
   "cell_type": "code",
   "execution_count": 4,
   "metadata": {},
   "outputs": [],
   "source": [
    "# Let's try another example, \n",
    "C, lam = symbols(\"C lam\", real=True) # we can't use lambda for our variable name because it's a Python function\n",
    "\n",
    "A0, r = symbols('A0 r', real=True)\n",
    "V = pi * r**2 * z\n",
    "g = A0 - 2*pi*r*(z+r)\n",
    "L = V - lam*g"
   ]
  },
  {
   "cell_type": "code",
   "execution_count": 5,
   "metadata": {},
   "outputs": [
    {
     "data": {
      "image/png": "[encoded data removed]",
      "text/latex": [
       "$\\displaystyle - lam \\left(- 2 \\pi r - 2 \\pi \\left(r + z\\right)\\right) + 2 \\pi r z$"
      ],
      "text/plain": [
       "-lam⋅(-2⋅π⋅r - 2⋅π⋅(r + z)) + 2⋅π⋅r⋅z"
      ]
     },
     "execution_count": 5,
     "metadata": {},
     "output_type": "execute_result"
    }
   ],
   "source": [
    "dr = diff(L, r)\n",
    "dr # print it"
   ]
  },
  {
   "cell_type": "code",
   "execution_count": 6,
   "metadata": {},
   "outputs": [
    {
     "data": {
      "image/png": "[encoded data removed]",
      "text/latex": [
       "$\\displaystyle 2 \\pi lam r + \\pi r^{2}$"
      ],
      "text/plain": [
       "               2\n",
       "2⋅π⋅lam⋅r + π⋅r "
      ]
     },
     "execution_count": 6,
     "metadata": {},
     "output_type": "execute_result"
    }
   ],
   "source": [
    "dz = diff(L, z)\n",
    "dz # print it"
   ]
  },
  {
   "cell_type": "code",
   "execution_count": 7,
   "metadata": {},
   "outputs": [
    {
     "data": {
      "image/png": "[encoded data removed]",
      "text/latex": [
       "$\\displaystyle \\left[ - \\frac{r}{2}\\right]$"
      ],
      "text/plain": [
       "⎡-r ⎤\n",
       "⎢───⎥\n",
       "⎣ 2 ⎦"
      ]
     },
     "execution_count": 7,
     "metadata": {},
     "output_type": "execute_result"
    }
   ],
   "source": [
    "# we can ask sympy to solve that for lambda\n",
    "# i.e. simplify 2π lambda * r = π r**2\n",
    "solve( diff(L, z), lam)"
   ]
  },
  {
   "cell_type": "code",
   "execution_count": 8,
   "metadata": {},
   "outputs": [
    {
     "data": {
      "image/png": "[encoded data removed]",
      "text/latex": [
       "$\\displaystyle \\pi r \\left(- 2 r + z\\right)$"
      ],
      "text/plain": [
       "π⋅r⋅(-2⋅r + z)"
      ]
     },
     "execution_count": 8,
     "metadata": {},
     "output_type": "execute_result"
    }
   ],
   "source": [
    "simplify( dr.subs(lam, (-r/2)) )"
   ]
  },
  {
   "cell_type": "markdown",
   "metadata": {},
   "source": [
    "If we set that to zero, we get:\n",
    "\n",
    "$$\n",
    "\\pi r z = 2 \\pi r^2\n",
    "$$\n",
    "\n",
    "Or:\n",
    "\n",
    "$$\n",
    "z = 2r\n",
    "$$\n",
    "\n",
    "Let's substitute that back into the constraint equation and get an expression for $A_0$:"
   ]
  },
  {
   "cell_type": "code",
   "execution_count": 9,
   "metadata": {},
   "outputs": [
    {
     "data": {
      "image/png": "[encoded data removed]",
      "text/latex": [
       "$\\displaystyle A_{0} - 6 \\pi r^{2}$"
      ],
      "text/plain": [
       "          2\n",
       "A₀ - 6⋅π⋅r "
      ]
     },
     "execution_count": 9,
     "metadata": {},
     "output_type": "execute_result"
    }
   ],
   "source": [
    "g.subs(z, (2*r))"
   ]
  },
  {
   "cell_type": "markdown",
   "metadata": {},
   "source": [
    "It's pretty easy to see:\n",
    "\n",
    "$$\n",
    "r = \\sqrt{\\frac{A_0}{6\\pi}}\n",
    "$$"
   ]
  },
  {
   "cell_type": "code",
   "execution_count": 10,
   "metadata": {},
   "outputs": [
    {
     "data": {
      "image/png": "[encoded data removed]",
      "text/latex": [
       "$\\displaystyle \\frac{\\sqrt{6} A_{0}^{\\frac{3}{2}}}{18 \\sqrt{\\pi}}$"
      ],
      "text/plain": [
       "     3/2\n",
       "√6⋅A₀   \n",
       "────────\n",
       " 18⋅√π  "
      ]
     },
     "execution_count": 10,
     "metadata": {},
     "output_type": "execute_result"
    }
   ],
   "source": [
    "V = pi * r**2 * (2*r)\n",
    "V.subs(r, (sqrt(A0/(6*pi))) )"
   ]
  },
  {
   "cell_type": "markdown",
   "metadata": {},
   "source": [
    "Not sure if that's exactly *simple* but clearly, we can solve for the maximum volume as a function of a constant surface area $A_0$.\n",
    "\n",
    "<div class=\"alert alert-block alert-success\">\n",
    "\n",
    "In short, the procedure for Lagrange multipliers goes something like this:\n",
    "- Specify the constraint as a function $g(x,y) = 0$\n",
    "- Construct the composite $\\mathcal{L} = f - \\lambda g$\n",
    "- Take the gradients / partial derivatives of $f(x,y)$ and $g(x,y)$ and start solving / simplifying\n",
    "\n",
    "</div>"
   ]
  },
  {
   "attachments": {},
   "cell_type": "markdown",
   "metadata": {},
   "source": [
    "-------\n",
    "This notebook is adapted from Prof. Geoffrey Hutchison, University of Pittsburgh\n",
    "https://github.com/ghutchis/chem1000\n",
    "\n",
    "<a rel=\"license\" href=\"http://creativecommons.org/licenses/by/4.0/\"><img alt=\"Creative Commons License\" style=\"border-width:0\" src=\"https://i.creativecommons.org/l/by/4.0/88x31.png\" /></a>"
   ]
  }
 ],
 "metadata": {
  "kernelspec": {
   "display_name": "course_book_II",
   "language": "python",
   "name": "python3"
  },
  "language_info": {
   "codemirror_mode": {
    "name": "ipython",
    "version": 3
   },
   "file_extension": ".py",
   "mimetype": "text/x-python",
   "name": "python",
   "nbconvert_exporter": "python",
   "pygments_lexer": "ipython3",
   "version": "3.9.16"
  },
  "toc": {
   "base_numbering": 1,
   "nav_menu": {},
   "number_sections": false,
   "sideBar": false,
   "skip_h1_title": false,
   "title_cell": "Table of Contents",
   "title_sidebar": "Contents",
   "toc_cell": false,
   "toc_position": {},
   "toc_section_display": false,
   "toc_window_display": false
  },
  "vscode": {
   "interpreter": {
    "hash": "3af2cce238079744ade4380fab4e623f56bf17adac44d2cac1f930dd9ee5f19a"
   }
  }
 },
 "nbformat": 4,
 "nbformat_minor": 4
}
