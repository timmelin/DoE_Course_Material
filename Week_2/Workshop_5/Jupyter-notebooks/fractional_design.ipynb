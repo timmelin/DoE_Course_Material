{
 "cells": [
  {
   "attachments": {},
   "cell_type": "markdown",
   "id": "a8696d6f",
   "metadata": {},
   "source": [
    "<a href=\"https://colab.research.google.com/github/Teoroo-CMC/DoE_Course_Material/blob/main/Week_2/Workshop_5/Jupyter-notebooks/fractional_design.ipynb\" target=\"_parent\"><img src=\"https://colab.research.google.com/assets/colab-badge.svg\" alt=\"Open In Colab\"/></a>"
   ]
  },
  {
   "attachments": {},
   "cell_type": "markdown",
   "id": "7e337631",
   "metadata": {},
   "source": [
    "#  Fractionating  2$^k$  Factorial Designs\n",
    "Motivation\n",
    "The prior section showed an example of what an experimental design might like look like for 6 variables. However, this resulted in a  26=64\n",
    "  experiment design campaign. This is potentially a major issue - if my experiments take 6 hours, and have to be staggered over working hours on weekdays, you're looking at almost 90 days turnaround time, assuming each experiment is carried out flawlessly. This is simply not a realistic view of experimentation.\n",
    "\n",
    "In addition, we saw that a three-coefficient model captured nearly as much detail as a 64-coefficient model. By reducing the number of input variables we looked at, we turned certain experiments into replicates (because the only thing changed bewteen them were insignificant variables or variable combinations).\n",
    "\n",
    "But we can halve or quarter our effort, and substantially improve our effectiveness in the lab, by carefully selecting experiments at each stage of the experiment to reveal a maximum amount of information, and avoiding as much as possible these kinds of duplicate experiments, through a fractional factorial design."
   ]
  },
  {
   "cell_type": "code",
   "execution_count": null,
   "id": "e4fd5c5a",
   "metadata": {},
   "outputs": [],
   "source": [
    "import pandas as pd\n",
    "import itertools\n",
    "import numpy as np\n",
    "import seaborn as sns\n",
    "import pylab\n",
    "\n",
    "import scipy.stats as stats\n",
    "import statsmodels.api as sm"
   ]
  },
  {
   "attachments": {},
   "cell_type": "markdown",
   "id": "28111ed7",
   "metadata": {},
   "source": [
    "After re-casting the problem in a general form, we begin with the experimental design matrix. If we were to construct the full factorial for our  2$^6$ factorial example, we would again have 64 rows in our experimental design matrix dataframe, corresponding to 64 experiments to run."
   ]
  },
  {
   "cell_type": "code",
   "execution_count": null,
   "id": "4fe9f68d",
   "metadata": {},
   "outputs": [],
   "source": [
    "column_labs = ['x%d'%(i+1) for i in range(6)]\n",
    "encoded_inputs = list( itertools.product([-1,1],[-1,1],[-1,1],[-1,1],[-1,1],[-1,1]) )\n",
    "\n",
    "# Create the experiment design table (same as the book):\n",
    "doe=pd.DataFrame(encoded_inputs)\n",
    "doe=doe[doe.columns[::-1]]\n",
    "doe.columns=['x%d'%(i+1) for i in range(6)]\n",
    "\n",
    "print(len(doe))"
   ]
  },
  {
   "attachments": {},
   "cell_type": "markdown",
   "id": "ac120070",
   "metadata": {},
   "source": [
    "## Design Matrix\n",
    "Let's talk a bit more about the design matrix. Each column of the design matrix corresponds to a unique coded input variable value (−1,+1). But each experiment also has a corresponding coded value for each two-variable interaction  x$_i$,x$_j$, and for each three-variable interaction  x$_k$,x$_m$,x$_n$, and so on.\n",
    "\n",
    "These interactions are simply the product of each coded variable value. For example, if\n",
    "\n",
    "\\begin{equation}\n",
    "x_1=−1 \\\\ \n",
    "\\end{equation}\n",
    "\n",
    "\\begin{equation}\n",
    "x_2=+1 \\\\\n",
    "\\end{equation}\n",
    "\n",
    "\\begin{equation}\n",
    "x_3=+1\n",
    "\\end{equation}\n",
    "\n",
    "then two-variable interaction effects can be computed as:\n",
    "\n",
    "\\begin{equation}\n",
    "x_{12}=−1\\times+1 = -1 \\\\\n",
    "\\end{equation}\n",
    "\n",
    "\\begin{equation}\n",
    "x_{13}=−1\\times+1 = −1 \\\\ \n",
    "\\end{equation}\n",
    "\n",
    "\\begin{equation}\n",
    "x_{23}=+1\\times+1 = +1 \\\\ \n",
    "\\end{equation}\n",
    "\n",
    "and three-variable interaction effects are:\n",
    "\n",
    "\\begin{equation}\n",
    "x_{123}=−1\\times−1\\times+1=+1\n",
    "\\end{equation}\n",
    "\n",
    "Now we can add new columns to our experimental design matrix dataframe, representing coded values for higher-order interaction effects:"
   ]
  },
  {
   "cell_type": "code",
   "execution_count": null,
   "id": "fcbfc8ec",
   "metadata": {},
   "outputs": [],
   "source": [
    "doe['x1-x2-x3-x4'] = doe.apply( lambda z : z['x1']*z['x2']*z['x3']*z['x4'] , axis=1)\n",
    "doe['x4-x5-x6']    = doe.apply( lambda z : z['x4']*z['x5']*z['x6'] , axis=1)\n",
    "doe['x2-x4-x5']    = doe.apply( lambda z : z['x2']*z['x4']*z['x5'] , axis=1)\n",
    "\n",
    "doe[0:10]"
   ]
  },
  {
   "attachments": {},
   "cell_type": "markdown",
   "id": "b3e84298",
   "metadata": {},
   "source": [
    "The multi-variable columns can be used to fractionate our design."
   ]
  },
  {
   "attachments": {},
   "cell_type": "markdown",
   "id": "dd952bfb",
   "metadata": {},
   "source": [
    "## Half Factorial\n",
    "Suppose we pick a high-order interaction effect at random - e.g., x$_1\\times$x$_2\\times$x$_3\\times$x$_4$ - and assume it will be unimportant. Our assumption allows us to cut out any experiments that are intended to give us information about the effect of  x$_1$x$_2$x$_3$x$_4$.\n",
    "\n",
    "For any two groups of experiments, if one group has\n",
    "\\begin{equation}\n",
    "x_1x_2x_3x_4=+1\n",
    "\\end{equation} \n",
    "\n",
    "and the other group has\n",
    "\\begin{equation}\n",
    "x_1x_2x_3x_4=−1\n",
    "\\end{equation} \n",
    " \n",
    "then based on our assumption that that interaction effect will be unimportant, one of those two groups can be thrown out.\n",
    "\n",
    "Fortuitously, the first time a variable is eliminated, no matter which variable it is, the number of experiments is cut in half. Further eliminations of variables continue to cut the number of experiments in half. So a six-factor experimental design could be whittled down as follows:\n",
    "\n",
    "Six-factor, two-level experiment design:\n",
    "\n",
    "- n=2,  k=6,  2$^6$ experimental design\n",
    "- Full factorial:  2$^6$=64 experiments\n",
    "- Half factorial:  2$^{6−1}$=32 experiments\n",
    "- $\\frac{1}{4}$ Fractional factorial:  2$^{6−2}$=16 experiments\n",
    "- $\\frac{1}{8}$ Fractional factorial:  2$^{6−3}$=8  experiments\n",
    "- $\\frac{1}{16}$ Fractional factorial:  2$^{6−4}$=4  experiments\n",
    "\n",
    "In general, for an n$^k$ experiment design (n factor, k level), a $\\frac{1}{2p}$ fractional factorial can be defined as:\n",
    "- $\\frac{1}{2p}$ Fractional factorial:  2$^{n−p}$  experiments\n",
    "\n",
    "Note that as the fractional factorial gets narrower, and the experiments get fewer, the number of aliased interaction effects gets larger, until not even interaction effects can be distinguished, but only main effects. (Screening designs, such as Plackett-Burman designs, are based on this idea of highly-fractionated experiment design; we'll get into that later.)\n",
    "\n",
    "For now, let's look at the half factorial: 32 experiments, with the reduction in varaibles coming from aliasing the interaction effect  x$_1$x$_2$x$_3$x$_4$: "
   ]
  },
  {
   "cell_type": "code",
   "execution_count": null,
   "id": "9ff76478",
   "metadata": {},
   "outputs": [],
   "source": [
    "print(len( doe[doe['x1-x2-x3-x4']==1] ))"
   ]
  },
  {
   "attachments": {},
   "cell_type": "markdown",
   "id": "f3166d82",
   "metadata": {},
   "source": [
    "## Costs and Benefits\n",
    "The benefits are obvious - we've halved the number of experiments our experiment design requires. But at what cost?\n",
    "\n",
    "The first 32 experiments, where  x$_1$x$_2$x$_3$x$_4$=+1, give us information at a positive level of that input variable combination. To get information at a negative level of that input variable combination (i.e.,  x$_1$x$_2$x$_3$x$_4$=−1\n",
    " ), we need 32 additional experiments.\n",
    "\n",
    "Our assumption is that changing x$_1$x$_2$x$_3$x$_4$ from high to low will have no effect on the observable y.\n",
    "\n",
    "This also modifies the information we get about higher-order interaction effects. For example, we've assumed:\n",
    "\\begin{equation}\n",
    "x_1x_2x_3x_4=+1\n",
    "\\end{equation}\n",
    " \n",
    "We can use this identity to figure out what information we're missing when we cut out the 32 experiments. Our assumption about the fourth-order interaction also changes fifth- and sixth-order interactions:\n",
    "\n",
    "\\begin{equation}\n",
    "(x_1x_2x_3x_4)=(+1) \\\\\n",
    "\\end{equation}\n",
    "\n",
    "\\begin{equation}\n",
    "(x_1x_2x_3x_4)x_5=(+1)x_5 \\\\\n",
    "\\end{equation}\n",
    "\n",
    "\\begin{equation}\n",
    "x_1x_2x_3x_4x_5=x_5\n",
    "\\end{equation}\n",
    "\n",
    "meaning the fifth-order interaction effect x$_1$x$_2$x$_3$x$_4$x$_5$ has been aliased with the first-order main effect x$_5$. This is a safe assumption since it is extremely unlikely that a fifth-order interaction effect could be confounded with a first-order main effect. We can derive other relations, using the fact that any factor squared is equivalent to (+1), so that:\n",
    "\n",
    "\\begin{equation}\n",
    "(x_1x_2x_3x_4)=+1 \\\\\n",
    "\\end{equation}\n",
    "\n",
    "\\begin{equation}\n",
    "(x_1x_2x_3x_4)x_1=(+1)x_1 \\\\\n",
    "\\end{equation}\n",
    "\n",
    "\\begin{equation}\n",
    "(x^2_1x_2x_3x_4)=(+1)x_1 \\\\\n",
    "\\end{equation}\n",
    "\n",
    "\\begin{equation}\n",
    "x_2x_3x_4=x_1 \n",
    "\\end{equation}\n",
    "\n",
    "The sequence of variables selected as the interaction effect to be used as the experimental design basis is called the generator, and is denoted $I$:\n",
    "\n",
    "\\begin{equation}\n",
    "I=x_1x_2x_3x_4\n",
    "\\end{equation}\n",
    " \n",
    "and we set $I$=+1 or $I$=−1."
   ]
  },
  {
   "cell_type": "code",
   "execution_count": null,
   "id": "0ca0090b",
   "metadata": {},
   "outputs": [],
   "source": [
    "# Defining multiple DOE matrices:\n",
    "\n",
    "# DOE 1 based on identity I = x1 x2 x3 x4 \n",
    "doe1 = doe[doe['x1-x2-x3-x4']==1]\n",
    "\n",
    "# DOE 2 based on identity I = x4 x5 x6\n",
    "doe2 = doe[doe['x4-x5-x6']==-1]\n",
    "\n",
    "# DOE 3 based on identity I = x2 x4 x5\n",
    "doe3 = doe[doe['x2-x4-x5']==-1]"
   ]
  },
  {
   "cell_type": "code",
   "execution_count": null,
   "id": "2386192a",
   "metadata": {},
   "outputs": [],
   "source": [
    "doe1[column_labs].T"
   ]
  },
  {
   "cell_type": "code",
   "execution_count": null,
   "id": "a5d398e4",
   "metadata": {},
   "outputs": [],
   "source": [
    "doe2[column_labs].T"
   ]
  },
  {
   "cell_type": "code",
   "execution_count": null,
   "id": "b1840fe3",
   "metadata": {},
   "outputs": [],
   "source": [
    "doe3[column_labs].T"
   ]
  },
  {
   "attachments": {},
   "cell_type": "markdown",
   "id": "2cdf79dd",
   "metadata": {},
   "source": [
    "Each of the dataframes above represents a different fractional factorial design."
   ]
  },
  {
   "attachments": {},
   "cell_type": "markdown",
   "id": "8e22e67e",
   "metadata": {},
   "source": [
    "## $\\frac{1}{4}$ Fractional Designs\n",
    "To further reduce the number of experiments, two identities can be used. The number of experiments is cut in half for each identity. We already have one identity,\n",
    "\\begin{equation}\n",
    "I=x_1x_2x_3x_4=+1\n",
    "\\end{equation}\n",
    "\n",
    "now let's define another one:\n",
    "\\begin{equation}\n",
    "I_2=x_4x_5x_6=1\n",
    "\\end{equation}\n",
    "\n",
    "Our resulting factorial matrix can be reduced the same way. In Python, we use the logical_and function to ensure our two conditions are satisfied."
   ]
  },
  {
   "cell_type": "code",
   "execution_count": null,
   "id": "9b050d72",
   "metadata": {},
   "outputs": [],
   "source": [
    "quarter_fractional_doe = doe[ np.logical_and( doe['x1-x2-x3-x4']==1, doe['x4-x5-x6']==1 ) ]\n",
    "print(\"Number of experiments: %d\"%(len(quarter_fractional_doe[column_labs])))\n",
    "quarter_fractional_doe[column_labs].T"
   ]
  },
  {
   "attachments": {},
   "cell_type": "markdown",
   "id": "5af8e688",
   "metadata": {},
   "source": [
    "With the quarter-fractional factorial design, what information do we lose? We know already which interaction effects are aliased with main effects:\n",
    "\n",
    "\\begin{equation}\n",
    "x_4x_5x_6=(+1) \\\\\n",
    "\\end{equation}\n",
    "\n",
    "\\begin{equation}\n",
    "(x_4x_5x_6)x_1=(+1)x_1 \\\\\n",
    "\\end{equation}\n",
    "\n",
    "\\begin{equation}\n",
    "x_1x_4x_5x_6=x_1 \\\\\n",
    "\\end{equation}\n",
    "\n",
    "\\begin{equation}\n",
    "x_2x_4x_5x_6=x_2 \\\\\n",
    "\\end{equation}\n",
    "\n",
    "\\begin{equation}\n",
    "x_3x_4x_5x_6=x_3 \n",
    "\\end{equation}\n",
    "\n",
    "We can use this information to design our experiments to cover particular interaction effects we know to be important, or ignore others we don't expect to be significant."
   ]
  }
 ],
 "metadata": {
  "kernelspec": {
   "display_name": "Python 3 (ipykernel)",
   "language": "python",
   "name": "python3"
  },
  "language_info": {
   "codemirror_mode": {
    "name": "ipython",
    "version": 3
   },
   "file_extension": ".py",
   "mimetype": "text/x-python",
   "name": "python",
   "nbconvert_exporter": "python",
   "pygments_lexer": "ipython3",
   "version": "3.9.7"
  }
 },
 "nbformat": 4,
 "nbformat_minor": 5
}
