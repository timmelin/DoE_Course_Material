{
 "cells": [
  {
   "attachments": {},
   "cell_type": "markdown",
   "id": "adf728c3",
   "metadata": {},
   "source": [
    "<a href=\"https://colab.research.google.com/github/Teoroo-CMC/DoE_Course_Material/blob/main/Week_2/Workshop_3/Jupyter-notebooks/DoE-2factor_full.ipynb\" target=\"_parent\"><img src=\"https://colab.research.google.com/assets/colab-badge.svg\" alt=\"Open In Colab\"/></a>"
   ]
  },
  {
   "cell_type": "code",
   "execution_count": null,
   "id": "f6fe2acb",
   "metadata": {},
   "outputs": [],
   "source": [
    "import pandas as pd\n",
    "import numpy as np\n",
    "from numpy.random import rand"
   ]
  },
  {
   "attachments": {},
   "cell_type": "markdown",
   "id": "7f7b0d5e",
   "metadata": {},
   "source": [
    "# Design of experiments \n",
    "\n",
    "Python implementation of the hardening of steel example in the lecture notes. "
   ]
  },
  {
   "attachments": {},
   "cell_type": "markdown",
   "id": "0d8ecb9a",
   "metadata": {},
   "source": [
    "## Two-level full factorial design\n",
    "The two-level full factorial design is done in stages. \n"
   ]
  },
  {
   "attachments": {},
   "cell_type": "markdown",
   "id": "cf139787",
   "metadata": {},
   "source": [
    "### 1. Define parameters and high and low levels. Put everything in a pandas dataframe.   "
   ]
  },
  {
   "cell_type": "code",
   "execution_count": null,
   "id": "0a9e1b5f",
   "metadata": {
    "scrolled": true
   },
   "outputs": [],
   "source": [
    "# create dictionary for parameters\n",
    "inputs_labels = {'S' : 'Steel Temperature',\n",
    "                 'T' : 'Oil Temperature',\n",
    "                 'C' : 'Carbon Level'}\n",
    "\n",
    "#create list of data for high and low. \n",
    "dat = [('S',830,910),\n",
    "        ('T',70,120),\n",
    "       ('C',0.5,0.7)]\n",
    "\n",
    "# create pandas dataframe in a pandas dataframe\n",
    "inputs_df = pd.DataFrame(dat,columns=['index','low','high'])\n",
    "inputs_df = inputs_df.set_index(['index'])\n",
    "inputs_df['label'] = inputs_df.index.map( lambda z : inputs_labels[z] )\n",
    "\n",
    "#print dataframe\n",
    "inputs_df"
   ]
  },
  {
   "attachments": {},
   "cell_type": "markdown",
   "id": "5c30c474",
   "metadata": {},
   "source": [
    "We encode the variable values. For an arbitrary variable value  $\\phi_i$, the value of the variable can be coded to be between -1 and 1 according to the formula:\n",
    "\n",
    "\\begin{equation}\n",
    "x_i = \\frac{\\phi_i-avg(\\phi)}{span(\\phi)}\n",
    "\\end{equation}\n",
    "\n",
    "where the average and the span of the variable $\\phi_i$ are defined as: \n",
    "\n",
    "\\begin{equation}\n",
    "avg(\\phi) = \\frac{\\phi_{high}+\\phi_{low}}{2}\n",
    "\\end{equation}\n",
    "\n",
    "\\begin{equation}\n",
    "span(\\phi) = \\frac{\\phi_{high}-\\phi_{low}}{2}\n",
    "\\end{equation}"
   ]
  },
  {
   "cell_type": "code",
   "execution_count": null,
   "id": "6cfc1837",
   "metadata": {},
   "outputs": [],
   "source": [
    "# compute averages and span\n",
    "inputs_df['average'] = inputs_df.apply( lambda z : ( z['high'] + z['low'])/2 , axis=1)\n",
    "inputs_df['span'] = inputs_df.apply( lambda z : ( z['high'] - z['low'])/2 , axis=1)\n",
    "\n",
    "# encode the data\n",
    "inputs_df['encoded_low'] = inputs_df.apply( lambda z : ( z['low']  - z['average'] )/( z['span'] ), axis=1)\n",
    "inputs_df['encoded_high'] = inputs_df.apply( lambda z : ( z['high'] - z['average'] )/( z['span'] ), axis=1)\n",
    "\n",
    "inputs_df = inputs_df.drop(['average','span'],axis=1)\n",
    "\n",
    "inputs_df"
   ]
  },
  {
   "attachments": {},
   "cell_type": "markdown",
   "id": "3a7829c1",
   "metadata": {},
   "source": [
    "The input variable values consist of all possible input value combinations, which we can produce using the itertools module:"
   ]
  },
  {
   "cell_type": "code",
   "execution_count": null,
   "id": "43fdd400",
   "metadata": {},
   "outputs": [],
   "source": [
    "import itertools\n",
    "encoded_inputs= list(itertools.product([-1,1],[-1,1],[-1,1]))\n",
    "encoded_inputs"
   ]
  },
  {
   "cell_type": "code",
   "execution_count": null,
   "id": "8666d97f",
   "metadata": {},
   "outputs": [],
   "source": [
    "results=pd.DataFrame(encoded_inputs)\n",
    "results=results[results.columns[::-1]]\n",
    "results.columns=['S','T','C']\n",
    "results"
   ]
  },
  {
   "attachments": {},
   "cell_type": "markdown",
   "id": "aa5fe5e0",
   "metadata": {},
   "source": [
    "Now we implement the observed outcomes (4 repetitions):"
   ]
  },
  {
   "attachments": {},
   "cell_type": "markdown",
   "id": "573703e8",
   "metadata": {},
   "source": [
    "The variable inputs_df contains all input variables for the expeirment design, and results_df contains the inputs and responses for the experiment design; these variables are the encoded levels. To obtain the original, unscaled values, which allows us to check what experiments must be run, we can always convert the dataframe back to its originals by defining a function to un-apply the scaling equation. This is as simple as finding"
   ]
  },
  {
   "cell_type": "code",
   "execution_count": null,
   "id": "e5868a8c",
   "metadata": {},
   "outputs": [],
   "source": [
    "real_experiment = results\n",
    "\n",
    "var_labels = []\n",
    "for var in ['S','T','C']:\n",
    "    var_label = inputs_df.loc[var]['label']\n",
    "    var_labels.append(var_label)\n",
    "    real_experiment[var_label] = results.apply(\n",
    "        lambda z : inputs_df.loc[var]['low'] if z[var]<0 else inputs_df.loc[var]['high'] , \n",
    "        axis=1)\n",
    "\n",
    "print(\"The values of each real variable in the experiment:\")\n",
    "real_experiment[var_labels]"
   ]
  },
  {
   "cell_type": "code",
   "execution_count": null,
   "id": "f519d864",
   "metadata": {},
   "outputs": [],
   "source": [
    "from mpl_toolkits.mplot3d import Axes3D\n",
    "import matplotlib.pyplot as plt\n",
    "\n",
    "plt.rcParams.update({'font.size': 16})\n",
    "# plot\n",
    "fig = plt.figure(figsize=(12, 8))\n",
    "ax = fig.add_subplot(111, projection='3d')\n",
    "ax.scatter3D(real_experiment['Steel Temperature'],\n",
    "             real_experiment['Oil Temperature'],\n",
    "             real_experiment['Carbon Level'],\n",
    "           s=200)\n",
    "ax.set_xlabel('Steel Temperature')\n",
    "ax.set_ylabel('Oil Temperature')\n",
    "ax.set_zlabel('Carbon Level');\n",
    "ax.view_init(30, 160)\n",
    "plt.show()"
   ]
  },
  {
   "attachments": {},
   "cell_type": "markdown",
   "id": "c8f0e355",
   "metadata": {},
   "source": [
    "## Perform experiments and add data to dataframe"
   ]
  },
  {
   "cell_type": "code",
   "execution_count": null,
   "id": "783cf615",
   "metadata": {},
   "outputs": [],
   "source": [
    "y=[67, 79, 59, 90, 61, 75, 52, 87]\n",
    "results['y']= y\n",
    "results"
   ]
  },
  {
   "attachments": {},
   "cell_type": "markdown",
   "id": "3b6e1aaf",
   "metadata": {},
   "source": [
    "# Computing main effects\n",
    "\n",
    "Now we compute the main effects of each variable using the results of the experimental design. We'll use some shorthand Pandas functions to compute these averages: the groupby function, which groups rows of a dataframe according to some condition (in this case, the value of our variable of interest  x$_i$ )."
   ]
  },
  {
   "cell_type": "code",
   "execution_count": null,
   "id": "c74e4191",
   "metadata": {},
   "outputs": [],
   "source": [
    "# Compute the mean effect of the factor on the response,\n",
    "# conditioned on each variable\n",
    "labels = ['S','T','C']\n",
    "\n",
    "main_effects = {}\n",
    "\n",
    "print('main effects')\n",
    "for key in labels:\n",
    "        average_effects = results.groupby(key)['y'].mean()\n",
    "        main_effects[key] = sum( [i*average_effects[i] for i in [-1,1]])\n",
    "print(main_effects)"
   ]
  },
  {
   "attachments": {},
   "cell_type": "markdown",
   "id": "d83a00b5",
   "metadata": {},
   "source": [
    "# Analyzing Main Effects\n",
    "The main effect of a given variable (as defined by Yates 1937) is the average difference in the level of response as the input variable moves from the low to the high level. If there are other variables, the change in the level of response is averaged over all combinations of the other variables.\n",
    "\n",
    "Now that we've computed the main effects, we can analyze the results to glean some meaningful information about our system. The first variable A has a negative effect of -1.65 - this indicates that when A goes from its low level to its high level, it decreases the value of the response. This means A should be increased, if we want an increased response. However, this effect was the smallest, meaning it's might have a very small effect on the response.\n",
    "\n",
    "This might be the case if, for example, changing the value of the input variables were capital-intensive. A company might decide that they can only afford to change one variable, A, B, or C. If this were the case, increasing A would not be the way to go.\n",
    "\n",
    "In contrast, increasing the variables B and C will result in an increase in the response, since these have a positive main effect. These variables should be kept at their higher levels, or increased, to increase the response."
   ]
  },
  {
   "attachments": {},
   "cell_type": "markdown",
   "id": "3a2128fb",
   "metadata": {},
   "source": [
    "## Two-Way Interactions\n",
    "In addition to main effects, a factorial design will also reveal interaction effects between variables - both two-way interactions and three-way interactions. We can use the itertools library to compute the interaction effects using the results from the factorial design.\n",
    "\n",
    "We'll use the Pandas groupby function again, grouping by two variables this time."
   ]
  },
  {
   "cell_type": "code",
   "execution_count": null,
   "id": "2355966b",
   "metadata": {},
   "outputs": [],
   "source": [
    "import itertools\n",
    "\n",
    "twoway_labels = list(itertools.combinations(labels, 2))\n",
    "\n",
    "\n",
    "twoway_effects = {}\n",
    "for key in twoway_labels:\n",
    "    \n",
    "    effects = results.groupby([key[0],key[1]])['y'].mean()\n",
    "    \n",
    "    twoway_effects[key] = sum([ i*j*effects[i][j]/2 for i in [-1,1] for j in [-1,1] ])\n",
    "twoway_effects"
   ]
  },
  {
   "attachments": {},
   "cell_type": "markdown",
   "id": "65a2ecc6",
   "metadata": {},
   "source": [
    "This one-liner is a bit hairy:\n",
    "\n",
    "```\n",
    "twoway_effects[key] = sum([ i*j*effects[i][j]/2 for i in [-1,1] for j in [-1,1] ])\n",
    "```\n",
    "\n",
    "What this does is, computes the two-way variable effect with a multi-step calculation, but does it with a list comprehension. \n",
    "\n",
    "First, let's just look at this part:\n",
    "\n",
    "```\n",
    "i*j*effects[i][j]/2 for i in [-1,1] for j in [-1,1]\n",
    "```\n",
    "This computes the prefix i*j, which determines if the interaction effect effects[i][j] is positive or negative. We're also looping over one additional dimension; we multiply by 1/2 for each additional dimension we loop over. These are all summed up to yield the final interaction effect for every combination of the input variables.\n",
    "\n",
    "If we were computing three-way interaction effects, we would have a similar-looking one-liner, but with i, j, and k:\n",
    "```\n",
    "i*j*k*effects[i][j][k]/4 for i in [-1,1] for j in [-1,1] for k in [-1,1]\n",
    "```"
   ]
  },
  {
   "attachments": {},
   "cell_type": "markdown",
   "id": "7834bc6a",
   "metadata": {},
   "source": [
    "## Analyzing Two-Way Interactions\n",
    "\n",
    "As with main effects, we can analyze the results of the interaction effects analysis to come to some useful conclusions about our physical system. A two-way interaction is a measure of how the main effect of one variable changes as the level of another variable changes. A negative two-way interaction between A and C means that if we increase  C, the main effect of A will be to decrease the response; or, alternatively, if we increase A, the main effect of C will be to decrease the response.\n",
    "\n",
    "In this case, we see that the B−C interaction effect is the largest, and it is positive. This means that if we increase both B and C, it will increase our response - make the equipment last longer. \n"
   ]
  },
  {
   "attachments": {},
   "cell_type": "markdown",
   "id": "d13f0e30",
   "metadata": {},
   "source": [
    "## Three-Way Interactions\n",
    "Now let's compute the three-way effects (in this case, we can only have one three-way effect, since we only have three variables). We'll start by using the itertools library again, to create a tuple listing the three variables whose interactions we're computing. Then we'll use the Pandas groupby() feature to partition each output according to its inputs, and use it to compute the three-way effects."
   ]
  },
  {
   "cell_type": "code",
   "execution_count": null,
   "id": "301d07e6",
   "metadata": {},
   "outputs": [],
   "source": [
    "import itertools\n",
    "\n",
    "threeway_labels = list(itertools.combinations(labels, 3))\n",
    "\n",
    "threeway_effects = {}\n",
    "for key in threeway_labels:\n",
    "    \n",
    "    effects = results.groupby([key[0],key[1],key[2]])['y'].mean()\n",
    "    \n",
    "    threeway_effects[key] = sum([ i*j*k*effects[i][j][k]/4 for i in [-1,1] for j in [-1,1] for k in [-1,1] ])\n",
    "\n",
    "threeway_effects"
   ]
  },
  {
   "cell_type": "code",
   "execution_count": null,
   "id": "79f9a7d9",
   "metadata": {},
   "outputs": [],
   "source": [
    "effects=[] #pd.DataFrame({})\n",
    "indexes=[]\n",
    "for i,k in enumerate(main_effects.keys()):\n",
    "    effects.append(abs(main_effects[k]))\n",
    "    indexes.append(k)\n",
    "for i,k in enumerate(twoway_effects.keys()):\n",
    "    effects.append(abs(twoway_effects[k]))\n",
    "    indexes.append(k)\n",
    "for i,k in enumerate(threeway_effects.keys()):\n",
    "    effects.append(abs(threeway_effects[k]))\n",
    "    indexes.append(k)    \n",
    "    \n",
    "effects_df=pd.DataFrame({\"Standardized effect\":effects})\n",
    "\n",
    "# reset the indexes\n",
    "effects_df.index=indexes\n",
    "# Sort values in descending order\n",
    "effects_df = effects_df.sort_values(by='Standardized effect', ascending=False)\n",
    "# Add cumulative percentage column\n",
    "effects_df[\"cum_percentage\"] = round(effects_df[\"Standardized effect\"].cumsum()/effects_df[\"Standardized effect\"].sum()*100,2)\n",
    "\n",
    "# Display data frame\n",
    "effects_df"
   ]
  },
  {
   "attachments": {},
   "cell_type": "markdown",
   "id": "6c1a004b",
   "metadata": {},
   "source": [
    "## Analysis of Three-Way Effects\n",
    "While three-way interactions are relatively rare, typically smaller, and harder to interpret, a negative three-way interaction esssentially means that increasing these variables, all together, will lead to interactions which lower the response (the lifespan of the equipment), and the opposite for positive values. This is esily visualized in a Pareto plot:"
   ]
  },
  {
   "cell_type": "code",
   "execution_count": null,
   "id": "302a12b7",
   "metadata": {
    "scrolled": false
   },
   "outputs": [],
   "source": [
    "import matplotlib.pyplot as plt\n",
    "from matplotlib.ticker import PercentFormatter\n",
    "plt.rcParams.update({'font.size': 22})\n",
    "# Set figure and axis\n",
    "fig, ax = plt.subplots(figsize=(22,10))\n",
    "\n",
    "# Plot bars (i.e. frequencies)\n",
    "ax.set_title(\"Pareto Chart\")\n",
    "ax.set_xlabel(\"Parameter\")\n",
    "ax.set_ylabel(\"Frequency\");\n",
    "effects_df.plot.bar(y='Standardized effect', ax=ax)\n",
    "ax.axhline(2.06, color=\"orange\", linestyle=\"dashed\")\n",
    "\n",
    "# Second y axis (i.e. cumulative percentage)\n",
    "ax2 = ax.twinx()\n",
    "#ax2.plot(effects_df.index, effects_df[\"cum_percentage\"], color=\"red\", marker=\"D\", ms=7)\n",
    "effects_df.plot(y=\"cum_percentage\", color=\"red\", marker=\"D\", ms=7, ax=ax2)\n",
    "ax2.yaxis.set_major_formatter(PercentFormatter())\n",
    "ax2.set_ylabel(\"Cumulative Percentage\");"
   ]
  },
  {
   "attachments": {},
   "cell_type": "markdown",
   "id": "e3174a44",
   "metadata": {},
   "source": [
    "However, looking at the quantile-quantile plot of the effects answers the question in a more visual way.\n",
    "\n",
    "## Quantile-Quantile Effects Plot\n",
    "We can examine the distribution of the various input variable effects using a quantile-quantile plot of the effects. Quantile-quantile plots arrange the effects in order from least to greatest, and can be applied in several contexts (as we'll see below, when assessing model fits). If the quantities plotted on a quantile-qantile plot are normally distributed, they will fall on a straight line; data that do not fall on the straight line indicate significant deviations from normal behavior.\n",
    "\n",
    "In the case of a quantile-quantile plot of effects, non-normal behavior means the effect is paticularly strong. By identifying the outlier points on thse quantile-quantile plots (they're ranked in order, so they correspond to the lists printed above), we can identify the input variables most likely to have a strong impact on the responses.\n",
    "\n",
    "We need to look both at the top (the variables that have the largest overall positive effect) and the bottom (the variables that have the largest overall negative effect) for significant outliers. When we find outliers, we can add them to a list of variabls that we have decided are important and will keep in our analysis."
   ]
  },
  {
   "cell_type": "code",
   "execution_count": null,
   "id": "6ddfd167",
   "metadata": {},
   "outputs": [],
   "source": [
    "from matplotlib.pyplot import *\n",
    "import scipy.stats as stats\n",
    "import statsmodels.api as sm\n",
    "fig = figure(figsize=(4,4))\n",
    "\n",
    "\n",
    "stats.probplot(effects_df[\"Standardized effect\"], dist=\"norm\", plot=plt)\n",
    "\n",
    "#sm.qqplot(effects_df[\"Standardized effect\"],line ='45')"
   ]
  },
  {
   "attachments": {},
   "cell_type": "markdown",
   "id": "74c4edac",
   "metadata": {},
   "source": [
    "# Fitting a Polynomial Response Surface\n",
    "While identifying general trends and the effects of different input variables on a system response is useful, it's more useful to have a mathematical model for the system. The factorial design we used is designed to get us coefficients for a linear model  $\\hat{y}$ that is a linear function of input variables x$_i$, and that predicts the actual system response  y:\n",
    "\n",
    "\\begin{equation}\n",
    "\\hat{y}=a_0+a_1x_1+a_2x_2+a_3x_3+a_{12}x_1x_2+a_{13}x_1x_3+a_{23}x_2x_3+a_{123}x_1x_2x_3\n",
    "\\end{equation} \n",
    "\n",
    "To determine these coefficients, we can obtain the effects we computed above. When we computed effects, we defined them as measuring the difference in the system response that changing a variable from -1 to +1 would have. Because this quantifies the change per two units of x, and the coefficients of a polynomial quantify the change per one unit of x, the effect must be divided by two."
   ]
  },
  {
   "cell_type": "code",
   "execution_count": null,
   "id": "15fc6ce1",
   "metadata": {},
   "outputs": [],
   "source": [
    "s = \"yhat = \"\n",
    "\n",
    "s += \"%0.3f \"%(results['y'].mean())\n",
    "\n",
    "for i,k in enumerate(main_effects.keys()):\n",
    "    if(main_effects[k]<0):\n",
    "        s += \"%0.3f %s \"%(main_effects[k]/2.0, k )\n",
    "    else:\n",
    "        s += \"+ %0.3f %s \"%(main_effects[k]/2.0, k )\n",
    "\n",
    "for i,k in enumerate(twoway_effects.keys()):\n",
    "    if(twoway_effects[k]<0):\n",
    "        s += \" %0.3f %s %s\"%( twoway_effects[k]/2.0, k[0],k[1])\n",
    "    else:\n",
    "        s += \"+ %0.3f %s %s\"%( twoway_effects[k]/2.0, k[0],k[1])\n",
    "\n",
    "for i,k in enumerate(threeway_effects.keys()):\n",
    "    if(threeway_effects[k]<0):\n",
    "        s += \" %0.3f %s %s %s\"%( threeway_effects[k]/2.0, k[0],k[1], k[2])\n",
    "    else:\n",
    "        s += \"+ %0.3f %s %s %s\"%( threeway_effects[k]/2.0, k[0],k[1], k[2])\n",
    "\n",
    "\n",
    "print(s)"
   ]
  }
 ],
 "metadata": {
  "kernelspec": {
   "display_name": "Python 3 (ipykernel)",
   "language": "python",
   "name": "python3"
  },
  "language_info": {
   "codemirror_mode": {
    "name": "ipython",
    "version": 3
   },
   "file_extension": ".py",
   "mimetype": "text/x-python",
   "name": "python",
   "nbconvert_exporter": "python",
   "pygments_lexer": "ipython3",
   "version": "3.9.16"
  }
 },
 "nbformat": 4,
 "nbformat_minor": 5
}
